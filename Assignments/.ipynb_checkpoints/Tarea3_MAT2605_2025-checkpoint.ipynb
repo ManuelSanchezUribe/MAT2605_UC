{
 "cells": [
  {
   "cell_type": "markdown",
   "id": "39ed4998-aac8-4a2f-ada0-fea0e1ca0c6d",
   "metadata": {},
   "source": [
    "<div class=\"alert alert-block alert-info\"> \n",
    "    <center><h1 \"> Tarea 3: Cálculo Científico I - MAT2605</h1> </center>\n",
    "</div>\n",
    "    <!-- <b></b>     -->\n",
    "    <h4 style=\"color:#173F8A;;text-align:right;\"> Profesor: Manuel A. Sánchez<br> Ayudantes: Diego Vera, Tomás Malfetano <br></h4>\n",
    "\n",
    "<!-- \n",
    "<div class=\"alert alert-block alert-success\"> Use green boxes sparingly, and only for some specific purpose that the other boxes can't cover. For example, if you have a lot of related content to link to, maybe you decide to use green boxes for related links from each section of a notebook. </div>\n",
    "\n",
    "<div class=\"alert alert-block alert-warning\"> Use yellow boxes for examples that are not inside code cells, or use for mathematical formulas if needed. </div>\n",
    "\n",
    "<div class=\"alert alert-block alert-danger\"> In general, just avoid the red boxes. </div>\n",
    "\n",
    "############# Markdown parser in Sphinx ##################\n",
    "\n",
    "<div class=\"admonition note\"> <p class=\"admonition-title\">Note</p> <p>You should note that the title will be automatically capitalized.</p> </div>\n",
    "\n",
    "<div class=\"admonition danger\"> <p class=\"admonition-title\">Don't try this at home</p> <p>...</p> </div>\n",
    " -->\n",
    "<!-- <div class=\"admonition important\"> <p>This is an admonition box without a title.</p> </div> -->"
   ]
  },
  {
   "cell_type": "markdown",
   "id": "fbe11c4e-0b75-444b-9f1a-eb41b31a4218",
   "metadata": {},
   "source": [
    "<div class=\"alert alert-block alert-success\"> <b> Nombre de estudiante: </b> INCLUIR NOMBRE EN LA ENTREGA DE RESPUESTAS</div>\n"
   ]
  },
  {
   "cell_type": "markdown",
   "id": "bc6cf246-438e-439c-9688-2fb5335f37ca",
   "metadata": {},
   "source": [
    "<div class=\"alert alert-block alert-info\"> <b> Problema 1. Métodos iterativos (teorica)</b> </div>\n",
    "a)  Para cada uno de los siguiente encuentre una matriz $A$ que satisface la condición\n",
    "- El método de Jacobi converge para $A$ pero no converge el método SOR.\n",
    "- El método de SOR converge para $A$ pero no converge el método de Gaus-Seidel.\n",
    "- El método de SOR converge para $A$ pero no converge el método de Jacobi.\n",
    "Justifique su elección apropiadamente.\n",
    "\n",
    "b) Sean las matrices\n",
    "$$\n",
    "A = \\begin{bmatrix} a & c & 0 \\\\ c & a & c \\\\ 0 & c & a \\end{bmatrix}, \\quad\n",
    "B = \\begin{bmatrix} 0 & b & 0 \\\\ b & 0 & b \\\\ 0 & b & 0 \\end{bmatrix},\n",
    "$$\n",
    "- Probar que $\\lim_{n\\to\\infty} B^n = 0$, si y sólo su $|b|<\\sqrt{2}/2$.\n",
    "- Dar condiciones necesarias y suficientes sobre $a,c$ reales, para la convergencia de los métodos de Jacobi y Gauss-Seidel aplicados a la resolución de $Ax = v$.\n"
   ]
  },
  {
   "cell_type": "markdown",
   "id": "ff70f6ae-27ac-454b-8f3c-773205c1a09b",
   "metadata": {},
   "source": [
    "<div class=\"alert alert-block alert-success\"> <b> Solución. </b> </div>"
   ]
  },
  {
   "cell_type": "markdown",
   "id": "e3185046-3b96-4c82-9e5d-90fcaba8931c",
   "metadata": {},
   "source": [
    "<div class=\"alert alert-block alert-info\"> <b> Problema 2. Métodos iterativos (práctica)</b> </div>\n",
    "Sea $A\\in \\mathbb R^{n\\times n}$ dada por\n",
    "\\begin{equation*}\n",
    "A = \n",
    "\\begin{pmatrix}\n",
    "2 & -1 & 0 & \\ldots & 0 \\\\\n",
    "-1& 2 & -1 &\\ddots & \\vdots\\\\\n",
    "0 & \\ddots & \\ddots & \\ddots & 0\\\\\n",
    "\\vdots & \\ddots & -1 &2& -1 \\\\\n",
    "0 & \\ldots & 0 & -1 & 2\n",
    "\\end{pmatrix}\n",
    "\\end{equation*}\n",
    "y la matriz de Hilbert  $H_n\\in \\mathbb R^{n\\times n}$ definida por \n",
    "$$\n",
    "(H_{n})_{i,j} = \\frac{1}{i+j-1}, \\qquad \\text{para } i,j=1,...,n. \n",
    "$$\n",
    "\n",
    "Programe los métodos iterativos de Jacobi, Gauss-Seidel y SOR y calcule para $n=10$ la solución de los sistemas lineales con $b = (1,...,1)^T\\in \\mathbb R^{10}$, e iniciando con $x^{(0)} = b$.\n",
    "Dada la tolerancia $10^{-12}$ registre en un tabla el número de iteraciones de cada uno de los métodos. Comente sus resultados."
   ]
  },
  {
   "cell_type": "markdown",
   "id": "f1f6e2a2-fc8f-4c29-a1f1-dff12dfc198d",
   "metadata": {},
   "source": [
    "<div class=\"alert alert-block alert-success\"> <b> Solución. </b> </div>"
   ]
  },
  {
   "cell_type": "markdown",
   "id": "f49330f8-1799-4b75-8026-8a49ec6e225e",
   "metadata": {},
   "source": [
    "<div class=\"alert alert-block alert-info\"> <b> Problema 3. Iteracion de potencia, inversa y cociente de Rayleigh (teorico)</b> </div>\n",
    "Suponga que una matriz diagonalizable que tiene un par $\\lambda_1, \\lambda_2$ de valores propios dominantes con signo opuesto, esto es, $\\lambda_1=-\\lambda_2$, y $|\\lambda_1|>|\\lambda_i|$, para $i>2$. \n",
    "Explique como se puede obtener una aproximación usando la iteración de potencia a los dos vectores propios correspondientes."
   ]
  },
  {
   "cell_type": "markdown",
   "id": "3c846515-9425-4e6b-a67e-6fa83566ff5e",
   "metadata": {},
   "source": [
    "<div class=\"alert alert-block alert-success\"> <b> Solución. </b> </div>"
   ]
  },
  {
   "cell_type": "markdown",
   "id": "058ca2d9-32c7-43af-b825-8e69a18629b3",
   "metadata": {},
   "source": [
    "<div class=\"alert alert-block alert-info\"> <b> Problema 4. Iteracion de potencia, inversa y cuociente de Rayleigh (practico)</b> </div>\n",
    "\n",
    "Considere la matriz \n",
    "\\begin{equation}\n",
    "A(\\alpha) = \n",
    "\\begin{pmatrix}\n",
    "\\alpha & 2 & 3 & 13\\\\\n",
    "5 & 11 & 10 & 8 \\\\\n",
    "9 & 7 & 6 & 12 \\\\\n",
    "4 & 14 & 15 & 1\n",
    "\\end{pmatrix}\n",
    "\\end{equation}\n",
    "para $\\alpha \\in \\mathbb R$. Calcule, para $\\alpha = 30$ y $\\alpha = -30$, los valores propios con  mayor y menor modulo utilizando:\n",
    "\n",
    "- El método de la potencia con vector inicial $(1,1,1,1)^T$ y la iteraci\\'on inversa con $\\mu$ el centro del c\\'irculo de Gershgorin correspondiente.\n",
    "- El método de la potencia con cociente de Rayleigh.\n",
    "\n",
    "Registre el número de iteraciones en ambos casos y compárelos. Comente sus resultados. "
   ]
  },
  {
   "cell_type": "markdown",
   "id": "d7dc335b-e61a-424c-b575-a4553b829f79",
   "metadata": {},
   "source": [
    "<div class=\"alert alert-block alert-success\"> <b> Solución. </b> </div>"
   ]
  },
  {
   "cell_type": "code",
   "execution_count": null,
   "id": "9d5f8feb-6e85-425e-ba7f-5f4ef3744a3f",
   "metadata": {},
   "outputs": [],
   "source": []
  }
 ],
 "metadata": {
  "kernelspec": {
   "display_name": "Python 3 (ipykernel)",
   "language": "python",
   "name": "python3"
  },
  "language_info": {
   "codemirror_mode": {
    "name": "ipython",
    "version": 3
   },
   "file_extension": ".py",
   "mimetype": "text/x-python",
   "name": "python",
   "nbconvert_exporter": "python",
   "pygments_lexer": "ipython3",
   "version": "3.10.11"
  }
 },
 "nbformat": 4,
 "nbformat_minor": 5
}

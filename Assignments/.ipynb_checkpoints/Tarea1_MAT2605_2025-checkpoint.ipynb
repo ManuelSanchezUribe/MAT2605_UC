{
 "cells": [
  {
   "cell_type": "markdown",
   "id": "86466be0-8da9-4e6a-9def-4a7966a1c3f9",
   "metadata": {},
   "source": [
    "<div class=\"alert alert-block alert-info\"> \n",
    "    <center><h1 \"> Tarea 1: Cálculo Científico I - MAT2605</h1> </center>\n",
    "</div>\n",
    "    <!-- <b></b>     -->\n",
    "    <h4 style=\"color:#173F8A;;text-align:right;\"> Profesor: Manuel A. Sánchez<br> Ayudantes: Diego Vera, Tomás Malfetano <br></h4>\n",
    "\n",
    "<!-- \n",
    "<div class=\"alert alert-block alert-success\"> Use green boxes sparingly, and only for some specific purpose that the other boxes can't cover. For example, if you have a lot of related content to link to, maybe you decide to use green boxes for related links from each section of a notebook. </div>\n",
    "\n",
    "<div class=\"alert alert-block alert-warning\"> Use yellow boxes for examples that are not inside code cells, or use for mathematical formulas if needed. </div>\n",
    "\n",
    "<div class=\"alert alert-block alert-danger\"> In general, just avoid the red boxes. </div>\n",
    "\n",
    "############# Markdown parser in Sphinx ##################\n",
    "\n",
    "<div class=\"admonition note\"> <p class=\"admonition-title\">Note</p> <p>You should note that the title will be automatically capitalized.</p> </div>\n",
    "\n",
    "<div class=\"admonition danger\"> <p class=\"admonition-title\">Don't try this at home</p> <p>...</p> </div>\n",
    " -->\n",
    "<!-- <div class=\"admonition important\"> <p>This is an admonition box without a title.</p> </div> -->"
   ]
  },
  {
   "cell_type": "markdown",
   "id": "6f6b62e8-4e7b-43db-ac2e-514d58b88099",
   "metadata": {},
   "source": [
    "<div class=\"alert alert-block alert-success\"> <b> Nombre de estudiante: </b> INCLUIR NOMBRE EN LA ENTREGA DE RESPUESTAS</div>\n"
   ]
  },
  {
   "cell_type": "markdown",
   "id": "69a8184d-dfaf-4f0b-87f2-9fa4cc762876",
   "metadata": {},
   "source": [
    "<div class=\"alert alert-block alert-info\"> <b> Problema 1. Floating Point Arithmetic </b> </div>\n",
    "a) Utilice el metodo de redondeo y encuentre el número de máquina mas cercano a $5, \\pi, 0$ en: \n",
    "- base 10 y con 4 dígitos de precisión y truncamiento,\n",
    "- base 2 y con 8 dígitos de precisión y truncamiento. \n",
    "\n",
    "b) Considere la definición de punto flotante es equivalente a: $fl(x) = x(1+\\epsilon)$,  con $|\\epsilon|\\leq \\epsilon_{\\texttt{maquina}}$.\n",
    "\n",
    "Sea el problema $f$ correspondiente a la suma de n\\'umeros reales, es decir $f(x_1,x_2) = x_1 + x_2$, y consideremos el algoritmo $\\tilde{f}$ que calcula\n",
    "\\begin{equation*}\n",
    "\\tilde{f}(x_1,x_2) = \\mbox{fl}(x_1) \\oplus \\mbox{fl}(x_2).\n",
    "\\end{equation*}\n",
    "Demuestre que \n",
    "\\begin{equation*}\n",
    "\\frac{| f(x_1,x_2) - \\tilde{f} (x_1,x_2) | }{ | f(x_1,x_2) |} \\leq 2\\epsilon +\\epsilon^2.\n",
    "\\end{equation*}\n",
    "Similarmente derive un estimado para el problema de la resta de 2 números reales. Comente su resultado.\n"
   ]
  },
  {
   "cell_type": "markdown",
   "id": "db291ba5-de64-44de-93aa-5abb3871ab5a",
   "metadata": {},
   "source": [
    "<div class=\"alert alert-block alert-success\"> <b> Solución. </b> </div>"
   ]
  },
  {
   "cell_type": "markdown",
   "id": "2ec538ec-7ad1-4497-af6e-655bb309a685",
   "metadata": {},
   "source": [
    "<div class=\"alert alert-block alert-info\"> <b> Problema 2. Funciones de Bessel</b> </div>\n",
    "Las funciones de Bessel $J_n$ están definidas por\n",
    "\\begin{equation*}\n",
    "J_n(x) = \\frac{1}{\\pi}\\int_{0}^{\\pi} \\cos(x \\sin(\\theta) - n \\theta ) d\\theta. \n",
    "\\end{equation*}\n",
    "Además estas satisfacen la relación de recurrencia \n",
    "\\begin{equation*}\n",
    "J_{n+1}(x) = \\frac{2n}{x}J_n(x) - J_{n-1}(x).\n",
    "\\end{equation*} \n",
    "Primero pruebe que $|J_n(x)|\\leq 1$. Luego considerando los valores estimados $J_0(1) \\approx 0,7651976865$ y $J_1(1) \\approx 0,4400505857$ \n",
    "hacer un programa que calcule $J_2(1), J_3(1), . . . , J_{10}(1)$. Observe si la condici\\'on $|J_n(x)| \\leq 1$ se satisface y comente acerca de esto.\n"
   ]
  },
  {
   "cell_type": "markdown",
   "id": "8a799e07-8aa9-43f2-b302-fd7eb9388d8d",
   "metadata": {},
   "source": [
    "<div class=\"alert alert-block alert-success\"> <b> Solución. </b> </div>"
   ]
  },
  {
   "cell_type": "markdown",
   "id": "7e7bf8fe-2a4a-4a0c-a8a8-e52a77b36279",
   "metadata": {},
   "source": [
    "<div class=\"alert alert-block alert-info\"> <b> Problema 3. Algortimo para cálculo de $\\pi$. </b> </div>\n",
    "A continuación describimos un algoritmo para calcular $\\pi$.\n",
    "Comenzar inicializando las variables $a, b, c, d, e$ del siguiente modo: \n",
    "$a = 0, b = 1, c = 1/\\sqrt{2}, d= 1/4, e= 1$. Luego, iterar $n$ veces en el orden dado las siguientes formulas:\n",
    "\\begin{equation*}\n",
    "a=b, \\quad b= \\frac{b+c}{2},\\quad  c=\\sqrt{ca},\\quad d=d-e(b-a)^2,\\quad e=2e.\n",
    "\\end{equation*}\n",
    "Finalmente, el valor de $\\pi$ puede estimarse por $f = b^{2}/d$, o por $g = (b+c)^{2}/(4d)$.\n",
    "\n",
    "Escriba un pseudocódigo del algoritmo siguiendo el formato visto en clases. Luego programe el algoritmo para calcular los valores de $\\pi$ estimados por $f$ y $g$ cuando $n = 1,2,..., 10$. ¿Que estimación converge más rápido? Reporte el error para cada iteraci\\'on comparando con el valor de $\\pi$ con 36 d\\'igitos\n",
    "$$\n",
    "\\pi = 3,14159265358979323846264338327950288.\n",
    "$$\n"
   ]
  },
  {
   "cell_type": "markdown",
   "id": "f64cf4ac-f806-4876-8e3d-a1adbeb6c4f0",
   "metadata": {},
   "source": [
    "<div class=\"alert alert-block alert-success\"> <b> Solución. </b> </div>"
   ]
  },
  {
   "cell_type": "markdown",
   "id": "fbae3483-ca79-480c-875d-a071345cdfc4",
   "metadata": {},
   "source": [
    "<div class=\"alert alert-block alert-info\"> <b> Problema 4. Eliminación Gaussiana - matriz de Hilbert. </b> </div>\n",
    "Programe el método de eliminación Gaussiana sin pivoteo para resolver el sistema lineal $ Ax = b$.  Luego adapte el programa u observe como calcular $A^{-1}$. \n",
    "Testee el programa calculando la inversa de la matriz de Hilbert $H_9$. La matriz de Hilbert $H_n\\in \\mathbb R^{n\\times n}$ se define  por\n",
    "\\[\n",
    "(H_{n})_{i,j} = \\frac{1}{i+j-1}\n",
    "\\]\n",
    "para $i,j=1,...,n$. "
   ]
  },
  {
   "cell_type": "markdown",
   "id": "162b213a-6800-4844-b10a-a61213393aff",
   "metadata": {},
   "source": [
    "<div class=\"alert alert-block alert-success\"> <b> Solución. </b> </div>"
   ]
  },
  {
   "cell_type": "code",
   "execution_count": null,
   "id": "a26770c9-d2bd-46bd-9ed0-7abee01e8493",
   "metadata": {},
   "outputs": [],
   "source": []
  }
 ],
 "metadata": {
  "kernelspec": {
   "display_name": "Python 3 (ipykernel)",
   "language": "python",
   "name": "python3"
  },
  "language_info": {
   "codemirror_mode": {
    "name": "ipython",
    "version": 3
   },
   "file_extension": ".py",
   "mimetype": "text/x-python",
   "name": "python",
   "nbconvert_exporter": "python",
   "pygments_lexer": "ipython3",
   "version": "3.10.11"
  }
 },
 "nbformat": 4,
 "nbformat_minor": 5
}

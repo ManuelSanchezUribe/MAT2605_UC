{
 "cells": [
  {
   "cell_type": "markdown",
   "id": "2a8b47e1-1378-431a-8ba2-ddea278b71fc",
   "metadata": {},
   "source": [
    "<div class=\"alert alert-block alert-info\"> \n",
    "    <center><h1 \"> Tarea 2: Cálculo Científico I - MAT2605</h1> </center>\n",
    "</div>\n",
    "    <!-- <b></b>     -->\n",
    "    <h4 style=\"color:#173F8A;;text-align:right;\"> Profesor: Manuel A. Sánchez<br> Ayudantes: Diego Vera, Tomás Malfetano <br></h4>\n",
    "\n",
    "<!-- \n",
    "<div class=\"alert alert-block alert-success\"> Use green boxes sparingly, and only for some specific purpose that the other boxes can't cover. For example, if you have a lot of related content to link to, maybe you decide to use green boxes for related links from each section of a notebook. </div>\n",
    "\n",
    "<div class=\"alert alert-block alert-warning\"> Use yellow boxes for examples that are not inside code cells, or use for mathematical formulas if needed. </div>\n",
    "\n",
    "<div class=\"alert alert-block alert-danger\"> In general, just avoid the red boxes. </div>\n",
    "\n",
    "############# Markdown parser in Sphinx ##################\n",
    "\n",
    "<div class=\"admonition note\"> <p class=\"admonition-title\">Note</p> <p>You should note that the title will be automatically capitalized.</p> </div>\n",
    "\n",
    "<div class=\"admonition danger\"> <p class=\"admonition-title\">Don't try this at home</p> <p>...</p> </div>\n",
    " -->\n",
    "<!-- <div class=\"admonition important\"> <p>This is an admonition box without a title.</p> </div> -->"
   ]
  },
  {
   "cell_type": "markdown",
   "id": "f701d754-b309-40d8-9e52-b63d38ec9bbc",
   "metadata": {},
   "source": [
    "<div class=\"alert alert-block alert-success\"> <b> Nombre de estudiante: </b> INCLUIR NOMBRE EN LA ENTREGA DE RESPUESTAS</div>\n"
   ]
  },
  {
   "cell_type": "markdown",
   "id": "e4923c48-b5c5-4808-af86-62a19463a3d2",
   "metadata": {},
   "source": [
    "<div class=\"alert alert-block alert-info\"> <b> Problema 1. Descomposicion de Cholesky </b> </div>\n",
    "\n",
    "a) Escriba un algoritmo (pseudo-algoritmo) para resolver el sistema lineal $Ax=b$, para $A\\in \\mathbb R^{n\\times n}$ simétrica y definida positiva y $b\\in \\mathbb R^{n}$ usando la descomposición de Cholesky $A=L L ^\\top$. Escriba el pseudoalgoritmo que calcula la descomposición.\n",
    "\n",
    "b) Calcule el número de operaciones de floating point del algoritmo y compárelo con el número de operaciones de eliminación Gaussiana.\n",
    "\n",
    "c) Programe los algoritmos anteriores y resuelva los sistemas lineales asociados a las matrices $A\\in \\mathbb R^{n\\times n}$ dadas por:\n",
    "$$\n",
    "A = \\begin{bmatrix}\n",
    "2 & -1 & 0 & \\cdots & 0 \\\\\n",
    "-1 & 2 & -1 & \\ddots & \\vdots \\\\\n",
    "\\end{bmatrix}\n",
    "$$"
   ]
  },
  {
   "cell_type": "markdown",
   "id": "5b580e66-3cc3-44d9-9465-ef0a77602af8",
   "metadata": {},
   "source": [
    "<div class=\"alert alert-block alert-success\"> <b> Solución. </b> </div>"
   ]
  },
  {
   "cell_type": "markdown",
   "id": "2b0f373a-e122-4ec3-b8f2-8047cdad6e1b",
   "metadata": {},
   "source": [
    "<div class=\"alert alert-block alert-info\"> <b> Problema 2. Numero de condicion </b> </div>\n",
    "\n"
   ]
  },
  {
   "cell_type": "markdown",
   "id": "1b4c2668-b8b0-4757-8a68-33a9123ceb8c",
   "metadata": {},
   "source": [
    "<div class=\"alert alert-block alert-success\"> <b> Solución. </b> </div>"
   ]
  },
  {
   "cell_type": "markdown",
   "id": "73fb148b-590a-43ad-8166-d2f2d13ffce1",
   "metadata": {},
   "source": [
    "<div class=\"alert alert-block alert-info\"> <b> Problema 3. __ </b> </div>\n",
    "\n"
   ]
  },
  {
   "cell_type": "markdown",
   "id": "a073e4f3-a1e8-4c6e-aea4-da23a1de8622",
   "metadata": {},
   "source": [
    "<div class=\"alert alert-block alert-success\"> <b> Solución. </b> </div>"
   ]
  },
  {
   "cell_type": "markdown",
   "id": "e491533a-6d56-47bb-9c6a-a9d0848055c9",
   "metadata": {},
   "source": [
    "<div class=\"alert alert-block alert-info\"> <b> Problema 4. __ </b> </div>\n",
    "\n"
   ]
  },
  {
   "cell_type": "markdown",
   "id": "a233274e-4c0b-463d-b6ec-0716c9430259",
   "metadata": {},
   "source": [
    "<div class=\"alert alert-block alert-success\"> <b> Solución. </b> </div>"
   ]
  },
  {
   "cell_type": "code",
   "execution_count": null,
   "id": "71e4132d-7cd8-4741-817b-6a96efd373d8",
   "metadata": {},
   "outputs": [],
   "source": []
  }
 ],
 "metadata": {
  "kernelspec": {
   "display_name": "Python 3 (ipykernel)",
   "language": "python",
   "name": "python3"
  },
  "language_info": {
   "codemirror_mode": {
    "name": "ipython",
    "version": 3
   },
   "file_extension": ".py",
   "mimetype": "text/x-python",
   "name": "python",
   "nbconvert_exporter": "python",
   "pygments_lexer": "ipython3",
   "version": "3.10.11"
  }
 },
 "nbformat": 4,
 "nbformat_minor": 5
}

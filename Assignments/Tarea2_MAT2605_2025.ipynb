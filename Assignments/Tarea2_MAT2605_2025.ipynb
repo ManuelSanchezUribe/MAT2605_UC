{
 "cells": [
  {
   "cell_type": "markdown",
   "id": "2a8b47e1-1378-431a-8ba2-ddea278b71fc",
   "metadata": {},
   "source": [
    "<div class=\"alert alert-block alert-info\"> \n",
    "    <center><h1 \"> Tarea 2: Cálculo Científico I - MAT2605</h1> </center>\n",
    "</div>\n",
    "    <!-- <b></b>     -->\n",
    "    <h4 style=\"color:#173F8A;;text-align:right;\"> Profesor: Manuel A. Sánchez<br> Ayudantes: Diego Vera, Tomás Malfetano <br></h4>\n",
    "\n",
    "<!-- \n",
    "<div class=\"alert alert-block alert-success\"> Use green boxes sparingly, and only for some specific purpose that the other boxes can't cover. For example, if you have a lot of related content to link to, maybe you decide to use green boxes for related links from each section of a notebook. </div>\n",
    "\n",
    "<div class=\"alert alert-block alert-warning\"> Use yellow boxes for examples that are not inside code cells, or use for mathematical formulas if needed. </div>\n",
    "\n",
    "<div class=\"alert alert-block alert-danger\"> In general, just avoid the red boxes. </div>\n",
    "\n",
    "############# Markdown parser in Sphinx ##################\n",
    "\n",
    "<div class=\"admonition note\"> <p class=\"admonition-title\">Note</p> <p>You should note that the title will be automatically capitalized.</p> </div>\n",
    "\n",
    "<div class=\"admonition danger\"> <p class=\"admonition-title\">Don't try this at home</p> <p>...</p> </div>\n",
    " -->\n",
    "<!-- <div class=\"admonition important\"> <p>This is an admonition box without a title.</p> </div> -->"
   ]
  },
  {
   "cell_type": "markdown",
   "id": "f701d754-b309-40d8-9e52-b63d38ec9bbc",
   "metadata": {},
   "source": [
    "<div class=\"alert alert-block alert-success\"> <b> Nombre de estudiante: </b> INCLUIR NOMBRE EN LA ENTREGA DE RESPUESTAS</div>\n"
   ]
  },
  {
   "cell_type": "markdown",
   "id": "e4923c48-b5c5-4808-af86-62a19463a3d2",
   "metadata": {},
   "source": [
    "<div class=\"alert alert-block alert-info\"> <b> Problema 1. Descomposicion de Cholesky </b> </div>\n",
    "\n",
    "a) Escriba un algoritmo (pseudoalgoritmo) para resolver el sistema lineal $Ax=b$, para $A\\in \\mathbb R^{n\\times n}$ simétrica y definida positiva y $b\\in \\mathbb R^{n}$ usando la descomposición de Cholesky $A=L L ^\\top$. Escriba el pseudoalgoritmo que calcula la descomposición.\n",
    "\n",
    "b) Calcule el número de operaciones de floating point del algoritmo y compárelo con el número de operaciones de eliminación Gaussiana.\n",
    "\n",
    "c) Programe los algoritmos anteriores y resuelva el sistema lineal $Ax = b$ con $A\\in \\mathbb R^{n\\times n}, b\\in \\mathbb R^{n}$ dadas por:\n",
    "$$\n",
    "A = \\begin{bmatrix}\n",
    "2 & -1 & 0 & \\cdots & 0 \\\\\n",
    "-1 & 2 & -1 & \\ddots & \\vdots \\\\\n",
    "0 & \\ddots & \\ddots & \\ddots & 0\\\\\n",
    "\\vdots & \\ddots & -1 & 2 & -1\\\\\n",
    "0 & \\cdots & 0 & -1 & 2\n",
    "\\end{bmatrix}, \\qquad b = \\frac{2}{(n+1)^2} \\begin{bmatrix} 1 \\\\ 1 \\\\ \\vdots \\\\ 1 \\\\ 1\\end{bmatrix}\n",
    "$$\n",
    "Calcule para $n=3,4$ y proponga una fórmula para las entradas de $L$ en términos de $n$.\n",
    "\n",
    "d) Para $n=99$ grafique el vector solución del sistema lineal $x$ versus el vector $t\\in \\mathbb R^{n}$, con $t_i = i/(n+1)$, $i=1,2,...,n$. Compare esta gráfica con la función $u(t) = t(1-t)$, $t\\in(0,1)$. Comente acerca de estos resultados. "
   ]
  },
  {
   "cell_type": "markdown",
   "id": "5b580e66-3cc3-44d9-9465-ef0a77602af8",
   "metadata": {},
   "source": [
    "<div class=\"alert alert-block alert-success\"> <b> Solución. </b> </div>"
   ]
  },
  {
   "cell_type": "markdown",
   "id": "2b0f373a-e122-4ec3-b8f2-8047cdad6e1b",
   "metadata": {},
   "source": [
    "<div class=\"alert alert-block alert-info\"> <b> Problema 2. Numero de condicion </b> </div>\n",
    "\n",
    "a) Sea $A\\in \\mathbb R^{n\\times n}$. Demuestre que el numero de condicion en la norma 2 de $A$ es\n",
    "$$\n",
    "\\text{cond}_2(A) = \\frac{\\sigma_1}{\\sigma_n}\n",
    "$$\n",
    "donde $\\sigma_1$ y $\\sigma_n$ son el mayor y menor valor singular de $A$.\n",
    "\n",
    "b) Calcule los numeros de condicion $\\text{cond}_1$, $\\text{cond}_2$,$\\text{cond}_\\infty$, para las siguientes matrices\n",
    "$$\n",
    "A_1 = \\begin{bmatrix}\n",
    "3 & 0 & 0 \\\\\n",
    "0 & 5/2 & 3/4\\\\\n",
    "0 & 3/4 & 5/4\n",
    "\\end{bmatrix},\n",
    "\\qquad\n",
    "A_2 = \\begin{bmatrix}\n",
    "0.1 & 0 & 0 \\\\\n",
    "10 & 0.1 & 0 \\\\\n",
    "0 & 0 & 0.1\n",
    "\\end{bmatrix}\n",
    "$$"
   ]
  },
  {
   "cell_type": "markdown",
   "id": "1b4c2668-b8b0-4757-8a68-33a9123ceb8c",
   "metadata": {},
   "source": [
    "<div class=\"alert alert-block alert-success\"> <b> Solución. </b> </div>"
   ]
  },
  {
   "cell_type": "markdown",
   "id": "73fb148b-590a-43ad-8166-d2f2d13ffce1",
   "metadata": {},
   "source": [
    "<div class=\"alert alert-block alert-info\"> <b> Problema 3. Sistema perturbado </b> </div>\n",
    "\n",
    "Sea \n",
    "$$\n",
    "A =\\begin{bmatrix}\n",
    "1000 & 10 & 1 \\\\ \n",
    "-1000 & 0 & 0 \\\\\n",
    "1000 & 0 & 1\n",
    "\\end{bmatrix}\n",
    "$$\n",
    "y sea $b\\in \\mathbb R^{3}$ con $1\\leq b_i \\leq 10$. Sean $\\Delta A \\in \\mathbb R^{3 \\times 3}$ y $\\Delta b \\in \\mathbb R^{3}$ las perturbaciones de $A$ y $b$.\n",
    "\n",
    "a) Considerando el sistema perturbado para $b$, es decir $A(x+\\Delta x) = b +\\Delta b$, estime \n",
    "$$\n",
    "e_{b} = \\frac{\\|\\Delta b\\|_{\\infty}}{\\|b\\|_{\\infty}}\n",
    "$$\n",
    "de tal forma que \n",
    "$$\n",
    "\\frac{\\|\\Delta x \\|_{\\infty}}{\\| x \\|_{\\infty}} < 10^{-2}. \\qquad (\\star)\n",
    "$$\n",
    "b) Ahora consideremos el sistema perturbado $ (A+\\Delta A) (x+\\Delta x) = b$, estime\n",
    "$$\n",
    "e_{A} = \\frac{\\|\\Delta A\\|_{\\infty}}{\\|A\\|_{\\infty}}\n",
    "$$\n",
    "de tal forma que se satisface $(\\star)$.\n",
    "\n",
    "c) Derive un estimado para la perturbación relativa de $x$ para el sistema con perturbación en $A$ y $b$, es decir, $(A+\\Delta A)(x+\\Delta x) = b+\\Delta b$. Estime nuevamente los números $e_{A}$ y $e_{b}$ tal que se satisfaga $(\\star)$.\n"
   ]
  },
  {
   "cell_type": "markdown",
   "id": "a073e4f3-a1e8-4c6e-aea4-da23a1de8622",
   "metadata": {},
   "source": [
    "<div class=\"alert alert-block alert-success\"> <b> Solución. </b> </div>"
   ]
  },
  {
   "cell_type": "markdown",
   "id": "e491533a-6d56-47bb-9c6a-a9d0848055c9",
   "metadata": {},
   "source": [
    "<div class=\"alert alert-block alert-info\"> <b> Problema 4. Factorizacion matrices simetricas </b> </div>\n",
    "a) Sea $A\\in \\mathbb R^{n\\times n}$. Muestre que si $A$ es simetrica entonces tiene una factorizacion $A = LD L^\\top$, donde $L$ es una matriz triangular inferior con elementos en la diagonal igual a 1, y $D$ es una matriz diagonal.\n",
    "\n",
    "b) Similar a lo que se desarrollo para la factorizacion de Cholesky, encuentre un pseudoalgoritmo para calcular la factorizacion $A = L D L^\\top$.\n",
    "\n",
    "c) Muestre que si $A$ es definida positiva entonces los elementos de $D$ son positivos."
   ]
  },
  {
   "cell_type": "markdown",
   "id": "a233274e-4c0b-463d-b6ec-0716c9430259",
   "metadata": {},
   "source": [
    "<div class=\"alert alert-block alert-success\"> <b> Solución. </b> </div>"
   ]
  },
  {
   "cell_type": "code",
   "execution_count": null,
   "id": "71e4132d-7cd8-4741-817b-6a96efd373d8",
   "metadata": {},
   "outputs": [],
   "source": []
  }
 ],
 "metadata": {
  "kernelspec": {
   "display_name": "Python 3 (ipykernel)",
   "language": "python",
   "name": "python3"
  },
  "language_info": {
   "codemirror_mode": {
    "name": "ipython",
    "version": 3
   },
   "file_extension": ".py",
   "mimetype": "text/x-python",
   "name": "python",
   "nbconvert_exporter": "python",
   "pygments_lexer": "ipython3",
   "version": "3.11.7"
  }
 },
 "nbformat": 4,
 "nbformat_minor": 5
}

{
 "cells": [
  {
   "cell_type": "markdown",
   "id": "39ed4998-aac8-4a2f-ada0-fea0e1ca0c6d",
   "metadata": {},
   "source": [
    "<div class=\"alert alert-block alert-info\"> \n",
    "    <center><h1 \"> Tarea 3: Cálculo Científico I - MAT2605</h1> </center>\n",
    "</div>\n",
    "    <!-- <b></b>     -->\n",
    "    <h4 style=\"color:#173F8A;;text-align:right;\"> Profesor: Manuel A. Sánchez<br> Ayudantes: Diego Vera, Tomás Malfetano <br></h4>\n",
    "\n",
    "<!-- \n",
    "<div class=\"alert alert-block alert-success\"> Use green boxes sparingly, and only for some specific purpose that the other boxes can't cover. For example, if you have a lot of related content to link to, maybe you decide to use green boxes for related links from each section of a notebook. </div>\n",
    "\n",
    "<div class=\"alert alert-block alert-warning\"> Use yellow boxes for examples that are not inside code cells, or use for mathematical formulas if needed. </div>\n",
    "\n",
    "<div class=\"alert alert-block alert-danger\"> In general, just avoid the red boxes. </div>\n",
    "\n",
    "############# Markdown parser in Sphinx ##################\n",
    "\n",
    "<div class=\"admonition note\"> <p class=\"admonition-title\">Note</p> <p>You should note that the title will be automatically capitalized.</p> </div>\n",
    "\n",
    "<div class=\"admonition danger\"> <p class=\"admonition-title\">Don't try this at home</p> <p>...</p> </div>\n",
    " -->\n",
    "<!-- <div class=\"admonition important\"> <p>This is an admonition box without a title.</p> </div> -->"
   ]
  },
  {
   "cell_type": "markdown",
   "id": "fbe11c4e-0b75-444b-9f1a-eb41b31a4218",
   "metadata": {},
   "source": [
    "<div class=\"alert alert-block alert-success\"> <b> Nombre de estudiante: </b> INCLUIR NOMBRE EN LA ENTREGA DE RESPUESTAS</div>\n"
   ]
  },
  {
   "cell_type": "markdown",
   "id": "bc6cf246-438e-439c-9688-2fb5335f37ca",
   "metadata": {},
   "source": [
    "<div class=\"alert alert-block alert-info\"> <b> Problema 1. Métodos iterativos </b> </div>\n",
    "a)  Para cada uno de los siguiente encuentre una matriz $A$ que satisface la condici\\'on\n",
    "- El m\\'etodo de Jacobi converge para $A$ pero no converge el m\\'etodo SOR\n",
    "- El m\\'etodo de SOR converge para $A$ pero no converge el m\\'etodo de Gaus-Seidel\n",
    "- El m\\'etodo de SOR converge para $A$ pero no converge el m\\'etodo de Jacobi\n",
    "\n",
    "b) Sea $A\\in \\mathbb R^{n\\times n}$ dada por\n",
    "\\begin{equation*}\n",
    "A = \n",
    "\\begin{pmatrix}\n",
    "2 & -1 & 0 & \\ldots & 0 \\\\\n",
    "-1& 2 & -1 &\\ddots & \\vdots\\\\\n",
    "0 & \\ddots & \\ddots & \\ddots & 0\\\\\n",
    "\\vdots & \\ddots & -1 &2& -1 \\\\\n",
    "0 & \\ldots & 0 & -1 & 2\n",
    "\\end{pmatrix}\n",
    "\\end{equation*}\n",
    "y la matriz de Hilbert  $H_n\\in \\mathbb R^{n\\times n}$ definida por \n",
    "$$\n",
    "(H_{n})_{i,j} = \\frac{1}{i+j-1}, \\qquad \\text{para } i,j=1,...,n. \n",
    "$$\n",
    "\n",
    "Programe los m\\'etodos iterativos de Jacobi, Gauss-Seidel y SOR y calcule para $n=10$ la soluci\\'on de los sistema lineales con $b = (1,...,1)^T\\in \\mathbb R^{10}$, e iniciando con $x^{(0)} = b$.\n",
    "Dada la tolerancia $10^{-12}$ registre en un tabla el n\\'umero de iteraciones de cada uno de los m\\'etodos\n"
   ]
  },
  {
   "cell_type": "markdown",
   "id": "ff70f6ae-27ac-454b-8f3c-773205c1a09b",
   "metadata": {},
   "source": [
    "<div class=\"alert alert-block alert-success\"> <b> Solución. </b> </div>"
   ]
  },
  {
   "cell_type": "markdown",
   "id": "058ca2d9-32c7-43af-b825-8e69a18629b3",
   "metadata": {},
   "source": [
    "<div class=\"alert alert-block alert-info\"> <b> Problema 2. Iteracion de potencia, inversa y cuociente de Rayleigh</b> </div>\n",
    "\n",
    "Considere la matriz \n",
    "\\begin{equation}\n",
    "A(\\alpha) = \n",
    "\\begin{pmatrix}\n",
    "\\alpha & 2 & 3 & 13\\\\\n",
    "5 & 11 & 10 & 8 \\\\\n",
    "9 & 7 & 6 & 12 \\\\\n",
    "4 & 14 & 15 & 1\n",
    "\\end{pmatrix}\n",
    "\\end{equation}\n",
    "para $\\alpha \\in \\mathbb R$. Calcule, para $\\alpha = 30$ y $\\alpha = -30$, los valores propios con  mayor y menor modulo utilizando:\n",
    "\n",
    "- el m\\'etodo de la potencia con vector inicial $(1,1,1,1)^T$ y la iteraci\\'on inversa con $\\mu$ el centro del c\\'irculo de Gershgorin correspondiente.\n",
    "- el m\\'etodo del cuociente de Rayleigh\n",
    "\n",
    "Registre el n\\'umero de iteraciones en ambos casos y comp\\'arelos. Comente sus resultados "
   ]
  },
  {
   "cell_type": "code",
   "execution_count": null,
   "id": "9fe40bf3-b4fe-45f0-9c46-e353fbf81958",
   "metadata": {},
   "outputs": [],
   "source": [
    "Problem\n",
    "\n",
    "\n",
    "Localice el espectro de la matriz\n",
    "$$\n",
    "A= \\begin{bmatrix} 1 & 2 & -1 \\\\ 2 & 7 & 0 \\\\ -1 & 0 & 5 \\end{bmatrix}\n",
    "$$"
   ]
  },
  {
   "cell_type": "code",
   "execution_count": null,
   "id": "e7c613c3-fa8f-4ec0-8c90-c1811e7fdb80",
   "metadata": {},
   "outputs": [],
   "source": [
    "Problem Abel\n",
    "\n",
    "Mueste que la matriz asociada al polinomio $p_n(x) = x^{n} + a_{n} x^{n-1} + ... + a_1$ puede ser escrita"
   ]
  },
  {
   "cell_type": "markdown",
   "id": "406c682c-3901-4288-a26e-e85511b54303",
   "metadata": {},
   "source": [
    "Considere la ecuacion diferencial $x'(t) = A x(t)$. Para cada una de las siguientes martrices, use el teorema de Gershgorin y decida si $x=0$ es un punto de equilibrio estable de la ecuacion diferencial\n",
    "a) $$ A = \\begin{bmatrix} -3&2&4 \\\\ 1 & -4 & -1 \\\\ 1 & 1 & -6 \\end{bmatrix} $$\n",
    "b) $$ A = \\begin{bmatrix} -3 & 1 & 1 \\\\ 1 & -4 & 2 \\\\ 0 & 1 & 2 \\end{bmatrix} $$"
   ]
  },
  {
   "cell_type": "markdown",
   "id": "8d1b6142-b6b2-47fb-a937-7a5984047de2",
   "metadata": {},
   "source": [
    "Suponga que una matriz tiene un par $\\lambda_1, \\lambda_2$ de valores propios dominantes con signo opuesto, esto es, $\\lambda_1=-\\lambda_2$, y $|\\lambda_1|>|\\lambda_i$, para $i>2$/ \n",
    "Explique como se puede obtener una aproximación usando la iteración de potencia a los dos vectores propios correspondientes."
   ]
  },
  {
   "cell_type": "markdown",
   "id": "5923655d-074b-43df-908e-6acac23e62c6",
   "metadata": {},
   "source": [
    "Sea $B_J$ la matriz asociada al método de Jacobi de un sistema dado. Estimar\n",
    "\n",
    "a) cuántas multiplicaciones y divisiones se requieren para calcular BJ.\n",
    "\n",
    "b) cuántas multiplicaciones y divisiones se requieren para para realizar una iteración\n",
    "con el método de Jacobi.\n",
    "\n",
    "c) si $\\rho(B_J) < 1$, cuántas iteraciones se necesitan para reducir el error del método en\n",
    "más de $10^{−m}$ (en función de $\\rho(B_J)$).\n",
    "\n",
    "d ) cuántas multiplicaciones y divisiones se requieren para calcular la solución del sistema por el método de eliminación Gaussiana.\n",
    "\n",
    "e) cuántas iteraciones del método de Jacobi podrían realizarse antes de igualar la cantidad de operaciones necesarias al usar el método de eliminación Gaussiana.\n",
    "\n",
    "Sean las matrices\n",
    "$$\n",
    "A = \\begin{bmatrix} a & c & 0 \\\\ c & a & c \\\\ 0 & c & a \\end{bmatrix}, \\quad\n",
    "B = \\begin{bmatrix} 0 & b & 0 \\\\ b & 0 & b \\\\ 0 & b & 0 \\end{bmatrix},\n",
    "$$\n",
    "a) Probar que $\\lim_{n\\to\\infty} B^n = 0$, si y sólo su $|b|<\\sqrt{2}/2$.\n",
    "b) Dar condiciones necesarias y suficientes sobre $a,c$ reales, para la convergencia de los metodos de Jacobi y Gauss Seidel aplicados a la resolución\\'on de $Ax = v$."
   ]
  },
  {
   "cell_type": "code",
   "execution_count": null,
   "id": "2955f771-d573-4f29-a7a0-686ecef9ae73",
   "metadata": {},
   "outputs": [],
   "source": []
  }
 ],
 "metadata": {
  "kernelspec": {
   "display_name": "Python 3 (ipykernel)",
   "language": "python",
   "name": "python3"
  },
  "language_info": {
   "codemirror_mode": {
    "name": "ipython",
    "version": 3
   },
   "file_extension": ".py",
   "mimetype": "text/x-python",
   "name": "python",
   "nbconvert_exporter": "python",
   "pygments_lexer": "ipython3",
   "version": "3.11.7"
  }
 },
 "nbformat": 4,
 "nbformat_minor": 5
}

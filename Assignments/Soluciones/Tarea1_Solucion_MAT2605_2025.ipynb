{
 "cells": [
  {
   "cell_type": "markdown",
   "id": "86466be0-8da9-4e6a-9def-4a7966a1c3f9",
   "metadata": {},
   "source": [
    "<div class=\"alert alert-block alert-info\"> \n",
    "    <center><h1 \"> Tarea 1: Cálculo Científico I - MAT2605</h1> </center>\n",
    "</div>\n",
    "    <!-- <b></b>     -->\n",
    "    <h4 style=\"color:#173F8A;;text-align:right;\"> Profesor: Manuel A. Sánchez<br> Ayudantes: Diego Vera, Tomás Malfetano <br></h4>\n",
    "\n",
    "<!-- \n",
    "<div class=\"alert alert-block alert-success\"> Use green boxes sparingly, and only for some specific purpose that the other boxes can't cover. For example, if you have a lot of related content to link to, maybe you decide to use green boxes for related links from each section of a notebook. </div>\n",
    "\n",
    "<div class=\"alert alert-block alert-warning\"> Use yellow boxes for examples that are not inside code cells, or use for mathematical formulas if needed. </div>\n",
    "\n",
    "<div class=\"alert alert-block alert-danger\"> In general, just avoid the red boxes. </div>\n",
    "\n",
    "############# Markdown parser in Sphinx ##################\n",
    "\n",
    "<div class=\"admonition note\"> <p class=\"admonition-title\">Note</p> <p>You should note that the title will be automatically capitalized.</p> </div>\n",
    "\n",
    "<div class=\"admonition danger\"> <p class=\"admonition-title\">Don't try this at home</p> <p>...</p> </div>\n",
    " -->\n",
    "<!-- <div class=\"admonition important\"> <p>This is an admonition box without a title.</p> </div> -->"
   ]
  },
  {
   "cell_type": "code",
   "execution_count": 1,
   "id": "86efce90",
   "metadata": {},
   "outputs": [],
   "source": [
    "import numpy as np\n",
    "import pandas as pd\n",
    "import matplotlib.pyplot as plt\n",
    "from scipy.linalg import hilbert"
   ]
  },
  {
   "cell_type": "markdown",
   "id": "6f6b62e8-4e7b-43db-ac2e-514d58b88099",
   "metadata": {},
   "source": [
    "<div class=\"alert alert-block alert-success\"> <b> Nombre de estudiante: </b> INCLUIR NOMBRE EN LA ENTREGA DE RESPUESTAS</div>\n"
   ]
  },
  {
   "cell_type": "markdown",
   "id": "69a8184d-dfaf-4f0b-87f2-9fa4cc762876",
   "metadata": {},
   "source": [
    "<div class=\"alert alert-block alert-info\"> <b> Problema 1. Floating Point Arithmetic </b> </div>\n",
    "a Utilice el metodo de redondeo y encuentre el número de máquina mas cercano a $5, \\pi, 0$ en: \n",
    "- base 10 y con 4 dígitos de precisión y truncamiento,\n",
    "- base 2 y con 8 dígitos de precisión y truncamiento. \n",
    "\n",
    "b Considere la definición de punto flotante es equivalente a: $fl(x) = x(1+\\epsilon)$,  con $|\\epsilon|\\leq \\epsilon_{\\texttt{maquina}}$.\n",
    "\n",
    "Sea el problema $f$ correspondiente a la suma de n\\'umeros reales, es decir $f(x_1,x_2) = x_1 + x_2$, y consideremos el algoritmo $\\tilde{f}$ que calcula\n",
    "$$\n",
    "\\begin{equation*}\n",
    "\\tilde{f}(x_1,x_2) = \\text{fl}(x_1) \\oplus \\text{fl}(x_2).\n",
    "\\end{equation*}\n",
    "$$\n",
    "Demuestre que \n",
    "$$\n",
    "\\begin{equation*}\n",
    "\\frac{| f(x_1,x_2) - \\tilde{f} (x_1,x_2) | }{ | f(x_1,x_2) |} \\leq 2\\epsilon +\\epsilon^2.\n",
    "\\end{equation*}\n",
    "$$\n",
    "Similarmente derive un estimado para el problema de la resta de 2 números reales. Comente su resultado.\n"
   ]
  },
  {
   "cell_type": "markdown",
   "id": "db291ba5-de64-44de-93aa-5abb3871ab5a",
   "metadata": {},
   "source": [
    "<div class=\"alert alert-block alert-success\"> <b> Solución. </b> </div>"
   ]
  },
  {
   "cell_type": "markdown",
   "id": "5d5cc9e8",
   "metadata": {},
   "source": [
    "a)\n",
    "Base 10 y con 4 dígitos de precisión y truncamiento:\n",
    "- Número 5: $0.5000 \\cdot 10^1$\n",
    "- Número $\\pi$: $0.3141 \\cdot 10^1$\n",
    "- Número 0: $0.0000 \\cdot 10^0$\n",
    "\n",
    "Base 2 y con 8 dígitos de precisión y truncamiento:\n",
    "- Número 5: $101.00000_{2}$ o $0.10100000 \\cdot 2^3$\n",
    "$$ 5 = 1 \\cdot 2^2 + 0 \\cdot 2^1 + 1 \\cdot 2^0 + 0 \\cdot 2^{-1} +...$$\n",
    "\n",
    "- Número $\\pi$: $11.001001_{2}$  o $0.11001001 \\cdot 2^2$\n",
    "$$ 3.140625 = 1 \\cdot 2^1 + 1 \\cdot 2^0 + 0 \\cdot \\frac{1}{2^1}+...+ 1 \\cdot \\frac{1}{2^3} +...+ 1 \\cdot \\frac{1}{2^6}$$\n",
    "- Número 0: $0.00000000_{2}$  o $0.00000000 \\cdot 2^0$"
   ]
  },
  {
   "cell_type": "markdown",
   "id": "6e043f84",
   "metadata": {},
   "source": [
    "b) Por definición, $\\tilde{f} (x_1,x_2)$ corresponde a\n",
    "\\begin{align*}\n",
    "\\tilde{f} (x_1,x_2) = fl(fl(x_1)+fl(x_2)) =(x_1(1+\\epsilon_1) + x_2(1+\\epsilon_2))(1+\\epsilon_3)\n",
    "\\end{align*}\n",
    "\n",
    "\\begin{align*}\n",
    "| f(x_1,x_2) - \\tilde{f} (x_1,x_2) | &= | x_1 + x_2 - (x_1(1+\\epsilon_1) + x_2(1+\\epsilon_2))(1+\\epsilon_3) | \\\\\n",
    "&= | (x_1 + x_2) - (x_1 + x_1\\epsilon_1 + x_2 + x_2\\epsilon_2)(1+\\epsilon_3) | \\\\\n",
    "&= | (x_1 + x_2) - (x_1 + x_2)(1+\\epsilon_3) - (x_1\\epsilon_1 + x_2\\epsilon_2)(1+\\epsilon_3) | \\\\\n",
    "&= | - (x_1 + x_2)\\epsilon_3 - (x_1\\epsilon_1 + x_2\\epsilon_2)(1+\\epsilon_3) | \\\\\n",
    "&\\leq | (x_1 + x_2)\\epsilon_3 | + |(x_1\\epsilon_1 + x_2\\epsilon_2)(1+\\epsilon_3) | & \\textrm{(des. triangular)}\\\\\n",
    "&=|x_1 + x_2||\\epsilon_3 | + |x_1\\epsilon_1 + x_2\\epsilon_2||1+\\epsilon_3 | \\\\\n",
    "&\\leq |x_1 + x_2||\\epsilon_3 | + (|x_1\\epsilon_1| + |x_2\\epsilon_2|)(1+|\\epsilon_3 |) & \\textrm{(des. triangular)}\\\\\n",
    "&= |x_1 + x_2||\\epsilon_3 | + (|x_1||\\epsilon_1| + |x_2||\\epsilon_2|)(1+|\\epsilon_3 |) \\\\\n",
    "\\end{align*}\n",
    "\n",
    "Tenemos que $|\\epsilon_i | \\leq \\epsilon = \\epsilon_{machine}$ para todos los épsilon. Luego,\n",
    "\n",
    "\\begin{align*}\n",
    "| f(x_1,x_2) - \\tilde{f} (x_1,x_2) | &\\leq |x_1 + x_2|\\epsilon  + (|x_1|\\epsilon + |x_2|\\epsilon)(1+\\epsilon ) \\\\\n",
    "&\\leq |x_1 + x_2|\\epsilon  + (|x_1| + |x_2|)(\\epsilon + \\epsilon^2 ) \\\\\n",
    "\\end{align*}\n",
    "\n",
    "Por lo tanto, el error relativo queda acotado como\n",
    "\n",
    "\\begin{align*}\n",
    "\\frac{| f(x_1,x_2) - \\tilde{f} (x_1,x_2) |}{|f(x_1,x_2)|} &\\leq \\frac{|x_1 + x_2|\\epsilon  + (|x_1| + |x_2|)(\\epsilon + \\epsilon^2 )}{|x_1 + x_2|} \\\\\n",
    "&= \\epsilon + \\frac{|x_1| + |x_2|}{|x_1 + x_2|}(\\epsilon + \\epsilon^2 ) & \\textrm{(1)}\\\\\n",
    "\\end{align*}\n",
    "\n",
    "Analizando esta última desigualdad, podemos ver que si los signos de $x_1$ y $x_2$ son iguales $\\frac{|x_1| + |x_2|}{|x_1 + x_2|} = 1$. Esto se cumple en una suma, por lo tanto\n",
    "\n",
    "\\begin{align*}\n",
    "\\frac{| f(x_1,x_2) - \\tilde{f} (x_1,x_2) |}{|f(x_1,x_2)|} \\leq \\epsilon + (\\epsilon + \\epsilon^2 ) = 2\\epsilon + \\epsilon^2\n",
    "\\end{align*}\n",
    "\n",
    "Lo que cumple la desigualdad del enunciado.\n",
    "\n",
    "\n",
    "El análisis anterior vale también para la resta. Solo hace falta considerar en (1) que los signos de $x_1$ y $x_2$ son opuestos. Por lo tanto, $\\frac{|x_1| + |x_2|}{|x_1 + x_2|} \\geq 1$ y la cota de la suma no aplica.\n",
    "\n",
    "\\begin{align*}\n",
    "\\frac{| f(x_1,x_2) - \\tilde{f} (x_1,x_2) |}{|f(x_1,x_2)|} &\\leq \\epsilon + \\frac{|x_1| + |x_2|}{|x_1 + x_2|}(\\epsilon + \\epsilon^2 )\\\\\n",
    "\\end{align*}\n",
    "\n",
    "De hecho, la resta no tiene cota al error. Cuanto más cercanos sean $|x_1|$ y $|x_2|$, mayor es el límite superior del error (resta catastrófica)."
   ]
  },
  {
   "cell_type": "markdown",
   "id": "2ec538ec-7ad1-4497-af6e-655bb309a685",
   "metadata": {},
   "source": [
    "<div class=\"alert alert-block alert-info\"> <b> Problema 2. Evaluacion de integral</b> </div>\n",
    "Consideremos el problema de evaluar las siguientes integrales en una maquina con precision finita\n",
    "\n",
    "$$ E_n = \\int_0^1 x^n e^{x-1}dx, \\quad \\text{para } n =0,1,2,... $$\n",
    "\n",
    "a) Deduzca una formula recursica para el calculo de $E_n$, de la forma $E_n = a_n + b_n E_{n-1}$ (use integracion por partes).\n",
    "\n",
    "b) Demuestre que $E_n\\to 0$ cuando $n\\to \\infty$.\n",
    "\n",
    "c) De los siguientes algoritmos para el calculo de E_n ($n\\geq 20$), decida cual prefiere y porque\n",
    "\n",
    "- Calcular $E_0$ de forma analitica, y $E_n$ recursivamente por $E_k = a_k + b_k E_{k-1},\\;k=1,2,...,n$.\n",
    "- Hacer $E_m=0$, para $m>>n$ y  calcular recursivamente hacia atras $E_{k-1} = (E_k-a_k)/b_k,\\; k =m, m-1,...,n+1$. \n",
    "\n"
   ]
  },
  {
   "cell_type": "markdown",
   "id": "8a799e07-8aa9-43f2-b302-fd7eb9388d8d",
   "metadata": {},
   "source": [
    "<div class=\"alert alert-block alert-success\"> <b> Solución. </b> </div>"
   ]
  },
  {
   "cell_type": "markdown",
   "id": "ff6669e8",
   "metadata": {},
   "source": [
    "a) Integrando por partes:\n",
    "\n",
    "$$\n",
    "E_n = x^ne^{x-1}\\Big|_{x=0}^{x=1} -  n\\int_0^1 x^{n-1} e^{x-1}dx\n",
    "=\n",
    "1 - nE_{n-1},\\quad n=1, 2, 3,...\n",
    "$$\n",
    "y claramente $E_0 = 1 - e^{-1}$."
   ]
  },
  {
   "cell_type": "markdown",
   "id": "6bea8ed1",
   "metadata": {},
   "source": [
    "b) Notamos que \n",
    "$$\n",
    "0 \\leq e^{x-1} \\leq 1,\\quad x\\in [0, 1].\n",
    "$$\n",
    "Lo que implica que $x^n e^{x-1} \\leq x^n$ cuando $x\\in [0, 1]$, para todo $n=0,1,2,...$. Por tanto,\n",
    "$$\n",
    "E_n = \\int_0^1 x^n e^{x-1}dx \\leq \\int_0^1 x^n dx = \\frac{1}{n+1}x^{n+1}\\Big|_{x=0}^{x=1} = \\frac{1}{n+1}, \\quad \\text{para } n =0,1,2,...\n",
    "$$\n",
    "Lo que asu vez implica que\n",
    "$$\n",
    "0 \\leq \\lim_{n\\to \\infty} E_n \\leq \\lim_{n\\to \\infty} \\frac{1}{n+1} = 0,\n",
    "$$\n",
    "y, por teorema del Sandwich, se concluye que $\\lim_{n\\to\\infty} E_n = 0$."
   ]
  },
  {
   "cell_type": "markdown",
   "id": "55cdd112",
   "metadata": {},
   "source": [
    "c) Una forma podía ser programar ambos métodos y chequear visualmente cual era más inestable."
   ]
  },
  {
   "cell_type": "code",
   "execution_count": 2,
   "id": "dc780c7e",
   "metadata": {},
   "outputs": [
    {
     "data": {
      "image/png": "[encoded data removed]",
      "text/plain": [
       "<Figure size 640x480 with 1 Axes>"
      ]
     },
     "metadata": {},
     "output_type": "display_data"
    },
    {
     "data": {
      "image/png": "[encoded data removed]",
      "text/plain": [
       "<Figure size 640x480 with 1 Axes>"
      ]
     },
     "metadata": {},
     "output_type": "display_data"
    },
    {
     "data": {
      "image/png": "[encoded data removed]",
      "text/plain": [
       "<Figure size 640x480 with 1 Axes>"
      ]
     },
     "metadata": {},
     "output_type": "display_data"
    }
   ],
   "source": [
    "def metodo1(N):\n",
    "    \"\"\"\n",
    "    El método calcula desde 0 hasta n y retorna el resultado.\n",
    "    \"\"\"\n",
    "    v = np.zeros(N+1)\n",
    "    v[0] = 1 - 1/np.e\n",
    "    for k in range(1, N+1):\n",
    "        v[k] = 1 - k*v[k-1]\n",
    "    return v\n",
    "\n",
    "def metodo2(N, m=100):\n",
    "    \"\"\"\n",
    "    El método calcula desde m hasta 0, pero retorna los valores desde 0 hasta n.\n",
    "    \"\"\"\n",
    "    v = np.zeros(m+1)\n",
    "    for k in range(m, 0, -1):\n",
    "        # Este For parte con k=m e itera hacia atrás, hasta k=1\n",
    "        v[k-1] = (1 - v[k]) / k\n",
    "    return v[:N+1]\n",
    "\n",
    "m = 100\n",
    "n = 15\n",
    "fwd = metodo1(n)\n",
    "bwd = metodo2(n, m)\n",
    "\n",
    "plt.plot(np.arange(n+1), fwd, '-', label='Método 1')\n",
    "plt.plot(np.arange(n+1), bwd, '.', label='Método 2')\n",
    "plt.xlabel('n')\n",
    "plt.ylabel('E_n')\n",
    "plt.legend()\n",
    "plt.title(f'n = {n} y m = {m}')\n",
    "plt.show()\n",
    "\n",
    "m = 100\n",
    "n = 20\n",
    "fwd = metodo1(n)\n",
    "bwd = metodo2(n, m)\n",
    "\n",
    "plt.plot(np.arange(n+1), fwd, '-', label='Método 1')\n",
    "plt.plot(np.arange(n+1), bwd, '.', label='Método 2')\n",
    "plt.xlabel('n')\n",
    "plt.ylabel('E_n')\n",
    "plt.legend()\n",
    "plt.title(f'n = {n} y m = {m}')\n",
    "plt.show()\n",
    "\n",
    "m = 100\n",
    "n = 30\n",
    "fwd = metodo1(n)\n",
    "bwd = metodo2(n, m)\n",
    "\n",
    "plt.plot(np.arange(n+1), fwd, '-', label='Método 1')\n",
    "plt.plot(np.arange(n+1), bwd, '.', label='Método 2')\n",
    "plt.xlabel('n')\n",
    "plt.ylabel('E_n')\n",
    "plt.legend()\n",
    "plt.title(f'n = {n} y m = {m}')\n",
    "plt.show()"
   ]
  },
  {
   "cell_type": "markdown",
   "id": "c36204f6",
   "metadata": {},
   "source": [
    "Observamos que, cuando $n$ es mayor a $20$, el primer método diverge, mientras que el segundo método no."
   ]
  },
  {
   "cell_type": "markdown",
   "id": "7e7bf8fe-2a4a-4a0c-a8a8-e52a77b36279",
   "metadata": {},
   "source": [
    "<div class=\"alert alert-block alert-info\"> <b> Problema 3. Algortimo para cálculo de $\\pi$. </b> </div>\n",
    "\n",
    "A continuación describimos un algoritmo para calcular $\\pi$.\n",
    "Comenzar inicializando las variables $a, b, c, d, e$ del siguiente modo: \n",
    "$a = 0, b = 1, c = 1/\\sqrt{2}, d= 1/4, e= 1$. Luego, iterar $n$ veces en el orden dado las siguientes formulas:\n",
    "\\begin{equation*}\n",
    "a=b, \\quad b= \\frac{b+c}{2},\\quad  c=\\sqrt{ca},\\quad d=d-e(b-a)^2,\\quad e=2e.\n",
    "\\end{equation*}\n",
    "Finalmente, el valor de $\\pi$ puede estimarse por $f = b^{2}/d$, o por $g = (b+c)^{2}/(4d)$.\n",
    "\n",
    "Escriba un pseudocódigo del algoritmo siguiendo el formato visto en clases. Luego programe el algoritmo para calcular los valores de $\\pi$ estimados por $f$ y $g$ cuando $n = 1,2,..., 10$. ¿Que estimación converge más rápido? Reporte el error para cada iteraci\\'on comparando con el valor de $\\pi$ con 36 d\\'igitos\n",
    "$$\n",
    "\\pi = 3,14159265358979323846264338327950288.\n",
    "$$\n"
   ]
  },
  {
   "cell_type": "markdown",
   "id": "f64cf4ac-f806-4876-8e3d-a1adbeb6c4f0",
   "metadata": {},
   "source": [
    "<div class=\"alert alert-block alert-success\"> <b> Solución. </b> </div>"
   ]
  },
  {
   "cell_type": "markdown",
   "id": "0615c045",
   "metadata": {},
   "source": [
    "Tenemos el siguiente pseudocódigo:\n",
    "\n",
    "**Algoritmo EstimarPI.**\n",
    "\n",
    "**Input:** número de iteraciones $n$.\n",
    "\n",
    "**Output:** estimaciones de $\\pi$, $f$ y $g$.\n",
    "\n",
    "Inicializamos $a=0$, $b=1$, $c=1/\\sqrt{2}$, $d=1/4$ y $e=1$\n",
    "\n",
    "For $k=1,...,n$:  \n",
    "1. $a=b$  \n",
    "2. $b = (b + c)/2$  \n",
    "3. $c = √(c * a)$  \n",
    "4. $d = d − e * (b − a)^2$  \n",
    "5. $e = 2 * e$\n",
    "End For\n",
    "\n",
    "$f = b^2 / d$  \n",
    "$g = (b + c)^2 / (4*d)$  \n",
    "\n",
    "**Fin del algoritmo**"
   ]
  },
  {
   "cell_type": "code",
   "execution_count": 3,
   "id": "6f52da92",
   "metadata": {},
   "outputs": [],
   "source": [
    "def estimacion_pi(n):\n",
    "    # Inicializamos \n",
    "    a = 0\n",
    "    b = 1\n",
    "    c = 1 / np.sqrt(2)\n",
    "    d = 1 / 4\n",
    "    e = 1\n",
    "\n",
    "    for i in range(n): # Iteramos n veces.\n",
    "        a = b\n",
    "        b = (b + c)/2\n",
    "        c = np.sqrt(c*a)\n",
    "        d = d - e*(b - a)**2\n",
    "        e = 2*e\n",
    "\n",
    "    estimacion1 = b**2 / d\n",
    "    estimacion2 = (b + c)**2 / (4*d)\n",
    "    \n",
    "    return  estimacion1, estimacion2"
   ]
  },
  {
   "cell_type": "code",
   "execution_count": 4,
   "id": "f1a0661c",
   "metadata": {},
   "outputs": [
    {
     "name": "stdout",
     "output_type": "stream",
     "text": [
      " n        f      error_f        g      error_g\n",
      " 0 4.000000 8.584073e-01 2.914214 2.273791e-01\n",
      " 1 3.187673 4.607999e-02 3.140579 1.013403e-03\n",
      " 2 3.141680 8.763971e-05 3.141593 7.376250e-09\n",
      " 3 3.141593 3.056542e-10 3.141593 8.881784e-16\n",
      " 4 3.141593 8.881784e-16 3.141593 8.881784e-16\n",
      " 5 3.141593 8.881784e-16 3.141593 8.881784e-16\n",
      " 6 3.141593 8.881784e-16 3.141593 8.881784e-16\n",
      " 7 3.141593 8.881784e-16 3.141593 8.881784e-16\n",
      " 8 3.141593 8.881784e-16 3.141593 8.881784e-16\n",
      " 9 3.141593 8.881784e-16 3.141593 8.881784e-16\n"
     ]
    }
   ],
   "source": [
    "pi_36 = 3.14159265358979323846264338327950288\n",
    "\n",
    "# Aqui guardaremos las estimaciones\n",
    "est_1_list = []\n",
    "est_2_list = []\n",
    "\n",
    "# Aqui guardaremos los errores\n",
    "err_1 = []\n",
    "err_2 = []\n",
    "\n",
    "for n in range(10):\n",
    "    # Calculamos las estimaciones con n iteraciones.\n",
    "    est_1, est_2 = estimacion_pi(n)\n",
    "    est_1_list.append(est_1)\n",
    "    est_2_list.append(est_2)\n",
    "\n",
    "    # Calculamos los errores absolutos para cada método\n",
    "    err_1.append(abs(est_1 - pi_36))\n",
    "    err_2.append(abs(est_2 - pi_36))\n",
    "\n",
    "df = pd.DataFrame({\n",
    "    \"n\": list(range(10)),\n",
    "    \"f\": est_1_list,\n",
    "    \"error_f\": err_1,\n",
    "    \"g\": est_2_list,\n",
    "    \"error_g\": err_2\n",
    "})\n",
    "\n",
    "print(df.to_string(index=False))"
   ]
  },
  {
   "cell_type": "markdown",
   "id": "405354f7",
   "metadata": {},
   "source": [
    "Del resultado anterior vemos que el error absoluto de la estimación $g$ deciende más rápidamente que el error absoluto de la estimación $f$."
   ]
  },
  {
   "cell_type": "markdown",
   "id": "fbae3483-ca79-480c-875d-a071345cdfc4",
   "metadata": {},
   "source": [
    "<div class=\"alert alert-block alert-info\"> <b> Problema 4. Eliminación Gaussiana - matriz de Hilbert. </b> </div>\n",
    "Programe el método de eliminación Gaussiana sin pivoteo para resolver el sistema lineal $ Ax = b$.  Luego adapte el programa u observe como calcular $A^{-1}$. \n",
    "Testee el programa calculando la inversa de la matriz de Hilbert $H_9$. La matriz de Hilbert $H_n\\in \\mathbb R^{n\\times n}$ se define  por\n",
    "\\[\n",
    "(H_{n})_{i,j} = \\frac{1}{i+j-1}\n",
    "\\]\n",
    "para $i,j=1,...,n$. "
   ]
  },
  {
   "cell_type": "markdown",
   "id": "162b213a-6800-4844-b10a-a61213393aff",
   "metadata": {},
   "source": [
    "<div class=\"alert alert-block alert-success\"> <b> Solución. </b> </div>"
   ]
  },
  {
   "cell_type": "code",
   "execution_count": 5,
   "id": "6a49e182",
   "metadata": {},
   "outputs": [],
   "source": [
    "# Algoritmos relevantes importados del notebook del capítulo 2\n",
    "\n",
    "def forward_substitution(L,b):\n",
    "    n = L.shape[0]; y = np.zeros(n)\n",
    "    y[0] = b[0]/L[0,0]\n",
    "    for i in range(1,n):\n",
    "        y[i] = (b[i] - np.dot(L[i,0:i],y[0:i]))/L[i,i]\n",
    "    return y\n",
    "\n",
    "def backward_substitution(U,y):\n",
    "    n = U.shape[0]; x = np.zeros(n)\n",
    "    x[n-1] = y[n-1]/U[n-1,n-1]\n",
    "    for i in range(n-2,-1,-1):\n",
    "        x[i] = (y[i] - np.dot(U[i,(i+1):n],(x[(i+1):n])))/U[i,i]\n",
    "    return x\n",
    "\n",
    "def GE(Ainput, binput):\n",
    "    A = Ainput.copy() # se va a modificar\n",
    "    b = binput.copy() # se va a modificar\n",
    "    # 1. Factorize A = LU\n",
    "    L, U = LU(A)\n",
    "    # 2. Solve LUx = b forward substitution\n",
    "    y = forward_substitution(L, b)\n",
    "    # 3. Solve Ux = L^{-1} b backward substitution\n",
    "    x = backward_substitution(U,y)\n",
    "    return x\n",
    "\n",
    "def LU(Ainput):\n",
    "    A = Ainput.copy() # se va a modificar\n",
    "    n = A.shape[0]\n",
    "    for i in range(n-1):\n",
    "        if A[i, i] == 0:\n",
    "            raise ValueError(\"coeficient is zero.\")\n",
    "        A[(i+1):n,i] = (A[(i+1):n,i]/A[i,i])\n",
    "        A[(i+1):n, (i+1):n][:] = A[(i+1):n, (i+1):n]-np.outer(A[(i+1):n,i],A[i, (i+1):n])\n",
    "    L = np.tril(A,-1)+np.eye(n)\n",
    "    U = np.triu(A)\n",
    "    return L, U"
   ]
  },
  {
   "cell_type": "markdown",
   "id": "c147f892",
   "metadata": {},
   "source": [
    "Para calcular $A^{-1}$, podemos resolver el sistema $AX=I$ para cada columna de $X$, resultando en los sistemas $Ax_i = e_i$, donde $e_i$ son los vectores canónicos."
   ]
  },
  {
   "cell_type": "code",
   "execution_count": 6,
   "id": "a975aac6",
   "metadata": {},
   "outputs": [
    {
     "name": "stdout",
     "output_type": "stream",
     "text": [
      "[[ 8.09999273e+01 -3.23999484e+03  4.15799108e+04 -2.49479352e+05\n",
      "   8.10807594e+05 -1.51350703e+06  1.62161425e+06 -9.26636499e+05\n",
      "   2.18789130e+05]\n",
      " [-3.23999484e+03  1.72799634e+05 -2.49479367e+06  1.59666741e+07\n",
      "  -5.40538296e+07  1.03783328e+08 -1.13512993e+08  6.58941523e+07\n",
      "  -1.57528184e+07]\n",
      " [ 4.15799107e+04 -2.49479367e+06  3.84198107e+07 -2.56132008e+08\n",
      "   8.91888059e+08 -1.74810030e+09  1.94233338e+09 -1.14161621e+09\n",
      "   2.75674338e+08]\n",
      " [-2.49479352e+05  1.59666741e+07 -2.56132008e+08  1.75633346e+09\n",
      "  -6.24321569e+09  1.24309346e+10 -1.39848000e+10  8.30266346e+09\n",
      "  -2.02161191e+09]\n",
      " [ 8.10807591e+05 -5.40538294e+07  8.91888057e+08 -6.24321568e+09\n",
      "   2.25449434e+10 -4.54506023e+10  5.16484082e+10 -3.09187732e+10\n",
      "   7.58104497e+09]\n",
      " [-1.51350703e+06  1.03783328e+08 -1.74810029e+09  1.24309346e+10\n",
      "  -4.54506022e+10  9.25539495e+10 -1.06051397e+11  6.39305102e+10\n",
      "  -1.57685741e+10]\n",
      " [ 1.62161424e+06 -1.13512992e+08  1.94233337e+09 -1.39848000e+10\n",
      "   5.16484081e+10 -1.06051396e+11  1.22366995e+11 -7.42050572e+10\n",
      "   1.83966703e+10]\n",
      " [-9.26636493e+05  6.58941519e+07 -1.14161620e+09  8.30266343e+09\n",
      "  -3.09187731e+10  6.39305101e+10 -7.42050572e+10  4.52297496e+10\n",
      "  -1.12632678e+10]\n",
      " [ 2.18789128e+05 -1.57528183e+07  2.75674337e+08 -2.02161190e+09\n",
      "   7.58104494e+09 -1.57685740e+10  1.83966703e+10 -1.12632678e+10\n",
      "   2.81581701e+09]]\n",
      "\n",
      "Norma del error: 6.132256856715367e-05\n"
     ]
    }
   ],
   "source": [
    "def calcular_inversa(Ainput):\n",
    "    A = Ainput.copy()\n",
    "    n = A.shape[0]\n",
    "    invA = A.copy()\n",
    "    I = np.eye(n)\n",
    "    # Resolvemos el sistema AX = I para cada columna de X:\n",
    "    for k in range(n):\n",
    "        invA[:,k] = GE(A, I[k])\n",
    "    return invA\n",
    "\n",
    "n = 9\n",
    "H = hilbert(n)\n",
    "invH = calcular_inversa(H)\n",
    "\n",
    "print(invH)\n",
    "\n",
    "print(f\"\\nNorma del error: {np.linalg.norm(invH @ H - np.eye(n), 2)}\")"
   ]
  },
  {
   "cell_type": "markdown",
   "id": "bc172b6a",
   "metadata": {},
   "source": [
    "Vemos que $\\|H^{-1}H - I\\|$ es bastante grande, lo que sugiere que el problema esta mal condicionado."
   ]
  }
 ],
 "metadata": {
  "kernelspec": {
   "display_name": "Python 3",
   "language": "python",
   "name": "python3"
  },
  "language_info": {
   "codemirror_mode": {
    "name": "ipython",
    "version": 3
   },
   "file_extension": ".py",
   "mimetype": "text/x-python",
   "name": "python",
   "nbconvert_exporter": "python",
   "pygments_lexer": "ipython3",
   "version": "3.10.5"
  }
 },
 "nbformat": 4,
 "nbformat_minor": 5
}

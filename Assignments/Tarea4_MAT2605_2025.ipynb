{
 "cells": [
  {
   "cell_type": "markdown",
   "id": "33ca2358-3d95-4d14-a41c-acd4b57b5841",
   "metadata": {},
   "source": [
    "<div class=\"alert alert-block alert-info\"> \n",
    "    <center><h1 \"> Tarea 4: Cálculo Científico I - MAT2605</h1> </center>\n",
    "</div>\n",
    "    <!-- <b></b>     -->\n",
    "    <h4 style=\"color:#173F8A;;text-align:right;\"> Profesor: Manuel A. Sánchez<br> Ayudantes: Diego Vera, Tomás Malfetano <br></h4>\n",
    "\n",
    "<!-- \n",
    "<div class=\"alert alert-block alert-success\"> Use green boxes sparingly, and only for some specific purpose that the other boxes can't cover. For example, if you have a lot of related content to link to, maybe you decide to use green boxes for related links from each section of a notebook. </div>\n",
    "\n",
    "<div class=\"alert alert-block alert-warning\"> Use yellow boxes for examples that are not inside code cells, or use for mathematical formulas if needed. </div>\n",
    "\n",
    "<div class=\"alert alert-block alert-danger\"> In general, just avoid the red boxes. </div>\n",
    "\n",
    "############# Markdown parser in Sphinx ##################\n",
    "\n",
    "<div class=\"admonition note\"> <p class=\"admonition-title\">Note</p> <p>You should note that the title will be automatically capitalized.</p> </div>\n",
    "\n",
    "<div class=\"admonition danger\"> <p class=\"admonition-title\">Don't try this at home</p> <p>...</p> </div>\n",
    " -->\n",
    "<!-- <div class=\"admonition important\"> <p>This is an admonition box without a title.</p> </div> -->"
   ]
  },
  {
   "cell_type": "markdown",
   "id": "1b425802-78f4-4ca1-8060-a1e44e65234c",
   "metadata": {},
   "source": [
    "<div class=\"alert alert-block alert-success\"> <b> Nombre de estudiante: </b> INCLUIR NOMBRE EN LA ENTREGA DE RESPUESTAS</div>\n"
   ]
  },
  {
   "cell_type": "markdown",
   "id": "73f186cf-aee7-4327-a98b-56f3d52ad283",
   "metadata": {},
   "source": [
    "<div class=\"alert alert-block alert-info\"> <b> Problema 1. Valores propios </b> </div>\n",
    "Muestre que el problema de encontrar los zeros de un polinomio de grado menor or igual a $n$ con coeficientes reales\n",
    "$$\n",
    "p_n(x) = \\sum_{k=0}^{n} a_k x^{k},\\;a_n\\neq 0,\n",
    "$$\n",
    "es equivalente a determinar los valores propios de la matriz $C$ asociada a $p_n$\n",
    "$$\n",
    "C = \n",
    "\\begin{bmatrix}\n",
    "-(a_{n-1}/a_{n}) & -(a_{n-2}/a_{n}) & \\ldots & -(a_1/a_n) & -(a_0/a_n) \\\\\n",
    "1 & 0 & \\ldots & 0 & 0 \\\\\n",
    "0 & 1 & \\ddots & \\vdots & 0 \\\\\n",
    "\\vdots & \\ddots & \\ddots & 0 & \\vdots \\\\\n",
    "0 & \\ldots & 0 & 1 & 0\n",
    "\\end{bmatrix}\n",
    "$$\n"
   ]
  },
  {
   "cell_type": "markdown",
   "id": "8e4c5170-528a-4334-9097-9008daf85d4e",
   "metadata": {},
   "source": [
    "<div class=\"alert alert-block alert-success\"> <b> Solución. </b> </div>"
   ]
  },
  {
   "cell_type": "markdown",
   "id": "7ba2db86-5627-48bd-b126-298e419095c4",
   "metadata": {},
   "source": [
    "<div class=\"alert alert-block alert-info\"> <b> Problema 2. Householder e iteración QR para raíces de polinomios</b> </div>\n",
    "\n",
    "\n",
    "Escriba un algoritmo que utilice el algoritmo QR (cálculo de valores propios) para  calcular las raíces de un polinomio $p(x) = \\sum_{i=0}^{n} a_{n} x^{n}$.\n",
    "Use el algoritmo para calcular las raíces del polinomio $p(x) = x^{4} - 7x^{3} +15 x^{2} -13 x +4$.\n",
    "\n"
   ]
  },
  {
   "cell_type": "markdown",
   "id": "d1b4f022-f8c6-44e0-9305-8ac9870f5686",
   "metadata": {},
   "source": [
    "<div class=\"alert alert-block alert-success\"> <b> Solución. </b> </div>\n"
   ]
  },
  {
   "cell_type": "markdown",
   "id": "3dee1d4d-81c0-43ee-8a19-3673919bfc19",
   "metadata": {},
   "source": [
    "<div class=\"alert alert-block alert-info\"> <b> Problema 3. Ecuaciones no lineales </b> </div>\n",
    "\n",
    "Analice la convergencia de la iterción de punto fijo $x^{(k+1)} = \\phi_j(x^{(k)})$ para calcular los zeros de la funcion $f(x) = x^{2} - x -2 $ para las siguientes funciones de iteracion:\n",
    "- $\\phi_1(x) = x^{2}-2$.\n",
    "- $\\phi_2(x) = \\sqrt{2+x}$.\n",
    "- $\\phi_3(x) = -\\sqrt{2+x}$.\n",
    "- $\\phi_4(x) = 1+2/x$, $x\\neq 0$.\n"
   ]
  },
  {
   "cell_type": "markdown",
   "id": "e1df6556-84d2-4a6b-a155-80b7a0e3a5c4",
   "metadata": {},
   "source": [
    "<div class=\"alert alert-block alert-success\"> <b> Solución. </b> </div>\n"
   ]
  },
  {
   "cell_type": "markdown",
   "id": "a94b8cc3-c5f8-44f8-bb5c-c76359004d25",
   "metadata": {},
   "source": [
    "<div class=\"alert alert-block alert-info\"> <b> Problema 4. Ecuaciones no lineales práctico- Método de Newton-Horner</b> </div>\n",
    "\n",
    "Considere la siguiente iteración para calcular las raíz $z$ de un polinomio $p\\in \\mathcal P_{n}(\\mathbb R)$,\n",
    "$$\n",
    "x^{(k+1)}\\,\\,=\\,\\, x^{(k)} - \\frac{p(x^{(k)})}{q(x^{(k)})}\n",
    "$$\n",
    "donde $q\\in \\mathcal P_{n-1}(\\mathbb R)$ es el polinomio tal que $p(x) = (x-z) q(x)$. \n",
    "1. Programe el método la iteración evaluando los polinomios $p$ y $q$ usando el algoritmo de Horner visto en clases.\n",
    "2. Calcule el número de operaciones del algoritmo por cada iteración.\n",
    "3.  Use el algoritmo para calcular las raíces del polinomio $p(x) = x^{4} - 7x^{3} +15 x^{2} -13 x +4$. Use el criterio de detención $|x^{(k+1)}-x^{(k)}|<10^{-15}$.\n",
    "\n",
    "\n"
   ]
  },
  {
   "cell_type": "markdown",
   "id": "3a2e36a0-1afb-4e6d-92e8-55bd7d77784c",
   "metadata": {},
   "source": [
    "<div class=\"alert alert-block alert-success\"> <b> Solución. </b> </div>\n"
   ]
  }
 ],
 "metadata": {
  "kernelspec": {
   "display_name": "Python 3 (ipykernel)",
   "language": "python",
   "name": "python3"
  },
  "language_info": {
   "codemirror_mode": {
    "name": "ipython",
    "version": 3
   },
   "file_extension": ".py",
   "mimetype": "text/x-python",
   "name": "python",
   "nbconvert_exporter": "python",
   "pygments_lexer": "ipython3",
   "version": "3.10.11"
  }
 },
 "nbformat": 4,
 "nbformat_minor": 5
}

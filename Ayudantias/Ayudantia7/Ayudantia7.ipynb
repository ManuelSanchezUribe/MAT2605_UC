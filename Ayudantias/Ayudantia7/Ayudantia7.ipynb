{
 "cells": [
  {
   "cell_type": "markdown",
   "id": "f80be83a",
   "metadata": {},
   "source": [
    "<center><h1 style=\"color:#173F8A;\"> Cálculo Científico I, MAT2605, 2025-2 </h1></center>\n",
    "<h3 style=\"color:#173F8A;text-align:left;\"> Facultad de Matemáticas<br>  Pontificia Universidad Catolica de Chile <br>  </h3>\n",
    "<h3 style=\"color:#0176DE;text-align:left;\"> Profesor: Manuel A. Sanchez<br> </h3>\n",
    "<h4 style=\"color:#0176DE;text-align:left;\"> Ayudantes: Tomás Malfetano (tomas.malfetano@uc.cl), Diego Vera (dva@uc.cl)<br> </h4>\n",
    "<hr style=\"border:2px solid #03122E\"> </hr>\n",
    "\n",
    "<!-- Palette colors UC: celeste:#0176DE, azul #173F8A, azul oscuro: #03122E, amarillo: #FEC60D, amarillo oscuro: #E3AE00 -->\n",
    "<!--\n",
    "<figure>\n",
    "<img align =\"right\" src=\"IMClogo.png\" alt=\"logo\" width=\"200\" height=\"400\"><br><br><br><br><br>\n",
    "</figure>\n",
    " -->\n",
    "<!-- Palette colors UC:\n",
    "Primaria: \n",
    "celeste:#0176DE, azul #173F8A, azul oscuro: #03122E, amarillo: #FEC60D, amarillo oscuro: #E3AE00 \n",
    "Secundaria\n",
    "gris oscuro: #707070\n",
    "-->"
   ]
  },
  {
   "cell_type": "markdown",
   "id": "17f74ffb",
   "metadata": {},
   "source": [
    "# Ayudantía 7"
   ]
  },
  {
   "cell_type": "code",
   "execution_count": null,
   "id": "066e71f8",
   "metadata": {},
   "outputs": [],
   "source": [
    "import numpy as np"
   ]
  },
  {
   "cell_type": "markdown",
   "id": "f416ca53",
   "metadata": {},
   "source": [
    "## Problema 1"
   ]
  },
  {
   "cell_type": "markdown",
   "id": "ef6153dc",
   "metadata": {},
   "source": [
    "Considere la matriz de $n \\times n$:\n",
    "\n",
    "$$A = \\begin{bmatrix} 5 & 1 & 0 & ... & 0 \\\\ 1 & 5 & 1 & ... & 0 \\\\ \\vdots & & & & \\vdots \\\\ 0 & ... & 1 & 5 & 1 \\\\ 0 & ... & 0 & 1 & -1\\end{bmatrix}$$\n",
    "\n",
    "Es decir, con 1 en la sub y superdiagonal, y 5 en la diagonal salvo el último elemento que es -1.\n",
    "\n",
    "1. Use el teorema de Gershgorin para estimar cual es el valor propio de menor magnitud de A.\n",
    "2. Sea $n=10$. Programe el algoritmo de iteración inversa para calcular dicho valor propio y su vector asociado, utilizando como estimado inicial el resultado anterior, tolerancia $10^{-12}$ y un máximo de 1000 iteraciones."
   ]
  },
  {
   "cell_type": "code",
   "execution_count": null,
   "id": "c1f6a9ff",
   "metadata": {},
   "outputs": [],
   "source": [
    "n = 10\n",
    "A = np.zeros(shape=(n,n))\n",
    "A += np.diag(np.ones(n-1), k=1)\n",
    "A += np.diag(np.ones(n-1), k=-1)\n",
    "A += np.eye(n) * 5\n",
    "A[-1, -1] = -1"
   ]
  },
  {
   "cell_type": "markdown",
   "id": "fcd0cee2",
   "metadata": {},
   "source": [
    "## Problema 2"
   ]
  },
  {
   "cell_type": "markdown",
   "id": "c13e2101",
   "metadata": {},
   "source": [
    "1. En el cálculo de la transformación de Householder, definimos un vector $v = x \\pm \\textrm{sign}(x_1) \\|x\\| e_1$. Argumente geométricamente porque podemos escoger cualquier signo para este cálculo. ¿Cual conviente utilizar en la práctica?\n",
    "\n",
    "2. Describa un algoritmo para resolver el sistema lineal $Ax=b$ vía transformaciones de Householder (Hint: se puede usar transformaciones de Householder para calcular una factorización de $A$)."
   ]
  },
  {
   "cell_type": "markdown",
   "id": "75cbd818",
   "metadata": {},
   "source": [
    "## Problema 3"
   ]
  },
  {
   "cell_type": "markdown",
   "id": "19d90f71",
   "metadata": {},
   "source": [
    "Programe un algoritmo para calcular la factorización QR de una matriz cuadrada, basado el algoritmo de Gram-Schmidt. Pruebe su algoritmo con la siguiente matriz y verifique que la factorización es correcta:\n",
    "\n",
    "$$A = \\begin{bmatrix} 2 & 1 & 4 \\\\ 3 & 1 & 1 \\\\ 2 & 2 & 1 \\end{bmatrix}$$"
   ]
  },
  {
   "cell_type": "code",
   "execution_count": null,
   "id": "1ac2eb93",
   "metadata": {},
   "outputs": [],
   "source": [
    "A = np.array([[2, 1, 4],\n",
    "              [3, 1, 1],\n",
    "              [2, 2, 1]])"
   ]
  },
  {
   "cell_type": "markdown",
   "id": "ec14d72a",
   "metadata": {},
   "source": [
    "## Problema 4"
   ]
  },
  {
   "cell_type": "markdown",
   "id": "189e00e7",
   "metadata": {},
   "source": [
    "Sea $A$ la siguiente matriz simétrica, sin valores propios repetidos:\n",
    "\n",
    "$$A = \\begin{bmatrix} 2 & 1 & 0 \\\\ 1 & 2 & 1 \\\\ 0 & 1 & 2 \\end{bmatrix}$$\n",
    "\n",
    "1. Escriba una versión modificada de la iteración de potencia, donde se admiten dos vectores iniciales a los que se aplica la iteración en paralelo, pero en cada iteración se ortonormalizan los estimados de vector propio. ¿Que ocurre con los valor propios resultantes?\n",
    "2. A partir de lo encontrado, piense en un algoritmo para calcular todos los valores propios de $A$, utilizando la factorización $QR$ de $A$"
   ]
  },
  {
   "cell_type": "code",
   "execution_count": null,
   "id": "516cc69f",
   "metadata": {},
   "outputs": [],
   "source": [
    "A = np.array([[2, 1, 0],\n",
    "              [1, 2, 1],\n",
    "              [0, 1, 2]])"
   ]
  }
 ],
 "metadata": {
  "kernelspec": {
   "display_name": "Python 3",
   "language": "python",
   "name": "python3"
  },
  "language_info": {
   "codemirror_mode": {
    "name": "ipython",
    "version": 3
   },
   "file_extension": ".py",
   "mimetype": "text/x-python",
   "name": "python",
   "nbconvert_exporter": "python",
   "pygments_lexer": "ipython3",
   "version": "3.10.5"
  }
 },
 "nbformat": 4,
 "nbformat_minor": 5
}

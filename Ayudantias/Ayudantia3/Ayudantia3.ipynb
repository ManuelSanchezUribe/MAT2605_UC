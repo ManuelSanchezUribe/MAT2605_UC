{
 "cells": [
  {
   "cell_type": "markdown",
   "id": "f80be83a",
   "metadata": {},
   "source": [
    "<center><h1 style=\"color:#173F8A;\"> Cálculo Científico I, MAT2605, 2025-2 </h1></center>\n",
    "<h3 style=\"color:#173F8A;text-align:left;\"> Facultad de Matemáticas<br>  Pontificia Universidad Catolica de Chile <br>  </h3>\n",
    "<h3 style=\"color:#0176DE;text-align:left;\"> Profesor: Manuel A. Sanchez<br> </h3>\n",
    "<h4 style=\"color:#0176DE;text-align:left;\"> Ayudantes: Tomás Malfetano (tomas.malfetano@uc.cl), Diego Vera (dva@uc.cl)<br> </h4>\n",
    "<hr style=\"border:2px solid #03122E\"> </hr>\n",
    "\n",
    "<!-- Palette colors UC: celeste:#0176DE, azul #173F8A, azul oscuro: #03122E, amarillo: #FEC60D, amarillo oscuro: #E3AE00 -->\n",
    "<!--\n",
    "<figure>\n",
    "<img align =\"right\" src=\"IMClogo.png\" alt=\"logo\" width=\"200\" height=\"400\"><br><br><br><br><br>\n",
    "</figure>\n",
    " -->\n",
    "<!-- Palette colors UC:\n",
    "Primaria: \n",
    "celeste:#0176DE, azul #173F8A, azul oscuro: #03122E, amarillo: #FEC60D, amarillo oscuro: #E3AE00 \n",
    "Secundaria\n",
    "gris oscuro: #707070\n",
    "-->"
   ]
  },
  {
   "cell_type": "markdown",
   "id": "17f74ffb",
   "metadata": {},
   "source": [
    "# Ayudantía 2"
   ]
  },
  {
   "cell_type": "code",
   "execution_count": null,
   "id": "066e71f8",
   "metadata": {},
   "outputs": [],
   "source": [
    "import numpy as np"
   ]
  },
  {
   "cell_type": "markdown",
   "id": "f416ca53",
   "metadata": {},
   "source": [
    "## Problema 1"
   ]
  },
  {
   "cell_type": "markdown",
   "id": "460227ed",
   "metadata": {},
   "source": [
    "Dada una norma $\\| \\cdot \\|$ sobre $\\mathbb{R^n}$, se define la norma inducida por $\\| \\cdot \\|$ sobre $\\mathbb{R^{n \\times n}}$ como:\n",
    "\n",
    "$$\\|A\\| = \\sup_{x \\in \\mathbb{R^n}} \\frac{\\|Ax\\|}{\\|x\\|}$$\n",
    "\n",
    "Demuestre las siguientes afirmaciones:\n",
    "\n",
    "1. La norma inducida es una norma para las matrices de $n \\times n$.\n",
    "2. $\\|AB\\| \\leq \\|A\\| \\|B\\|$."
   ]
  },
  {
   "cell_type": "markdown",
   "id": "fcd0cee2",
   "metadata": {},
   "source": [
    "## Problema 2"
   ]
  },
  {
   "cell_type": "markdown",
   "id": "e59cf24d",
   "metadata": {},
   "source": [
    "Usando la norma usual ($\\|\\cdot \\|_2$), calcule analíticamente (a mano) el número de condición $\\kappa(A)$ y $\\kappa(B)$ de las matrices:\n",
    "\n",
    "$$A = \\begin{bmatrix} 0 & 4 & -3 \\\\ -2 & 0 & 0 \\\\ 0 & 3 & 4 \\end{bmatrix} \\quad B = \\begin{bmatrix} -2 & 0 & -5 \\\\ 0 & -2 & 5 \\\\ -5 & 5 & -7 \\end{bmatrix}$$\n",
    "\n",
    "Y revise sus repuestas con ```numpy```."
   ]
  },
  {
   "cell_type": "markdown",
   "id": "75cbd818",
   "metadata": {},
   "source": [
    "## Problema 3"
   ]
  },
  {
   "cell_type": "markdown",
   "id": "b55676a3",
   "metadata": {},
   "source": [
    "El método de Richardson es un método iterativo para la solución de sistemas lineales. Para el sistema lineal $Ax = b$, la matriz $A$ se divide de la forma $A = M - N$, con $M = \\frac{1}{\\omega}I$ y $\\omega \\in \\mathbb{R}$ un parametro.\n",
    "\n",
    "1. Justifique que $M$ es fácil de invertir.\n",
    "2. Identifique la matriz de recurrencia $T$ y el vector $c$ tal que $x^{(k+1)} = Tx^{(k)} + c$.\n",
    "3. Ahora suponga que $A^T = A \\succ 0$ (es decir, es simétrica definida positiva), encuentre una condición que debe cumplir $\\omega$, en función de los valores propios de $A$, para que el método converga. ¿Siempre es posible escoger un $\\omega$ que garantize que converga?"
   ]
  },
  {
   "cell_type": "markdown",
   "id": "22954c0b",
   "metadata": {},
   "source": [
    "## Problema 4"
   ]
  },
  {
   "cell_type": "markdown",
   "id": "4ea6c6a1",
   "metadata": {},
   "source": [
    "Programe el algoritmo de la descomposición de Cholesky, y utilizelo para resolver el sistema $Ax=b$ con:\n",
    "$$A = \\begin{bmatrix} 1 & 0 & 2 \\\\ 0 & 4 & 2 \\\\ 2 & 2 & 14 \\end{bmatrix} \\quad b = \\begin{bmatrix} 1 \\\\ 2 \\\\ 3 \\end{bmatrix}$$"
   ]
  }
 ],
 "metadata": {
  "kernelspec": {
   "display_name": "Python 3",
   "language": "python",
   "name": "python3"
  },
  "language_info": {
   "codemirror_mode": {
    "name": "ipython",
    "version": 3
   },
   "file_extension": ".py",
   "mimetype": "text/x-python",
   "name": "python",
   "nbconvert_exporter": "python",
   "pygments_lexer": "ipython3",
   "version": "3.11.7"
  }
 },
 "nbformat": 4,
 "nbformat_minor": 5
}

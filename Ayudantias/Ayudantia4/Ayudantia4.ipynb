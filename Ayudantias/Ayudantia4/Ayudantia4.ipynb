{
 "cells": [
  {
   "cell_type": "markdown",
   "id": "f80be83a",
   "metadata": {},
   "source": [
    "<center><h1 style=\"color:#173F8A;\"> Cálculo Científico I, MAT2605, 2025-2 </h1></center>\n",
    "<h3 style=\"color:#173F8A;text-align:left;\"> Facultad de Matemáticas<br>  Pontificia Universidad Catolica de Chile <br>  </h3>\n",
    "<h3 style=\"color:#0176DE;text-align:left;\"> Profesor: Manuel A. Sanchez<br> </h3>\n",
    "<h4 style=\"color:#0176DE;text-align:left;\"> Ayudantes: Tomás Malfetano (tomas.malfetano@uc.cl), Diego Vera (dva@uc.cl)<br> </h4>\n",
    "<hr style=\"border:2px solid #03122E\"> </hr>\n",
    "\n",
    "<!-- Palette colors UC: celeste:#0176DE, azul #173F8A, azul oscuro: #03122E, amarillo: #FEC60D, amarillo oscuro: #E3AE00 -->\n",
    "<!--\n",
    "<figure>\n",
    "<img align =\"right\" src=\"IMClogo.png\" alt=\"logo\" width=\"200\" height=\"400\"><br><br><br><br><br>\n",
    "</figure>\n",
    " -->\n",
    "<!-- Palette colors UC:\n",
    "Primaria: \n",
    "celeste:#0176DE, azul #173F8A, azul oscuro: #03122E, amarillo: #FEC60D, amarillo oscuro: #E3AE00 \n",
    "Secundaria\n",
    "gris oscuro: #707070\n",
    "-->"
   ]
  },
  {
   "cell_type": "markdown",
   "id": "17f74ffb",
   "metadata": {},
   "source": [
    "# Ayudantía 4"
   ]
  },
  {
   "cell_type": "code",
   "execution_count": 2,
   "id": "dc8e4aa8",
   "metadata": {},
   "outputs": [],
   "source": [
    "import numpy as np"
   ]
  },
  {
   "cell_type": "markdown",
   "id": "c3399fa7",
   "metadata": {},
   "source": [
    "# Problema 1"
   ]
  },
  {
   "cell_type": "markdown",
   "id": "a240c5d1",
   "metadata": {},
   "source": [
    "Considere la matriz\n",
    "\n",
    "$$\n",
    "A = \n",
    "\\begin{pmatrix}\n",
    "1 & 1 + \\varepsilon \\\\\n",
    "1 - \\varepsilon & 1\n",
    "\\end{pmatrix}\\, \\text{, y el vector }\\, \n",
    "b = \n",
    "\\begin{pmatrix}\n",
    "2 \\\\\n",
    "2\n",
    "\\end{pmatrix}\n",
    "$$\n",
    "donde $\\varepsilon \\in \\mathbb{R}$."
   ]
  },
  {
   "cell_type": "markdown",
   "id": "8610b652",
   "metadata": {},
   "source": [
    "1.  Encuentre la solución exacta del sistema $Ax = b$.\n",
    "2.  Considere $\\alpha > 0$ y $\\Delta b = \\alpha (1, 1)^T$. Calcule $\\Delta x$ tal que $A(x + \\Delta x) = b + \\Delta b$.\n",
    "3.  Muestre que \n",
    "$$\n",
    "\\|\\Delta x\\|_\\infty \\leq\n",
    "\\frac{(2 + \\varepsilon)^2}{\\varepsilon^2}\\|\\Delta b\\|_\\infty\n",
    "$$"
   ]
  },
  {
   "cell_type": "markdown",
   "id": "41ea91d6",
   "metadata": {},
   "source": [
    "# Problema 2\n",
    "\n",
    "Problema 16 pag42 de la lista. Dejar ver la convergencia de la matriz anterior como propuesto."
   ]
  },
  {
   "cell_type": "markdown",
   "id": "38775b53",
   "metadata": {},
   "source": [
    "Para $a\\in \\mathbb{R}$ consideremos el sistema lineal $Ax=b$ con \n",
    "\n",
    "$$\n",
    "A = \n",
    "\\begin{pmatrix}\n",
    "a & -2 \\\\\n",
    "-2 & 4\n",
    "\\end{pmatrix}\\, \\text{, y }\\, \n",
    "b = \n",
    "\\begin{pmatrix}\n",
    "2 \\\\\n",
    "2\n",
    "\\end{pmatrix}\n",
    "$$"
   ]
  },
  {
   "cell_type": "markdown",
   "id": "4a402b60",
   "metadata": {},
   "source": [
    "1.  De condiciones necesarias y suficientes para el parámetro $a$ tal que los métodos de Jacobi  y Gauss-Seidel convergen.\n",
    "2.  Para el caso $a = 4$ ¿ambos métodos convergen? Sin utilizar la solución exacta, establezca una cota superior para el número de iteraciones necesarias para asegurar que el error en norma infinita es menor a $10^{-3}$. Considere como vector inicial a $x^{0} = (1, 0)^T$.\n",
    "3.  **Propuesto:** Para el sistema de la pregunta anterior, de condiciones necesarias para el parámetro $\\varepsilon$ tal que los métodos de Jacobi y Gauss-Seidel convergen. "
   ]
  },
  {
   "cell_type": "markdown",
   "id": "5fddd7b6",
   "metadata": {},
   "source": [
    "# Problema 3"
   ]
  },
  {
   "cell_type": "markdown",
   "id": "658445cf",
   "metadata": {},
   "source": [
    "Recuerde el algoritmo iterativo de Richardson con parámetro $\\omega \\in \\mathbb{R}$ para resolver el problema $Ax = b$.\n",
    "\n",
    "1.  Exprese el método en la forma $x^{k+1} = Tx^{k} + c$ y derive una expresión para la i-ésima componente de $x^{k+1}$.\n",
    "2.  Dado un valor inicial $x^0$, escriba un pseudocódigo del algoritmo, considerando la cantidad de iteraciones como una entrada de este.\n",
    "3.  Determine la cantidad de operaciones del algoritmo completo para una cantidad arbitraria de iteraciones. Ahora considere que el parámetro $\\omega$ tiene un valor distinto en cada iteración, es decir, $\\omega := \\omega_k$ ¿Como cambia el pseudocódigo?¿Cual es la cantidad de operaciones del nuevo algoritmo?"
   ]
  },
  {
   "cell_type": "markdown",
   "id": "c0a17b9e",
   "metadata": {},
   "source": [
    "# Problema 4\n",
    "\n"
   ]
  },
  {
   "cell_type": "markdown",
   "id": "b05e52bc",
   "metadata": {},
   "source": [
    "Considere las siguientes matrices simétricas:\n",
    "\n",
    "$$\n",
    "A_1 = \n",
    "\\begin{pmatrix}\n",
    "12 & 4 & 3 \\\\\n",
    "4 & 2 & -1 \\\\\n",
    "3 & -1 & 7\n",
    "\\end{pmatrix}\n",
    "$$\n",
    "\n",
    "$$\n",
    "A_2 = \n",
    "\\begin{pmatrix}\n",
    "5 & -2 & -3 \\\\\n",
    "-2 & -9 & -4 \\\\\n",
    "-3 & -4 & 1\n",
    "\\end{pmatrix}\n",
    "$$\n",
    "\n",
    "$$\n",
    "A_3 = \n",
    "\\begin{pmatrix}\n",
    "1 & 2 & 3 \\\\\n",
    "1 & 0 & 1 \\\\\n",
    "0 & 3 & 2\n",
    "\\end{pmatrix}\n",
    "$$\n",
    "\n",
    "Programe el método de Cholesky y utilícelo para verificar numéricamente que las matrices son definidas positivas.\n"
   ]
  },
  {
   "cell_type": "code",
   "execution_count": 39,
   "id": "788dd831",
   "metadata": {},
   "outputs": [],
   "source": [
    "def cholesky(A_):\n",
    "    n, m = A_.shape\n",
    "    if n != m:\n",
    "        print('La matriz no es cuadrada')\n",
    "        return None\n",
    "    \n",
    "    # Definimos donde guardaremos L\n",
    "    L = np.zeros((n, n))\n",
    "\n",
    "    # Iteramos\n",
    "    for k in range(n):\n",
    "        for i in range(k+1):\n",
    "            if i == k: # i = k\n",
    "                L[i, i] = np.sqrt(A_[i, i] - np.sum([L[i, j]**2 for j in range(i)]))\n",
    "            else: # i < k\n",
    "                L[k, i] = (1/L[i, i]) * (A_[i, k] - np.sum([L[i, j]*L[k, j] for j in range(i)]))\n",
    "    return L"
   ]
  },
  {
   "cell_type": "code",
   "execution_count": 40,
   "id": "4170a809",
   "metadata": {},
   "outputs": [
    {
     "name": "stdout",
     "output_type": "stream",
     "text": [
      "[[ 3.46410162  0.          0.        ]\n",
      " [ 1.15470054  0.81649658  0.        ]\n",
      " [ 0.8660254  -2.44948974  0.5       ]]\n",
      "[[12.  4.  3.]\n",
      " [ 4.  2. -1.]\n",
      " [ 3. -1.  7.]]\n"
     ]
    }
   ],
   "source": [
    "A1 = np.array([[12, 4, 3], \n",
    "               [4, 2, -1],\n",
    "               [3, -1, 7]])\n",
    "\n",
    "L1 = cholesky(A1)\n",
    "print(L1)\n",
    "print(L1@L1.T)"
   ]
  },
  {
   "cell_type": "code",
   "execution_count": 52,
   "id": "f17721ce",
   "metadata": {},
   "outputs": [
    {
     "name": "stdout",
     "output_type": "stream",
     "text": [
      "[-10.93550447   6.60675077   1.3287537 ]\n"
     ]
    }
   ],
   "source": [
    "A2 = np.array([[5, -2, -3], \n",
    "               [-2, -9, -4], \n",
    "               [-3, -4, 1]])\n",
    "\n",
    "print(np.linalg.eig(A2)[0])"
   ]
  },
  {
   "cell_type": "code",
   "execution_count": null,
   "id": "6e5ab861",
   "metadata": {},
   "outputs": [
    {
     "name": "stdout",
     "output_type": "stream",
     "text": [
      "[[ 2.23606798  0.          0.        ]\n",
      " [-0.89442719         nan  0.        ]\n",
      " [-1.34164079         nan         nan]]\n",
      "[[ 5. nan nan]\n",
      " [nan nan nan]\n",
      " [nan nan nan]]\n"
     ]
    },
    {
     "name": "stderr",
     "output_type": "stream",
     "text": [
      "C:\\Users\\diego\\AppData\\Local\\Temp\\ipykernel_15308\\1821734469.py:14: RuntimeWarning: invalid value encountered in sqrt\n",
      "  L[i, i] = np.sqrt(A_[i, i] - np.sum([L[i, j]**2 for j in range(i)]))\n"
     ]
    }
   ],
   "source": [
    "L2 = cholesky(A2)\n",
    "print(L2)\n",
    "print(L2@L2.T)"
   ]
  },
  {
   "cell_type": "code",
   "execution_count": 43,
   "id": "dad2c5c4",
   "metadata": {},
   "outputs": [
    {
     "name": "stdout",
     "output_type": "stream",
     "text": [
      "[[ 1.  0.  0.]\n",
      " [ 2. nan  0.]\n",
      " [ 3. nan nan]]\n",
      "[[ 1. nan nan]\n",
      " [nan nan nan]\n",
      " [nan nan nan]]\n"
     ]
    },
    {
     "name": "stderr",
     "output_type": "stream",
     "text": [
      "C:\\Users\\diego\\AppData\\Local\\Temp\\ipykernel_15308\\1821734469.py:14: RuntimeWarning: invalid value encountered in sqrt\n",
      "  L[i, i] = np.sqrt(A_[i, i] - np.sum([L[i, j]**2 for j in range(i)]))\n"
     ]
    }
   ],
   "source": [
    "A3 = np.array([[1, 2, 3], \n",
    "               [1, 0, 1], \n",
    "               [0, 3, 2]])\n",
    "L3 = cholesky(A3)\n",
    "print(L3)\n",
    "print(L3@L3.T)"
   ]
  },
  {
   "cell_type": "markdown",
   "id": "42717c88",
   "metadata": {},
   "source": [
    "Como obsevamos, para las matrices $A_2$ y $A_3$ el algoritmo presenta problemas, ya que estas matrices no son, al mismo tiempo, simétricas y definidas positivas. Probamos modificando el tipo de variable en la matriz donde guardamos nuestro resultado."
   ]
  },
  {
   "cell_type": "code",
   "execution_count": 44,
   "id": "9e40fce0",
   "metadata": {},
   "outputs": [],
   "source": [
    "def cholesky2(A_):\n",
    "    n, m = A_.shape\n",
    "    if n != m:\n",
    "        print('La matriz no es cuadrada')\n",
    "        return None\n",
    "    \n",
    "    # Definimos donde guardaremos L\n",
    "    L = np.zeros((n, n), dtype=complex)\n",
    "\n",
    "    # Iteramos\n",
    "    for k in range(n):\n",
    "        for i in range(k+1):\n",
    "            if i == k: # i = k\n",
    "                L[i, i] = np.sqrt(A_[i, i] - np.sum([L[i, j]**2 for j in range(i)]))\n",
    "            else: # i < k\n",
    "                L[k, i] = (1/L[i, i]) * (A_[i, k] - np.sum([L[i, j]*L[k, j] for j in range(i)]))\n",
    "    return L"
   ]
  },
  {
   "cell_type": "code",
   "execution_count": 53,
   "id": "39fd8d8e",
   "metadata": {},
   "outputs": [
    {
     "name": "stdout",
     "output_type": "stream",
     "text": [
      "[[ 2.23606798+0.j          0.        +0.j          0.        +0.j        ]\n",
      " [-0.89442719+0.j          0.        +3.13049517j  0.        +0.j        ]\n",
      " [-1.34164079+0.j          0.        +1.66107907j  1.39970842+0.j        ]]\n",
      "[[ 5.+0.j -2.+0.j -3.+0.j]\n",
      " [-2.+0.j -9.+0.j -4.+0.j]\n",
      " [-3.+0.j -4.+0.j  1.+0.j]]\n",
      "[[ 5. -2. -3.]\n",
      " [-2. -9. -4.]\n",
      " [-3. -4.  1.]]\n"
     ]
    }
   ],
   "source": [
    "A2 = np.array([[5, -2, -3], \n",
    "               [-2, -9, -4], \n",
    "               [-3, -4, 1]])\n",
    "L2 = cholesky2(A2)\n",
    "print(L2)\n",
    "print(L2@L2.T)\n",
    "print(np.real(L2@L2.T))"
   ]
  },
  {
   "cell_type": "code",
   "execution_count": 49,
   "id": "2eac9300",
   "metadata": {},
   "outputs": [
    {
     "name": "stdout",
     "output_type": "stream",
     "text": [
      "[[1.+0.j        0.+0.j        0.+0.j       ]\n",
      " [2.+0.j        0.+2.j        0.+0.j       ]\n",
      " [3.+0.j        0.+2.5j       0.+0.8660254j]]\n",
      "[[1.+0.j 2.+0.j 3.+0.j]\n",
      " [2.+0.j 0.+0.j 1.+0.j]\n",
      " [3.+0.j 1.+0.j 2.+0.j]]\n",
      "[[1. 2. 3.]\n",
      " [2. 0. 1.]\n",
      " [3. 1. 2.]]\n"
     ]
    }
   ],
   "source": [
    "A3 = np.array([[1, 2, 3], \n",
    "               [1, 0, 1], \n",
    "               [0, 3, 2]])\n",
    "L3 = cholesky2(A3)\n",
    "print(L3)\n",
    "print(L3@L3.T)\n",
    "print(np.real(L3@L3.T))"
   ]
  }
 ],
 "metadata": {
  "kernelspec": {
   "display_name": "Python 3",
   "language": "python",
   "name": "python3"
  },
  "language_info": {
   "codemirror_mode": {
    "name": "ipython",
    "version": 3
   },
   "file_extension": ".py",
   "mimetype": "text/x-python",
   "name": "python",
   "nbconvert_exporter": "python",
   "pygments_lexer": "ipython3",
   "version": "3.11.7"
  }
 },
 "nbformat": 4,
 "nbformat_minor": 5
}

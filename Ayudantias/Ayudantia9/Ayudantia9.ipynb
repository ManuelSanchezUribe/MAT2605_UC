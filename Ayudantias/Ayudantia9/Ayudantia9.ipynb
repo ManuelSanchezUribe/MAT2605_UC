{
 "cells": [
  {
   "cell_type": "markdown",
   "id": "f80be83a",
   "metadata": {},
   "source": [
    "<center><h1 style=\"color:#173F8A;\"> Cálculo Científico I, MAT2605, 2025-2 </h1></center>\n",
    "<h3 style=\"color:#173F8A;text-align:left;\"> Facultad de Matemáticas<br>  Pontificia Universidad Catolica de Chile <br>  </h3>\n",
    "<h3 style=\"color:#0176DE;text-align:left;\"> Profesor: Manuel A. Sanchez<br> </h3>\n",
    "<h4 style=\"color:#0176DE;text-align:left;\"> Ayudantes: Tomás Malfetano (tomas.malfetano@uc.cl), Diego Vera (dva@uc.cl)<br> </h4>\n",
    "<hr style=\"border:2px solid #03122E\"> </hr>\n",
    "\n",
    "<!-- Palette colors UC: celeste:#0176DE, azul #173F8A, azul oscuro: #03122E, amarillo: #FEC60D, amarillo oscuro: #E3AE00 -->\n",
    "<!--\n",
    "<figure>\n",
    "<img align =\"right\" src=\"IMClogo.png\" alt=\"logo\" width=\"200\" height=\"400\"><br><br><br><br><br>\n",
    "</figure>\n",
    " -->\n",
    "<!-- Palette colors UC:\n",
    "Primaria: \n",
    "celeste:#0176DE, azul #173F8A, azul oscuro: #03122E, amarillo: #FEC60D, amarillo oscuro: #E3AE00 \n",
    "Secundaria\n",
    "gris oscuro: #707070\n",
    "-->"
   ]
  },
  {
   "cell_type": "markdown",
   "id": "17f74ffb",
   "metadata": {},
   "source": [
    "# Ayudantía 9"
   ]
  },
  {
   "cell_type": "code",
   "execution_count": null,
   "id": "066e71f8",
   "metadata": {},
   "outputs": [],
   "source": [
    "import numpy as np"
   ]
  },
  {
   "cell_type": "markdown",
   "id": "f416ca53",
   "metadata": {},
   "source": [
    "## Problema 1"
   ]
  },
  {
   "cell_type": "markdown",
   "id": "74d810ca",
   "metadata": {},
   "source": [
    "Consideremos el problema de encontrar las raices de la siguiente función:\n",
    "\n",
    "$$f(x) = \\frac{1}{1+x^2}-\\frac{1}{2}$$\n",
    "\n",
    "Las raices de $f$ son $1$ y $-1$.\n",
    "\n",
    "1. Programe el método de Newton. Para calcular la raiz negativa, use como estimado inicial $x_0=2$. ¿Pasa algo raro?\n",
    "2. Ahora programe el método de la bisección, y ejecutelo dos veces, una para encontrar cada raiz."
   ]
  },
  {
   "cell_type": "code",
   "execution_count": null,
   "id": "2d7a86c8",
   "metadata": {},
   "outputs": [],
   "source": [
    "def func_1(x):\n",
    "    return 1 / (1 + x ** 2) - 1/2\n",
    "\n",
    "def d_func_1(x): # Verificar que sea la derivada\n",
    "    return -2*x / ((1 + x**2)**2)"
   ]
  },
  {
   "cell_type": "markdown",
   "id": "fcd0cee2",
   "metadata": {},
   "source": [
    "## Problema 2"
   ]
  },
  {
   "cell_type": "markdown",
   "id": "03e91832",
   "metadata": {},
   "source": [
    "Sean $a$, $b \\in \\mathbb{R}$, $x_0 \\in [-1, 1]$ y la función $f(x) = ax - b$, y consideremos la iteración $x_{n+1} = f(x_n)$. ¿Que condiciones deben cumplir $a$ y $b$ para que el método converga? ¿A que converge?"
   ]
  },
  {
   "cell_type": "markdown",
   "id": "75cbd818",
   "metadata": {},
   "source": [
    "## Problema 3"
   ]
  },
  {
   "cell_type": "markdown",
   "id": "b579f17d",
   "metadata": {},
   "source": [
    "El método \"regula falsi\" es una modificación del método de la bisección. En lugar de dividir el intervalo de busqueda a la mitad en cada iteración, se escoge como punto de separación la intersección del eje $x$ con la recta formada por $f(a)$ y $f(b)$.\n",
    "\n",
    "Considere el problema de encontrar la raiz de $f(x) = \\frac{1}{10}x^3 -x + 1$.\n",
    "\n",
    "1. Utilize el método de bisección ya programado para encontrar la raiz que esta entre $-6$ y $6$.\n",
    "2. Programe el método regula falsi e intente nuevamente encontrar la raiz."
   ]
  },
  {
   "cell_type": "code",
   "execution_count": null,
   "id": "10a29f98",
   "metadata": {},
   "outputs": [],
   "source": [
    "def func_3(x):\n",
    "    return (1/10) * x ** 3 - x + 1"
   ]
  }
 ],
 "metadata": {
  "kernelspec": {
   "display_name": "Python 3",
   "language": "python",
   "name": "python3"
  },
  "language_info": {
   "codemirror_mode": {
    "name": "ipython",
    "version": 3
   },
   "file_extension": ".py",
   "mimetype": "text/x-python",
   "name": "python",
   "nbconvert_exporter": "python",
   "pygments_lexer": "ipython3",
   "version": "3.10.5"
  }
 },
 "nbformat": 4,
 "nbformat_minor": 5
}

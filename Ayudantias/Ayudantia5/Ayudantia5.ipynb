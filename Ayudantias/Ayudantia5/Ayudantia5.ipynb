{
 "cells": [
  {
   "cell_type": "markdown",
   "id": "f80be83a",
   "metadata": {},
   "source": [
    "<center><h1 style=\"color:#173F8A;\"> Cálculo Científico I, MAT2605, 2025-2 </h1></center>\n",
    "<h3 style=\"color:#173F8A;text-align:left;\"> Facultad de Matemáticas<br>  Pontificia Universidad Catolica de Chile <br>  </h3>\n",
    "<h3 style=\"color:#0176DE;text-align:left;\"> Profesor: Manuel A. Sanchez<br> </h3>\n",
    "<h4 style=\"color:#0176DE;text-align:left;\"> Ayudantes: Tomás Malfetano (tomas.malfetano@uc.cl), Diego Vera (dva@uc.cl)<br> </h4>\n",
    "<hr style=\"border:2px solid #03122E\"> </hr>\n",
    "\n",
    "<!-- Palette colors UC: celeste:#0176DE, azul #173F8A, azul oscuro: #03122E, amarillo: #FEC60D, amarillo oscuro: #E3AE00 -->\n",
    "<!--\n",
    "<figure>\n",
    "<img align =\"right\" src=\"IMClogo.png\" alt=\"logo\" width=\"200\" height=\"400\"><br><br><br><br><br>\n",
    "</figure>\n",
    " -->\n",
    "<!-- Palette colors UC:\n",
    "Primaria: \n",
    "celeste:#0176DE, azul #173F8A, azul oscuro: #03122E, amarillo: #FEC60D, amarillo oscuro: #E3AE00 \n",
    "Secundaria\n",
    "gris oscuro: #707070\n",
    "-->"
   ]
  },
  {
   "cell_type": "markdown",
   "id": "17f74ffb",
   "metadata": {},
   "source": [
    "# Ayudantía 5"
   ]
  },
  {
   "cell_type": "code",
   "execution_count": null,
   "id": "066e71f8",
   "metadata": {},
   "outputs": [],
   "source": [
    "import numpy as np\n",
    "import matplotlib.pyplot as plt"
   ]
  },
  {
   "cell_type": "markdown",
   "id": "f416ca53",
   "metadata": {},
   "source": [
    "## Problema 1"
   ]
  },
  {
   "cell_type": "markdown",
   "id": "9c1f84c6",
   "metadata": {},
   "source": [
    "Dada la matriz:\n",
    "$$A = \\begin{bmatrix} 1 & 0 & 1 \\\\ -1 & 1 & 0 \\\\ 1 & 2 & -3 \\end{bmatrix}$$\n",
    "\n",
    "encuentre las matrices de recurencia para el método de Jacobi ($T_J$) y Gauss-Seidel ($T_{GS}$) y sus respectivos polinomios característicos. ¿Cuál de los métodos converge y cual no? (puede usar ```numpy``` para calcular las matrices de recurrencia y la función ```np.roots()``` para encontrar las raices de los polinomios)."
   ]
  },
  {
   "cell_type": "code",
   "execution_count": null,
   "id": "5bab19ec",
   "metadata": {},
   "outputs": [],
   "source": [
    "A = np.array([[1, 0, 1],\n",
    "              [-1, 1, 0],\n",
    "              [1, 2, -3]])"
   ]
  },
  {
   "cell_type": "markdown",
   "id": "fcd0cee2",
   "metadata": {},
   "source": [
    "## Problema 2"
   ]
  },
  {
   "cell_type": "markdown",
   "id": "c2bdc5cf",
   "metadata": {},
   "source": [
    "Sea $L$ y $U$ las partes diagonal estrictamente inferior y superior de $A$, y $D$ su diagonal. El método de Gauss-Seidel simétrico para el sistema $Ax=b$ se define segun las ecuaciones de recurencia:\n",
    "$$(L+D)x^{(k+\\frac{1}{2})} = b - Ux^{(k)}$$\n",
    "$$(D+U)x^{(k+1)}  = b - Lx^{(k+\\frac{1}{2})}$$\n",
    "\n",
    "1. Muestre que el método es consistente (es decir, que $x$ es un punto fijo de las ecuaciones de recurrencia).\n",
    "2. Programe el método de Gauss-Seidel usual y el simétrico.\n",
    "3. Compare la convergencia de ambos para el sistema lineal $Ax=b$, usando como estimado incial $x^{(0)}$:\n",
    "$$A = \\begin{bmatrix} 5 & 2 & -2 \\\\ 1 & 5 & 1 \\\\ 2 & 2 & 5 \\end{bmatrix}, \\quad b = \\begin{bmatrix} 3 \\\\ 2 \\\\ 5 \\end{bmatrix}, \\quad x^{(0)} = \\begin{bmatrix} 1 \\\\ 2 \\\\ 0 \\end{bmatrix}$$"
   ]
  },
  {
   "cell_type": "code",
   "execution_count": null,
   "id": "62511c5f",
   "metadata": {},
   "outputs": [],
   "source": [
    "A = np.array([[5, 2, -2],\n",
    "              [1, 5, 1],\n",
    "              [2, 2, 5]])\n",
    "\n",
    "b = np.array([9, 18, 35])\n",
    "\n",
    "x0 = np.array([1, 2, 0])"
   ]
  },
  {
   "cell_type": "markdown",
   "id": "75cbd818",
   "metadata": {},
   "source": [
    "## Problema 3"
   ]
  },
  {
   "cell_type": "markdown",
   "id": "25bae8db",
   "metadata": {},
   "source": [
    "Sea $A \\in \\mathbb{R}^{n\\times n}$ con espectro $\\sigma(A)$ y $B = A - \\mu I$. Demuestre que:\n",
    "1. $\\lambda \\in \\sigma(A) \\iff \\lambda - \\mu \\in \\sigma(B)$\n",
    "2. $\\lambda \\in \\sigma(A)\\backslash \\{0\\} \\iff \\frac{1}{\\lambda} \\in \\sigma(A^{-1})\\backslash \\{0\\}$\n",
    "3. $\\lambda \\in \\sigma(A) \\iff \\lambda \\in \\sigma(A^T)$"
   ]
  },
  {
   "cell_type": "markdown",
   "id": "ec14d72a",
   "metadata": {},
   "source": [
    "## Problema 4"
   ]
  },
  {
   "cell_type": "markdown",
   "id": "0f2c1c14",
   "metadata": {},
   "source": [
    "El método de Successive over-relaxation (SOR) es una generalización de Gauss-Seidel, que cumple con la relación de recurrencia:\n",
    "\n",
    "$$(D+\\omega L)x^{(k+1)} = \\omega b - (\\omega U + (\\omega - 1)D)x^{(k)}$$\n",
    "\n",
    "Dada la matriz:\n",
    "$$A = \\begin{bmatrix} 2 & 1 & 1 & 1 \\\\ 4 & 3 & 3 & 1 \\\\ 8 & 7 & 9 & 5 \\\\ 6 & 8 & 6 & 5 \\end{bmatrix}$$\n",
    "\n",
    "Programe el método SOR y para $\\omega \\in \\{0.01, 0.02, ..., 2\\}$ y tolerancia $\\epsilon = 10^{-8}$, calcule la cantidad de iteraciones que tarda en converger para cada $\\omega$, y grafique los resultados."
   ]
  },
  {
   "cell_type": "code",
   "execution_count": null,
   "id": "f7732576",
   "metadata": {},
   "outputs": [],
   "source": [
    "A = np.array([2, 1, 1, 1],\n",
    "             [4, 3, 3, 1],\n",
    "             [8, 7, 9, 5],\n",
    "             [6, 8, 9, 5])"
   ]
  }
 ],
 "metadata": {
  "kernelspec": {
   "display_name": "Python 3",
   "language": "python",
   "name": "python3"
  },
  "language_info": {
   "codemirror_mode": {
    "name": "ipython",
    "version": 3
   },
   "file_extension": ".py",
   "mimetype": "text/x-python",
   "name": "python",
   "nbconvert_exporter": "python",
   "pygments_lexer": "ipython3",
   "version": "3.10.5"
  }
 },
 "nbformat": 4,
 "nbformat_minor": 5
}

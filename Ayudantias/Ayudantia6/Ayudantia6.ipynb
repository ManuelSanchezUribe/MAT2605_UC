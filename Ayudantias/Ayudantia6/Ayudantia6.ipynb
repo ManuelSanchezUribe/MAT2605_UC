{
 "cells": [
  {
   "cell_type": "markdown",
   "id": "f80be83a",
   "metadata": {},
   "source": [
    "<center><h1 style=\"color:#173F8A;\"> Cálculo Científico I, MAT2605, 2025-2 </h1></center>\n",
    "<h3 style=\"color:#173F8A;text-align:left;\"> Facultad de Matemáticas<br>  Pontificia Universidad Catolica de Chile <br>  </h3>\n",
    "<h3 style=\"color:#0176DE;text-align:left;\"> Profesor: Manuel A. Sanchez<br> </h3>\n",
    "<h4 style=\"color:#0176DE;text-align:left;\"> Ayudantes: Tomás Malfetano (tomas.malfetano@uc.cl), Diego Vera (dva@uc.cl)<br> </h4>\n",
    "<hr style=\"border:2px solid #03122E\"> </hr>\n",
    "\n",
    "<!-- Palette colors UC: celeste:#0176DE, azul #173F8A, azul oscuro: #03122E, amarillo: #FEC60D, amarillo oscuro: #E3AE00 -->\n",
    "<!--\n",
    "<figure>\n",
    "<img align =\"right\" src=\"IMClogo.png\" alt=\"logo\" width=\"200\" height=\"400\"><br><br><br><br><br>\n",
    "</figure>\n",
    " -->\n",
    "<!-- Palette colors UC:\n",
    "Primaria: \n",
    "celeste:#0176DE, azul #173F8A, azul oscuro: #03122E, amarillo: #FEC60D, amarillo oscuro: #E3AE00 \n",
    "Secundaria\n",
    "gris oscuro: #707070\n",
    "-->"
   ]
  },
  {
   "cell_type": "markdown",
   "id": "17f74ffb",
   "metadata": {},
   "source": [
    "# Ayudantía 6"
   ]
  },
  {
   "cell_type": "code",
   "execution_count": 2,
   "id": "dc8e4aa8",
   "metadata": {},
   "outputs": [],
   "source": [
    "import numpy as np"
   ]
  },
  {
   "cell_type": "markdown",
   "id": "e71c029a",
   "metadata": {},
   "source": [
    "# Problema 1"
   ]
  },
  {
   "cell_type": "markdown",
   "id": "307eac3e",
   "metadata": {},
   "source": [
    "Utilice el teorema de Gershgorin para estimar el número de valores propios con parte real negativa de la matriz\n",
    "\n",
    "$$\n",
    "A = \\begin{pmatrix}\n",
    "    4 & 1 & 0 & 1\\\\\n",
    "    0  & -1& -1/2& 0 \\\\\n",
    "    0  & -1/2&2& 0\\\\\n",
    "    2 & 0 & 0& 3\n",
    "\\end{pmatrix}.\n",
    "$$"
   ]
  },
  {
   "cell_type": "markdown",
   "id": "ff968b02",
   "metadata": {},
   "source": [
    "# Problema 2"
   ]
  },
  {
   "cell_type": "markdown",
   "id": "a7a07f64",
   "metadata": {},
   "source": [
    "Utilice el método de potencia para aproximar el valor propio con módulo mayor de la matriz\n",
    "\n",
    "$$\n",
    "A = \\begin{pmatrix}\n",
    "    3 & 2 & 2 & -4\\\\\n",
    "    2 & 3& 2& -1 \\\\\n",
    "    1 & 1&2& -1\\\\\n",
    "    2 & 2 & 2& -1\n",
    "\\end{pmatrix}.\n",
    "$$\n",
    "\n",
    "Para esto, aplicamos el método dos veces, una vez para cada uno de estos vectores iniciales:\n",
    "$$\n",
    "x_a^{(0)} = (1, 0, 0, 0)^T \\text{ y } \n",
    "x_b^{(0)} = (3, 0, 0, 2)^T\n",
    "$$\n",
    "Luego, comente y explique los resultados."
   ]
  },
  {
   "cell_type": "markdown",
   "id": "c3399fa7",
   "metadata": {},
   "source": [
    "# Problema 3"
   ]
  },
  {
   "cell_type": "markdown",
   "id": "a240c5d1",
   "metadata": {},
   "source": [
    "El objetivo de esta pregunta es encontrar todos los valores propios de la matriz invertible\n",
    "$$\n",
    "A = \\begin{pmatrix}\n",
    "    30 & 6 & 3 & -3\\\\\n",
    "    3  & 60& -3& 4 \\\\\n",
    "    3  & -6&100& -3\\\\\n",
    "    -6 & 4 & -3&120\n",
    "\\end{pmatrix}.\n",
    "$$\n",
    "\n"
   ]
  },
  {
   "cell_type": "markdown",
   "id": "94c5a0b0",
   "metadata": {},
   "source": [
    "1. Considerando el Teorema de Gershgorin y dibuje una región en el plano complejo que contenga los valores propios de la matriz. Luego, note que la matriz $A^T$ tiene los mismos valores propios de $A$ ¿es posible dibujar otra región que contenga los valores propios de la matriz, basandose en el Teorema de Gershgorin?\n",
    "2. Utilizando el resultado de la pregunta anterior, para cada $j = 1, 2, 3, 4$, proponga valores $\\mu_j\\in\\mathbb{C}$ para los cuales se cumpla que\n",
    "$$\n",
    "|\\lambda_j - \\mu_j| < |\\lambda_i - \\mu_j| \\text{ , para todo }i=1, 2, 3, 4\\text{, con }i\\neq j,\n",
    "$$ \n",
    "  donde $\\{\\lambda_j\\}_{j=0}^4$ son los valores propios de $A$. Suponga que los valores propios de $A$ son todos distintos.\n",
    "  \n",
    "3. A partir de la pregunta anterior, piense en una estrategia para calcular todos los valores propios de la matriz $A$. "
   ]
  }
 ],
 "metadata": {
  "kernelspec": {
   "display_name": "Python 3",
   "language": "python",
   "name": "python3"
  },
  "language_info": {
   "codemirror_mode": {
    "name": "ipython",
    "version": 3
   },
   "file_extension": ".py",
   "mimetype": "text/x-python",
   "name": "python",
   "nbconvert_exporter": "python",
   "pygments_lexer": "ipython3",
   "version": "3.11.7"
  }
 },
 "nbformat": 4,
 "nbformat_minor": 5
}

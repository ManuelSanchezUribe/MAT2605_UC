{
 "cells": [
  {
   "cell_type": "markdown",
   "id": "f80be83a",
   "metadata": {},
   "source": [
    "<center><h1 style=\"color:#173F8A;\"> Cálculo Científico I, MAT2605, 2025-2 </h1></center>\n",
    "<h3 style=\"color:#173F8A;text-align:left;\"> Facultad de Matemáticas<br>  Pontificia Universidad Catolica de Chile <br>  </h3>\n",
    "<h3 style=\"color:#0176DE;text-align:left;\"> Profesor: Manuel A. Sanchez<br> </h3>\n",
    "<h4 style=\"color:#0176DE;text-align:left;\"> Ayudantes: Tomás Malfetano (tomas.malfetano@uc.cl), Diego Vera (dva@uc.cl)<br> </h4>\n",
    "<hr style=\"border:2px solid #03122E\"> </hr>\n",
    "\n",
    "<!-- Palette colors UC: celeste:#0176DE, azul #173F8A, azul oscuro: #03122E, amarillo: #FEC60D, amarillo oscuro: #E3AE00 -->\n",
    "<!--\n",
    "<figure>\n",
    "<img align =\"right\" src=\"IMClogo.png\" alt=\"logo\" width=\"200\" height=\"400\"><br><br><br><br><br>\n",
    "</figure>\n",
    " -->\n",
    "<!-- Palette colors UC:\n",
    "Primaria: \n",
    "celeste:#0176DE, azul #173F8A, azul oscuro: #03122E, amarillo: #FEC60D, amarillo oscuro: #E3AE00 \n",
    "Secundaria\n",
    "gris oscuro: #707070\n",
    "-->"
   ]
  },
  {
   "cell_type": "markdown",
   "id": "17f74ffb",
   "metadata": {},
   "source": [
    "# Ayudantía 11"
   ]
  },
  {
   "cell_type": "code",
   "execution_count": null,
   "id": "066e71f8",
   "metadata": {},
   "outputs": [],
   "source": [
    "import numpy as np\n",
    "import matplotlib.pyplot as plt"
   ]
  },
  {
   "cell_type": "markdown",
   "id": "f416ca53",
   "metadata": {},
   "source": [
    "## Problema 1"
   ]
  },
  {
   "cell_type": "markdown",
   "id": "7721ce75",
   "metadata": {},
   "source": [
    "En esta pregunta demostraremos que el determinante de la matriz de Vandermonde, definida como:\n",
    "\n",
    "$$V_n = \\begin{bmatrix} 1 & x_0 & ... & x_0^n \\\\ 1 & x_1 & ... & x_1^n \\\\ \\vdots & \\vdots & \\ddots & \\vdots \\\\ 1 & x_n & ... & x_n^n \\end{bmatrix}$$\n",
    "\n",
    "es $\\mathrm{det}(V_n) = \\prod_{j=1}^{n}\\prod_{i=0}^{j-1}(x_j-x_i)$. Demostramos eso por partes:\n",
    "\n",
    "1. Demuestre que la formula anterior se satisface para $n=2$.\n",
    "2. Definimos la función $\\gamma_n$ como:\n",
    "\n",
    "    $$\\gamma_n(x) = \\begin{bmatrix} 1 & x_0 & ... & x_0^n \\\\ 1 & x_1 & ... & x_1^n \\\\ \\vdots & \\vdots & \\ddots & \\vdots \\\\ 1 & x & ... & x^n \\end{bmatrix}$$\n",
    "\n",
    "    Demuestre que $\\gamma_n(x)$ es un polinomio de grado $n$, con raices en $\\{x_0, ..., x_{n-1}\\}$, y deduzca entonces que puede ser escrito de la forma $\\gamma_n(x) = C(x-x_0)(x-x_1)...(x-x_{n-1})$.\n",
    "3. Demuestre que $C = \\det(V_{n-1})$.\n",
    "4. Concluya que $\\det(V_n) = \\prod_{j=1}^{n}\\prod_{i=0}^{j-1}(x_j-x_i)$, y que $V_n$ es invertible si y solo si todos los $x_j$ son distintos."
   ]
  },
  {
   "cell_type": "markdown",
   "id": "fcd0cee2",
   "metadata": {},
   "source": [
    "## Problema 2"
   ]
  },
  {
   "cell_type": "markdown",
   "id": "8305494d",
   "metadata": {},
   "source": [
    "Sean $P(x)$ y $Q(x)$ dos polinomios de grado $n$ que interpolan a una funcion $f(x)$ en los puntos $\\{x_0, ..., x_n\\}$ (puede asumir que son todos distintos).\n",
    "1. Demuestre que $P(x) = Q(x)$ y que si $f(x)$ es un polinomio de grado $n$, $f(x)=P(x)=Q(x)$.\n",
    "2. Use esto para demostrar que $\\sum_{k=0}^{n}L_k(x) = 1$, donde $L_k$ son la base de Lagrange:\n",
    "    $$L_k(x) = \\prod_{j=0, j\\neq k}^{n}\\frac{(x-x_j)}{(x_k-x_j)}$$"
   ]
  },
  {
   "cell_type": "markdown",
   "id": "75cbd818",
   "metadata": {},
   "source": [
    "## Problema 3"
   ]
  },
  {
   "cell_type": "markdown",
   "id": "cf08e235",
   "metadata": {},
   "source": [
    "Consideremos el problema de calcular el polinomio interpolante de la función $f$ definida por:\n",
    "$$f(x) = \\frac{1}{1+25x^2}$$\n",
    "\n",
    "1. Programe una función que calule el polinomio interpolante para algun conjunto de nodos, y lo evalua en otro conjunto de puntos.\n",
    "2. Use la función para calcular el interpolante de $f(x)$ y graficarlo, usando los siguientes nodos:\n",
    "    1. Equidistantes: $-1 + \\frac{2k}{n}$ con $k=0,...,n$.\n",
    "    2. Chebyshev (1er tipo): $\\cos\\big(\\frac{(k+1/2)\\pi}{n}\\big)$ con $k=0,...,n$.\n",
    "    \n",
    "    Para $n=5, 10, 20, 50$.\n",
    "3. Relacione lo que ve con la cota del error de interpolación polinomial."
   ]
  },
  {
   "cell_type": "code",
   "execution_count": null,
   "id": "c830d56f",
   "metadata": {},
   "outputs": [],
   "source": [
    "def f(x):\n",
    "    return 1 / (1 + 25*x**2)"
   ]
  },
  {
   "cell_type": "markdown",
   "id": "eae45954",
   "metadata": {},
   "source": [
    "## Problema 4"
   ]
  },
  {
   "cell_type": "markdown",
   "id": "ddc81d7b",
   "metadata": {},
   "source": [
    "Calcule el numero de condición de la matriz de Vandermonde para los conjuntos de nodos de la pregunta anterior, con $n$ desde 1 hasta 50. Grafique los resultados."
   ]
  }
 ],
 "metadata": {
  "kernelspec": {
   "display_name": "Python 3",
   "language": "python",
   "name": "python3"
  },
  "language_info": {
   "codemirror_mode": {
    "name": "ipython",
    "version": 3
   },
   "file_extension": ".py",
   "mimetype": "text/x-python",
   "name": "python",
   "nbconvert_exporter": "python",
   "pygments_lexer": "ipython3",
   "version": "3.10.5"
  }
 },
 "nbformat": 4,
 "nbformat_minor": 5
}

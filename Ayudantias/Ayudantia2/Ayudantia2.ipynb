{
 "cells": [
  {
   "cell_type": "markdown",
   "id": "f80be83a",
   "metadata": {},
   "source": [
    "<center><h1 style=\"color:#173F8A;\"> Cálculo Científico I, MAT2605, 2025-2 </h1></center>\n",
    "<h3 style=\"color:#173F8A;text-align:left;\"> Facultad de Matemáticas<br>  Pontificia Universidad Catolica de Chile <br>  </h3>\n",
    "<h3 style=\"color:#0176DE;text-align:left;\"> Profesor: Manuel A. Sanchez<br> </h3>\n",
    "<h4 style=\"color:#0176DE;text-align:left;\"> Ayudantes: Tomás Malfetano (tomas.malfetano@uc.cl), Diego Vera (dva@uc.cl)<br> </h4>\n",
    "<hr style=\"border:2px solid #03122E\"> </hr>\n",
    "\n",
    "<!-- Palette colors UC: celeste:#0176DE, azul #173F8A, azul oscuro: #03122E, amarillo: #FEC60D, amarillo oscuro: #E3AE00 -->\n",
    "<!--\n",
    "<figure>\n",
    "<img align =\"right\" src=\"IMClogo.png\" alt=\"logo\" width=\"200\" height=\"400\"><br><br><br><br><br>\n",
    "</figure>\n",
    " -->\n",
    "<!-- Palette colors UC:\n",
    "Primaria: \n",
    "celeste:#0176DE, azul #173F8A, azul oscuro: #03122E, amarillo: #FEC60D, amarillo oscuro: #E3AE00 \n",
    "Secundaria\n",
    "gris oscuro: #707070\n",
    "-->"
   ]
  },
  {
   "cell_type": "markdown",
   "id": "17f74ffb",
   "metadata": {},
   "source": [
    "# Ayudantía 2"
   ]
  },
  {
   "cell_type": "code",
   "execution_count": 1,
   "id": "dc8e4aa8",
   "metadata": {},
   "outputs": [],
   "source": [
    "import numpy as np"
   ]
  },
  {
   "cell_type": "markdown",
   "id": "f416ca53",
   "metadata": {},
   "source": [
    "## Problema 1"
   ]
  },
  {
   "cell_type": "markdown",
   "id": "460227ed",
   "metadata": {},
   "source": [
    "La norma de Frobenius para una matriz $A$ de $n\\times n$ está dada por\n",
    "$$\n",
    "\\|A\\|_F = \n",
    "\\left(\n",
    "\\sum_{i=1}^n\\sum_{j=1}^n\n",
    "|a_{ij}|^2\n",
    "\\right)^{1/2} .\n",
    "$$\n",
    "\n",
    "1. Demuestre que $\\|\\cdot\\|_F$ es una norma matricial.\n",
    "2. Muestre que, para cualquier matriz $A\\in \\mathbb{R}^{n\\times n}$,\n",
    "$$\n",
    "\\|A\\|_2 \\leq\n",
    "\\|A\\|_F \\leq\n",
    "n^{1/2}\\|A\\|_2\n",
    "$$\n",
    "3. Muestre que la norma de Frobenius no es una norma matricial inducida (*Hint: muestre primero que, para toda norma matricial inducida se cumple que $\\|I\\|=1$*)"
   ]
  },
  {
   "cell_type": "markdown",
   "id": "fcd0cee2",
   "metadata": {},
   "source": [
    "## Problema 2"
   ]
  },
  {
   "cell_type": "markdown",
   "id": "e59cf24d",
   "metadata": {},
   "source": [
    "Considere el siguiente sistema lineal:\n",
    "$$\n",
    "\\begin{pmatrix}\n",
    "1 & 1 + \\epsilon^2 \\\\\n",
    "1 & 1\n",
    "\\end{pmatrix}\n",
    "x = \\begin{pmatrix}\n",
    "b_1 \\\\\n",
    "b_2\n",
    "\\end{pmatrix}\n",
    "$$\n",
    "\n",
    "1. Encuentre una expresión para el número de condición de la matriz del sistema con respecto a la norma infinito.\n",
    "2. Encuentra una expresión para la solución $x$ ¿Que sucede con la solución cuando $\\epsilon \\to 0$? ¿Que relación tiene esto con el condicionamiento de la matriz? \n",
    "3. Considere $b_1 = b_2$. Analice que sucede cuando se perturba $b$ en una dirección tal que la primera componente de $b + \\Delta b$ es igual que la segunda ¿Se siguen respetando las desigualdades asociadas al sistema perturbado?\n",
    "\n",
    " "
   ]
  },
  {
   "cell_type": "markdown",
   "id": "c3285597",
   "metadata": {},
   "source": [
    "## Problema 3"
   ]
  },
  {
   "cell_type": "markdown",
   "id": "9e298f68",
   "metadata": {},
   "source": [
    "Programe el método de eliminación Gaussiana con y sin pivoteo. Aplique el método con el sistema dado por la matriz $A\\in \\mathbb{R}^{n\\times n}$ definida por,\n",
    "$$\n",
    "A_{ij} =\n",
    "\\begin{cases}\n",
    "i\\cdot j & \\text{si } i \\text{ es divisible por }j, \\\\\n",
    "1 & \\text{en otro caso}\n",
    "\\end{cases},\\quad\n",
    "\\text{para }i,j=1,\\dots, n,\n",
    "$$\n",
    "y el vector $b\\in \\mathbb{R}^n$ dado por $b_i = i$ para todo $i=1,\\dots, n$."
   ]
  }
 ],
 "metadata": {
  "kernelspec": {
   "display_name": "Python 3",
   "language": "python",
   "name": "python3"
  },
  "language_info": {
   "codemirror_mode": {
    "name": "ipython",
    "version": 3
   },
   "file_extension": ".py",
   "mimetype": "text/x-python",
   "name": "python",
   "nbconvert_exporter": "python",
   "pygments_lexer": "ipython3",
   "version": "3.11.7"
  }
 },
 "nbformat": 4,
 "nbformat_minor": 5
}

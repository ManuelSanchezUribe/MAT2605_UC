{
 "cells": [
  {
   "cell_type": "markdown",
   "id": "f80be83a",
   "metadata": {},
   "source": [
    "<center><h1 style=\"color:#173F8A;\"> Cálculo Científico I, MAT2605, 2025-2 </h1></center>\n",
    "<h3 style=\"color:#173F8A;text-align:left;\"> Facultad de Matemáticas<br>  Pontificia Universidad Catolica de Chile <br>  </h3>\n",
    "<h3 style=\"color:#0176DE;text-align:left;\"> Profesor: Manuel A. Sanchez<br> </h3>\n",
    "<h4 style=\"color:#0176DE;text-align:left;\"> Ayudantes: Tomás Malfetano (tomas.malfetano@uc.cl), Diego Vera (dva@uc.cl)<br> </h4>\n",
    "<hr style=\"border:2px solid #03122E\"> </hr>\n",
    "\n",
    "<!-- Palette colors UC: celeste:#0176DE, azul #173F8A, azul oscuro: #03122E, amarillo: #FEC60D, amarillo oscuro: #E3AE00 -->\n",
    "<!--\n",
    "<figure>\n",
    "<img align =\"right\" src=\"IMClogo.png\" alt=\"logo\" width=\"200\" height=\"400\"><br><br><br><br><br>\n",
    "</figure>\n",
    " -->\n",
    "<!-- Palette colors UC:\n",
    "Primaria: \n",
    "celeste:#0176DE, azul #173F8A, azul oscuro: #03122E, amarillo: #FEC60D, amarillo oscuro: #E3AE00 \n",
    "Secundaria\n",
    "gris oscuro: #707070\n",
    "-->"
   ]
  },
  {
   "cell_type": "markdown",
   "id": "17f74ffb",
   "metadata": {},
   "source": [
    "# Ayudantía 2"
   ]
  },
  {
   "cell_type": "code",
   "execution_count": 1,
   "id": "dc8e4aa8",
   "metadata": {},
   "outputs": [],
   "source": [
    "import numpy as np"
   ]
  },
  {
   "cell_type": "markdown",
   "id": "f416ca53",
   "metadata": {},
   "source": [
    "## Problema 1"
   ]
  },
  {
   "cell_type": "markdown",
   "id": "460227ed",
   "metadata": {},
   "source": [
    "La norma de Frobenius para una matriz $A$ de $n\\times n$ está dada por\n",
    "$$\n",
    "\\|A\\|_F = \n",
    "\\left(\n",
    "\\sum_{i=1}^n\\sum_{j=1}^n\n",
    "|a_{ij}|^2\n",
    "\\right)^{1/2} .\n",
    "$$\n",
    "\n",
    "1. Demuestre que $\\|\\cdot\\|_F$ es una norma matricial.\n",
    "2. Muestre que, para cualquier matriz $A\\in \\mathbb{R}^{n\\times n}$,\n",
    "$$\n",
    "\\|A\\|_2 \\leq\n",
    "\\|A\\|_F \\leq\n",
    "n^{1/2}\\|A\\|_2\n",
    "$$\n",
    "3. Muestre que la norma de Frobenius no es una norma matricial inducida (*Hint: muestre primero que, para toda norma matricial inducida se cumple que $\\|I\\|=1$*)"
   ]
  },
  {
   "cell_type": "markdown",
   "id": "fcd0cee2",
   "metadata": {},
   "source": [
    "## Problema 2"
   ]
  },
  {
   "cell_type": "markdown",
   "id": "e59cf24d",
   "metadata": {},
   "source": [
    "Considere el siguiente sistema lineal:\n",
    "$$\n",
    "\\begin{pmatrix}\n",
    "1 & 1 + \\epsilon^2 \\\\\n",
    "1 & 1\n",
    "\\end{pmatrix}\n",
    "x = \\begin{pmatrix}\n",
    "b_1 \\\\\n",
    "b_2\n",
    "\\end{pmatrix}\n",
    "$$\n",
    "\n",
    "1. Encuentre una expresión para el número de condición de la matriz del sistema con respecto a la norma infinito.\n",
    "2. Encuentra una expresión para la solución $x$ ¿Que sucede con la solución cuando $\\epsilon \\to 0$? ¿Que relación tiene esto con el condicionamiento de la matriz? \n",
    "3. Considere $b_1 = b_2$. Analice que sucede cuando se perturba $b$ en una dirección tal que la primera componente de $b + \\Delta b$ es igual que la segunda ¿Se siguen respetando las desigualdades asociadas al sistema perturbado?\n",
    "\n",
    " "
   ]
  },
  {
   "cell_type": "markdown",
   "id": "c3285597",
   "metadata": {},
   "source": [
    "## Problema 3"
   ]
  },
  {
   "cell_type": "markdown",
   "id": "9e298f68",
   "metadata": {},
   "source": [
    "Programe el método de eliminación Gaussiana con y sin pivoteo. Aplique el método con el sistema dado por la matriz $A\\in \\mathbb{R}^{n\\times n}$ definida por,\n",
    "$$\n",
    "A_{ij} =\n",
    "\\begin{cases}\n",
    "i\\cdot j & \\text{si } i \\text{ es divisible por }j, \\\\\n",
    "1 & \\text{en otro caso}\n",
    "\\end{cases},\\quad\n",
    "\\text{para }i,j=1,\\dots, n,\n",
    "$$\n",
    "y el vector $b\\in \\mathbb{R}^n$ dado por $b_i = i$ para todo $i=1,\\dots, n$."
   ]
  },
  {
   "cell_type": "markdown",
   "id": "be23f85e",
   "metadata": {},
   "source": [
    "## Disclaimer"
   ]
  },
  {
   "cell_type": "code",
   "execution_count": 2,
   "id": "9153132d",
   "metadata": {},
   "outputs": [],
   "source": [
    "matriz = np.array([[1, 2], [1, 2]])\n",
    "matriz2 = np.array([[1, 2], [1, 2]])\n",
    "matriz3 = np.array([[1, 2], [1, 2]])\n",
    "\n",
    "# Mala práctica\n",
    "def modificar_matriz(matriz):\n",
    "    n = matriz.shape[0]\n",
    "    for i in range(n):\n",
    "        matriz[i, :] = 10*matriz[i, :]\n",
    "    return matriz\n",
    "\n",
    "def modificar_matriz2(matriz2):\n",
    "    matriz2 = matriz2*10\n",
    "    return matriz2\n",
    "\n",
    "# Buena práctica\n",
    "# # Definir las variables de la función con un nombre distinto al de variables globales\n",
    "# # Ocupar np.copy()\n",
    "\n",
    "def modificar_matriz3(M_):\n",
    "    M = np.copy(M_)\n",
    "    # M = M_\n",
    "    n = M.shape[0]\n",
    "    for i in range(n):\n",
    "        M[i, :] = 10*M[i, :]\n",
    "    return M"
   ]
  },
  {
   "cell_type": "code",
   "execution_count": 3,
   "id": "c39c5b29",
   "metadata": {},
   "outputs": [
    {
     "name": "stdout",
     "output_type": "stream",
     "text": [
      "[[10 20]\n",
      " [10 20]]\n",
      "[[10 20]\n",
      " [10 20]]\n",
      "[[10 20]\n",
      " [10 20]]\n"
     ]
    }
   ],
   "source": [
    "\"\"\" \n",
    "Al ejecutar esta celda varias veces se \n",
    "observa el problema con la primera función.\n",
    "\"\"\"\n",
    "\n",
    "print(modificar_matriz(matriz))\n",
    "\n",
    "print(modificar_matriz2(matriz2))\n",
    "\n",
    "print(modificar_matriz3(matriz3))"
   ]
  },
  {
   "cell_type": "markdown",
   "id": "e3537a09",
   "metadata": {},
   "source": [
    "## Solución Problema 3"
   ]
  },
  {
   "cell_type": "code",
   "execution_count": null,
   "id": "0c99da7c",
   "metadata": {},
   "outputs": [],
   "source": [
    "\"\"\"\n",
    "Eliminación Gaussiana SIN Pivoteo. Este método asume que no aparecen ceros en la diagonal.\n",
    "\"\"\"\n",
    "def GE_no_pivot(A_, b_):\n",
    "    n = len(b_) # dimensión del sistema\n",
    "    \"\"\"\n",
    "    Primero transformamos el sistema a uno con una matriz triangular superior.\n",
    "    \"\"\"\n",
    "    # Aqui se almacena la matriz triangular superior\n",
    "    A = np.copy(A_)\n",
    "    # Aqui se almacena el vector derecho del nuevo sistema\n",
    "    b = np.copy(b_)\n",
    "    \n",
    "    # Iteramos fila por fila\n",
    "    for i in range(n):\n",
    "        # Iteramos desde la fila i+1 hasta n\n",
    "        for k in range(i+1, n):\n",
    "            # Calculamos el pivote\n",
    "            pivote = A[k, i] / A[i, i]\n",
    "            # Realizamos E_k --> E_k - pivote*E_i\n",
    "            A[k, :]  = A[k, :] - pivote * A[i, :]\n",
    "            b[k] = b[k] - pivote * b[i]\n",
    "            \n",
    "    \"\"\"\n",
    "    Ahora realizamos substitución regresiva.\n",
    "    \"\"\"\n",
    "    # Iteramos desde la última fila hacia arriba\n",
    "    for i in range(n-1, -1, -1):\n",
    "        # Dividimos los valores de la fila i por el valor en la diagonal\n",
    "        m = A[i, i]\n",
    "        A[i, :] = A[i, :] / m\n",
    "        b[i] = b[i] / m\n",
    "\n",
    "        # Iteramos desde la fila i - 1 a la fila 0\n",
    "        for k in range(i-1, -1, -1):\n",
    "            # Realizamos E_k --> E_k - A[k, i]*E_i\n",
    "            m = A[k, i]\n",
    "            A[k, :] = A[k, :] - m*A[i, :]\n",
    "            b[k] = b[k] - m*b[i]\n",
    "\n",
    "    return A, b"
   ]
  },
  {
   "cell_type": "code",
   "execution_count": 5,
   "id": "169e8d6d",
   "metadata": {},
   "outputs": [],
   "source": [
    "\"\"\"\n",
    "Eliminación Gaussiana CON Pivoteo. \n",
    "\"\"\"\n",
    "\n",
    "def GE_with_pivot(A_, b_):\n",
    "    n = len(b_) # dimensión del sistema\n",
    "    \"\"\"\n",
    "    Primero transformamos el sistema a uno con una matriz triangular superior.\n",
    "    \"\"\"\n",
    "    # Aqui se almacena la matriz triangular superior\n",
    "    A = np.copy(A_)\n",
    "    # Aqui se almacena el vector derecho del nuevo sistema\n",
    "    b = np.copy(b_)\n",
    "    \n",
    "    # Iteramos fila por fila\n",
    "    for i in range(n):\n",
    "        # Primero realizamos el pivoteo\n",
    "        \"\"\"\n",
    "        Esta sección es la única distinta a la parte anterior. Recorremos desde \n",
    "        la fila i + 1 hasta el final, buscando, la fila que en la columna i tenga el \n",
    "        mayor valor en valor absoluto (sea esta la fila l). Luego hacemos el intercambio \n",
    "        de filas entre i y l; también en el vector b.\n",
    "        \"\"\"\n",
    "        # buscamos la fila para hacer el intercambio\n",
    "        val = abs(A[i, i]) \n",
    "        index = i\n",
    "        for k in range(i + 1, n):\n",
    "            if abs(A[k, i]) > val:\n",
    "                val = abs(A[k, i])\n",
    "                index = k\n",
    "        # Realizamos el intercambio\n",
    "        aux_fila = A[i, :] \n",
    "        aux_b = b[i]\n",
    "\n",
    "        A[i, :] = A[index, :]\n",
    "        b[i] = b[index]\n",
    "\n",
    "        A[index, :] = aux_fila\n",
    "        b[index] = aux_b\n",
    "\n",
    "        # Iteramos desde la fila i+1 hasta n\n",
    "        for k in range(i+1, n):\n",
    "            # Calculamos el pivote\n",
    "            pivote = A[k, i] / A[i, i]\n",
    "            # Realizamos E_k --> E_k - pivote*E_i\n",
    "            A[k, :]  = A[k, :] - pivote * A[i, :]\n",
    "            b[k] = b[k] - pivote * b[i]\n",
    "            \n",
    "    \"\"\"\n",
    "    Ahora realizamos substitución regresiva.\n",
    "    \"\"\"\n",
    "    # Iteramos desde la última fila hacia arriba\n",
    "    for i in range(n-1, -1, -1):\n",
    "        # Dividimos los valores de la fila i por el valor en la diagonal\n",
    "        m = A[i, i]\n",
    "        A[i, :] = A[i, :] / m\n",
    "        b[i] = b[i] / m\n",
    "\n",
    "        # Iteramos desde la fila i - 1 a la fila 0\n",
    "        for k in range(i-1, -1, -1):\n",
    "            # Realizamos E_k --> E_k - A[k, i]*E_i\n",
    "            m = A[k, i]\n",
    "            A[k, :] = A[k, :] - m*A[i, :]\n",
    "            b[k] = b[k] - m*b[i]\n",
    "\n",
    "    return A, b"
   ]
  },
  {
   "cell_type": "code",
   "execution_count": 20,
   "id": "ee6cc4a0",
   "metadata": {},
   "outputs": [
    {
     "name": "stdout",
     "output_type": "stream",
     "text": [
      "La Matriz tiene 10 filas y 10 columnas\n",
      "Buscamos resolver el sistema Ax = b, donde \n",
      " A =\n",
      " [[  1.   2.   3.   4.   5.   6.   7.   8.   9.  10.]\n",
      " [  1.   4.   1.   8.   1.  12.   1.  16.   1.  20.]\n",
      " [  1.   1.   9.   1.   1.  18.   1.   1.  27.   1.]\n",
      " [  1.   1.   1.  16.   1.   1.   1.  32.   1.   1.]\n",
      " [  1.   1.   1.   1.  25.   1.   1.   1.   1.  50.]\n",
      " [  1.   1.   1.   1.   1.  36.   1.   1.   1.   1.]\n",
      " [  1.   1.   1.   1.   1.   1.  49.   1.   1.   1.]\n",
      " [  1.   1.   1.   1.   1.   1.   1.  64.   1.   1.]\n",
      " [  1.   1.   1.   1.   1.   1.   1.   1.  81.   1.]\n",
      " [  1.   1.   1.   1.   1.   1.   1.   1.   1. 100.]],\n",
      " y b =\n",
      " [ 1.  2.  3.  4.  5.  6.  7.  8.  9. 10.].\n"
     ]
    }
   ],
   "source": [
    "dim = 10\n",
    "\n",
    "A = np.zeros((dim, dim))\n",
    "\n",
    "n_filas, n_columnas = A.shape\n",
    "print(f\"La Matriz tiene {n_filas} filas y {n_columnas} columnas\")\n",
    "\n",
    "for i in range(n_filas):\n",
    "    for j in range(n_columnas):\n",
    "        if (j+1)%(i+1) == 0:\n",
    "            A[i,j] = (i+1)*(j+1)\n",
    "        else:\n",
    "            A[i,j] = 1\n",
    "\n",
    "b = np.linspace(1, dim, dim)\n",
    "\n",
    "print(f\"Buscamos resolver el sistema Ax = b, donde \\n A =\\n {A},\\n y b =\\n {b}.\")\n"
   ]
  },
  {
   "cell_type": "code",
   "execution_count": 34,
   "id": "00fa9468",
   "metadata": {},
   "outputs": [
    {
     "name": "stdout",
     "output_type": "stream",
     "text": [
      "La solución entregada por np.linalg.solve, redondeada:\n",
      " x = [-8.25  -1.198 -0.17   0.27   0.167  0.395  0.309  0.251  0.21   0.18 ]\n",
      "\n",
      "La solución entregada por GE_no_pivot, redondeada:\n",
      " x = [-8.25  -1.198 -0.17   0.27   0.167  0.395  0.309  0.251  0.21   0.18 ]\n",
      "\n",
      "La solución entregada por GE_with_pivot, redondeada:\n",
      " x = [-8.25  -1.198 -0.17   0.27   0.167  0.395  0.309  0.251  0.21   0.18 ]\n",
      "\n",
      "Verificamos que el error absoluto para ambos métodos es casi cero:\n",
      "  error_GE_no_pivot = 4.803559250984066e-15\n",
      "  error_GE_with_pivot = 4.803559250984066e-15\n"
     ]
    }
   ],
   "source": [
    "x = np.linalg.solve(A, b)\n",
    "print(f\"La solución entregada por np.linalg.solve, redondeada:\\n x = {np.round(x, 3)}\\n\")\n",
    "\n",
    "A_GE_no_pivot, x_GE_no_pivot = GE_no_pivot(A, b)\n",
    "print(f\"La solución entregada por GE_no_pivot, redondeada:\\n x = {np.round(x_GE_no_pivot, 3)}\\n\")\n",
    "\n",
    "A_GE_with_pivot, x_GE_with_pivot = GE_with_pivot(A, b)\n",
    "print(f\"La solución entregada por GE_with_pivot, redondeada:\\n x = {np.round(x_GE_with_pivot, 3)}\\n\")\n",
    "\n",
    "print(f\"Verificamos que el error absoluto para ambos métodos es casi cero:\\n \" + \n",
    "      f\" error_GE_no_pivot = {np.linalg.norm(b - A @ x_GE_no_pivot)}\\n \" + \n",
    "      f\" error_GE_with_pivot = {np.linalg.norm(b - A @ x_GE_with_pivot)}\")"
   ]
  },
  {
   "cell_type": "code",
   "execution_count": 32,
   "id": "5f40deb9",
   "metadata": {},
   "outputs": [
    {
     "name": "stdout",
     "output_type": "stream",
     "text": [
      "Notamos que la matriz que retornan los métodos es la identidad: \n",
      " A_GE_no_pivot = \n",
      "[[1. 0. 0. 0. 0. 0. 0. 0. 0. 0.]\n",
      " [0. 1. 0. 0. 0. 0. 0. 0. 0. 0.]\n",
      " [0. 0. 1. 0. 0. 0. 0. 0. 0. 0.]\n",
      " [0. 0. 0. 1. 0. 0. 0. 0. 0. 0.]\n",
      " [0. 0. 0. 0. 1. 0. 0. 0. 0. 0.]\n",
      " [0. 0. 0. 0. 0. 1. 0. 0. 0. 0.]\n",
      " [0. 0. 0. 0. 0. 0. 1. 0. 0. 0.]\n",
      " [0. 0. 0. 0. 0. 0. 0. 1. 0. 0.]\n",
      " [0. 0. 0. 0. 0. 0. 0. 0. 1. 0.]\n",
      " [0. 0. 0. 0. 0. 0. 0. 0. 0. 1.]]\n",
      " A_GE_with_pivot = \n",
      "[[1. 0. 0. 0. 0. 0. 0. 0. 0. 0.]\n",
      " [0. 1. 0. 0. 0. 0. 0. 0. 0. 0.]\n",
      " [0. 0. 1. 0. 0. 0. 0. 0. 0. 0.]\n",
      " [0. 0. 0. 1. 0. 0. 0. 0. 0. 0.]\n",
      " [0. 0. 0. 0. 1. 0. 0. 0. 0. 0.]\n",
      " [0. 0. 0. 0. 0. 1. 0. 0. 0. 0.]\n",
      " [0. 0. 0. 0. 0. 0. 1. 0. 0. 0.]\n",
      " [0. 0. 0. 0. 0. 0. 0. 1. 0. 0.]\n",
      " [0. 0. 0. 0. 0. 0. 0. 0. 1. 0.]\n",
      " [0. 0. 0. 0. 0. 0. 0. 0. 0. 1.]]\n"
     ]
    }
   ],
   "source": [
    "print(f\"Notamos que la matriz que retornan los métodos es la identidad: \\n A_GE_no_pivot = \\n{A_GE_no_pivot}\\n A_GE_with_pivot = \\n{A_GE_with_pivot}\")"
   ]
  }
 ],
 "metadata": {
  "kernelspec": {
   "display_name": "Python 3",
   "language": "python",
   "name": "python3"
  },
  "language_info": {
   "codemirror_mode": {
    "name": "ipython",
    "version": 3
   },
   "file_extension": ".py",
   "mimetype": "text/x-python",
   "name": "python",
   "nbconvert_exporter": "python",
   "pygments_lexer": "ipython3",
   "version": "3.11.7"
  }
 },
 "nbformat": 4,
 "nbformat_minor": 5
}

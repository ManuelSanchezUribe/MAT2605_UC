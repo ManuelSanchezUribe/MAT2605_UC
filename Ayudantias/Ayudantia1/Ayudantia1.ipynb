{
 "cells": [
  {
   "cell_type": "markdown",
   "id": "f80be83a",
   "metadata": {},
   "source": [
    "<center><h1 style=\"color:#173F8A;\"> Cálculo Científico I, MAT2605, 2025-2 </h1></center>\n",
    "<h3 style=\"color:#173F8A;text-align:left;\"> Facultad de Matemáticas<br>  Pontificia Universidad Catolica de Chile <br>  </h3>\n",
    "<h3 style=\"color:#0176DE;text-align:left;\"> Profesor: Manuel A. Sanchez<br> </h3>\n",
    "<h4 style=\"color:#0176DE;text-align:left;\"> Ayudantes: Tomás Malfetano (tomas.malfetano@uc.cl), Diego Vera (dva@uc.cl)<br> </h4>\n",
    "<hr style=\"border:2px solid #03122E\"> </hr>\n",
    "\n",
    "<!-- Palette colors UC: celeste:#0176DE, azul #173F8A, azul oscuro: #03122E, amarillo: #FEC60D, amarillo oscuro: #E3AE00 -->\n",
    "<!--\n",
    "<figure>\n",
    "<img align =\"right\" src=\"IMClogo.png\" alt=\"logo\" width=\"200\" height=\"400\"><br><br><br><br><br>\n",
    "</figure>\n",
    " -->\n",
    "<!-- Palette colors UC:\n",
    "Primaria: \n",
    "celeste:#0176DE, azul #173F8A, azul oscuro: #03122E, amarillo: #FEC60D, amarillo oscuro: #E3AE00 \n",
    "Secundaria\n",
    "gris oscuro: #707070\n",
    "-->"
   ]
  },
  {
   "cell_type": "markdown",
   "id": "17f74ffb",
   "metadata": {},
   "source": [
    "# Ayudantía 1"
   ]
  },
  {
   "cell_type": "markdown",
   "id": "f416ca53",
   "metadata": {},
   "source": [
    "## Problema 1"
   ]
  },
  {
   "cell_type": "markdown",
   "id": "460227ed",
   "metadata": {},
   "source": [
    "Usando el formato de 64 bits para números de punto flotante en doble precisión, escriba el equivalente de los siguientes números flotantes en formato decimal:\n",
    "\n",
    "(i) $0 \\ 10000001010 \\ 1001000100000000000000000000000000000000000000000000$\n",
    "\n",
    "(ii) $1 \\ 10000001010 \\ 1001000100000000000000000000000000000000000000000000$\n",
    "\n",
    "(iii) $0 \\ 01111111111\\  100100010000000000000000000000000000000000000000000$\n",
    "\n",
    "(iv) $0 \\ 01111111111 \\ 1001000100000000000000000000000000000000000000000001$"
   ]
  },
  {
   "cell_type": "markdown",
   "id": "fcd0cee2",
   "metadata": {},
   "source": [
    "## Problema 2"
   ]
  },
  {
   "cell_type": "markdown",
   "id": "e59cf24d",
   "metadata": {},
   "source": [
    "Las funciones de Bessel, dadas por:\n",
    "$$ B_n(x) = \\frac{1}{\\pi}\\int_0^\\pi \\cos(x\\sin(\\theta) - n\\theta)d\\theta$$\n",
    "Cumplen con la siguiente ecuación de recurrencia:\n",
    "\n",
    "$$\n",
    "B_{n+1}(x) = \\frac{2n}{x}B_{n}(x) - B_{n-1}(x)\\text{ , }\\quad n\\in \\mathbb{N}\n",
    "$$\n",
    "\n",
    "<ol type=\"a\" style=\"list-style-type: lower-alpha;\">\n",
    "  <li>\n",
    "    Evaluando para $x=1$ y considerando que $B_0(1) \\approx 0.7651976865$ y $B_1(1) \\approx 0.4400505857$, calcule los términos $B_n(1)$ para $n=2,3,4,5,6$ utilizando la relación de recurrencia. Use aritmética de punto flotante con <strong>3 dígitos significativos</strong> y <strong>truncamiento</strong>.\n",
    "  </li>\n",
    "  <li>\n",
    "    Compare los valores calculados con los valores exactos (ver tabla). Calcule el <strong>error absoluto</strong> y <strong>relativo</strong> para cada término.\n",
    "  </li>\n",
    "</ol>\n",
    "\n",
    "**Valores exactos**\n",
    "\n",
    "| **n** | **2**   | **3**    | **4**     | **5**      | **6**      |\n",
    "|:-----:|:-------:|:--------:|:---------:|:----------:|:----------:|\n",
    "| Solución exacta | 0.114903 | 0.019563 | 0.002476 | 0.000249 | 0.00002 |"
   ]
  }
 ],
 "metadata": {
  "kernelspec": {
   "display_name": "Python 3",
   "language": "python",
   "name": "python3"
  },
  "language_info": {
   "name": "python",
   "version": "3.11.7"
  }
 },
 "nbformat": 4,
 "nbformat_minor": 5
}

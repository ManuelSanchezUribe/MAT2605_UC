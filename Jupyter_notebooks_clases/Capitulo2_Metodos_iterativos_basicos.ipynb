{
 "cells": [
  {
   "cell_type": "markdown",
   "metadata": {},
   "source": [
    "<hr style=\"border:2px solid #808080\"> </hr>\n",
    "<center><h1 style=\"color:#03122E;\"> Calculo Cientifico MAT2605</h1></center>\n",
    "<center><h1 style=\"color:#173F8A;\"> Capítulo 2: Metodos Iterativos Basicos</h3></center>\n",
    "<center><h1 style=\"color:#0176DE;\"> Prof. Manuel A. Sánchez</h3></center>\n",
    "<hr style=\"border:2px solid #808080\"> </hr>"
   ]
  },
  {
   "cell_type": "code",
   "execution_count": 1,
   "metadata": {},
   "outputs": [],
   "source": [
    "import numpy as np\n",
    "import matplotlib.pyplot as plt"
   ]
  },
  {
   "cell_type": "code",
   "execution_count": 3,
   "metadata": {},
   "outputs": [],
   "source": [
    "def metodo_de_Jacobi(A, b, x0, max_iter=100, tol=1e-8):\n",
    "    \"\"\"\n",
    "    Resuelve el sistema Ax = b usando el método de Jacobi.\n",
    "    Input: A, b\n",
    "    Output: x\n",
    "    \"\"\"\n",
    "    x = x0.copy()\n",
    "    residuals = []\n",
    "    n= x.size\n",
    "    D = np.diag(np.diag(A))\n",
    "    Dinv = np.diag(1/np.diag(A))\n",
    "    \n",
    "    for k in range(max_iter):\n",
    "        residual = b - np.dot(A, x)\n",
    "        norm_residual = np.linalg.norm(residual)\n",
    "        residuals.append(norm_residual)\n",
    "\n",
    "        # print(f\"   {k+1}      | {norm_residual:.6f}\")\n",
    "\n",
    "        if norm_residual < tol:\n",
    "            print(f\"   {k+1}      | {norm_residual:.6f}\")\n",
    "            print(\"\\nConvergencia alcanzada.\")\n",
    "            return x, residuals\n",
    "        x= x+Dinv.dot(-A.dot(x) +b) \n",
    "    print(f\"   {k+1}      | {norm_residual:.6f}\")\n",
    "    print(\"\\nNúmero máximo de iteraciones alcanzado.\")\n",
    "    return x, residuals"
   ]
  },
  {
   "cell_type": "code",
   "execution_count": 91,
   "metadata": {},
   "outputs": [],
   "source": [
    "def metodo_de_GaussSeidel(A, b, x0, max_iter=100, tol=1e-8):\n",
    "    \"\"\"\n",
    "    Resuelve el sistema Ax = b usando el método de Gauss Seidel.\n",
    "    Input: A, b\n",
    "    Output: x\n",
    "    \"\"\"\n",
    "    x = x0.copy()\n",
    "    \n",
    "    residuals = []\n",
    "    n= x.size\n",
    "    \n",
    "    for k in range(max_iter):\n",
    "        residual = b - np.dot(A, x)\n",
    "        norm_residual = np.linalg.norm(residual)\n",
    "        residuals.append(norm_residual)\n",
    "\n",
    "        # print(f\"   {k+1}      | {norm_residual:.6f}\")\n",
    "\n",
    "        if norm_residual < tol:\n",
    "            print(f\"   {k+1}      | {norm_residual:.6f}\")\n",
    "            print(\"\\nConvergencia alcanzada.\")\n",
    "            return x, residuals\n",
    "        xnew = np.zeros(n)\n",
    "        for i in range(n):\n",
    "            if i == 0:\n",
    "                xnew[i] = (1.0/A[i,i])*(b[i] -  A[i,i+1:].dot(x[i+1:]) )\n",
    "            elif i == n-1:\n",
    "                xnew[i] = (1.0/A[i,i])*(b[i] -  A[i,:i+1].dot(xnew[:i+1]) )\n",
    "            else:\n",
    "                xnew[i] = (1.0/A[i,i])*(b[i] - A[i,:i].dot(xnew[:i]) -  A[i,i+1:].dot(x[i+1:])  )\n",
    "        \n",
    "        x[:] = xnew[:]\n",
    "    print(f\"   {k}      | {norm_residual:.6f}\")\n",
    "    print(\"\\nNúmero máximo de iteraciones alcanzado.\")\n",
    "    return x, residuals"
   ]
  },
  {
   "cell_type": "code",
   "execution_count": 92,
   "metadata": {},
   "outputs": [],
   "source": [
    "def metodo_de_SOR(A, b, x0, w=1.0, max_iter=100, tol=1e-8):\n",
    "    \"\"\"\n",
    "    Resuelve el sistema Ax = b usando el método de SOR.\n",
    "    Input: A, b\n",
    "    Output: x\n",
    "    \"\"\"\n",
    "    x = x0.copy(); n= x.size\n",
    "    residuals = []\n",
    "    for k in range(max_iter):\n",
    "        residual = b - np.dot(A, x)\n",
    "        norm_residual = np.linalg.norm(residual)\n",
    "        residuals.append(norm_residual)\n",
    "        if norm_residual < tol:\n",
    "            print(f\"   {k+1}      | {norm_residual:.6f}\")\n",
    "            print(\"\\nConvergencia alcanzada.\")\n",
    "            return x, residuals\n",
    "        xnew = np.zeros(n)\n",
    "        for i in range(n):\n",
    "            if i == 0:\n",
    "                xnew[i] = (1.0-w)*x[i] + (w*1.0/A[i,i])*(b[i] -  A[i,i+1:].dot(x[i+1:]) )\n",
    "            elif i == n-1:\n",
    "                xnew[i] = (1.0-w)*x[i] + (w*1.0/A[i,i])*(b[i] -  A[i,:i+1].dot(xnew[:i+1]) )\n",
    "            else:\n",
    "                xnew[i] = (1.0-w)*x[i] + (w*1.0/A[i,i])*(b[i] - A[i,:i].dot(xnew[:i]) -  A[i,i+1:].dot(x[i+1:])  )\n",
    "        x[:] = xnew[:]\n",
    "    print(f\"   {k}      | {norm_residual:.6f}\")\n",
    "    print(\"\\nNúmero máximo de iteraciones alcanzado.\")\n",
    "    return x, residuals"
   ]
  },
  {
   "cell_type": "code",
   "execution_count": 47,
   "metadata": {},
   "outputs": [
    {
     "name": "stdout",
     "output_type": "stream",
     "text": [
      "   67      | 0.000000\n",
      "\n",
      "Convergencia alcanzada.\n",
      "   32      | 0.000000\n",
      "\n",
      "Convergencia alcanzada.\n",
      "   100      | 0.023715\n",
      "\n",
      "Número máximo de iteraciones alcanzado.\n"
     ]
    }
   ],
   "source": [
    "A = np.array([[7,-4],[-8,9]])\n",
    "b = np.array([3,-4])\n",
    "x0 = np.array([-1.0,3.0])\n",
    "x = metodo_de_Jacobi(A,b,x0)\n",
    "x = metodo_de_GaussSeidel(A,b,x0)\n",
    "x = metodo_de_SOR(A,b,x0, w=1.02)"
   ]
  },
  {
   "cell_type": "code",
   "execution_count": 19,
   "metadata": {},
   "outputs": [],
   "source": [
    "# Ejemplo"
   ]
  },
  {
   "cell_type": "code",
   "execution_count": 34,
   "metadata": {},
   "outputs": [
    {
     "name": "stdout",
     "output_type": "stream",
     "text": [
      "   100      | 2.944486\n",
      "\n",
      "Número máximo de iteraciones alcanzado.\n",
      "   100      | 0.180000\n",
      "\n",
      "Número máximo de iteraciones alcanzado.\n"
     ]
    }
   ],
   "source": [
    "A = np.array([[1.0, 0.5,0.5],[0.5,1.0,0.5],[0.5,0.5,1.0]])\n",
    "b = np.array([1.0,-.1,0.0])\n",
    "x = metodo_de_Jacobi(A,b,np.ones(3))\n",
    "x = metodo_de_GaussSeidel(A,b,np.ones(3))"
   ]
  },
  {
   "cell_type": "code",
   "execution_count": null,
   "metadata": {},
   "outputs": [],
   "source": []
  },
  {
   "cell_type": "code",
   "execution_count": null,
   "metadata": {},
   "outputs": [],
   "source": []
  },
  {
   "cell_type": "markdown",
   "metadata": {},
   "source": [
    "# Ejemplo 1:\n",
    "\n",
    "\\begin{equation}\n",
    "A = \n",
    "\\begin{bmatrix}\n",
    "1 & 1/2 & 1/2 \\\\\n",
    "1/2 & 1 & 1/2 \\\\\n",
    "1/2 & 1/2 & 1\n",
    "\\end{bmatrix}\n",
    "\\end{equation}\n"
   ]
  },
  {
   "cell_type": "code",
   "execution_count": 21,
   "metadata": {},
   "outputs": [
    {
     "name": "stdout",
     "output_type": "stream",
     "text": [
      " D:\n",
      " [[1. 0. 0.]\n",
      " [0. 1. 0.]\n",
      " [0. 0. 1.]] \n",
      " L:\n",
      " [[0.  0.  0. ]\n",
      " [0.5 0.  0. ]\n",
      " [0.5 0.5 0. ]] \n",
      " U:\n",
      " [[0.  0.5 0.5]\n",
      " [0.  0.  0.5]\n",
      " [0.  0.  0. ]]\n"
     ]
    }
   ],
   "source": [
    "A = np.array([[1,1/2,1/2],[1/2,1,1/2],[1/2,1/2,1]],dtype = np.float64)\n",
    "D = np.diag(np.diag(A))\n",
    "L = np.tril(A, k=-1)\n",
    "U = np.triu(A, k=1)\n",
    "print(\" D:\\n\", D,\"\\n L:\\n\", L,\"\\n U:\\n\", U)"
   ]
  },
  {
   "cell_type": "markdown",
   "metadata": {},
   "source": [
    "## Metodo de Jacobi"
   ]
  },
  {
   "cell_type": "code",
   "execution_count": 4,
   "metadata": {},
   "outputs": [
    {
     "name": "stdout",
     "output_type": "stream",
     "text": [
      "T_J:\n",
      " [[ 0.  -0.5 -0.5]\n",
      " [-0.5  0.  -0.5]\n",
      " [-0.5 -0.5  0. ]]\n"
     ]
    }
   ],
   "source": [
    "# Matriz e iteracion de Jacobi\n",
    "T_J = -np.linalg.inv(D)@ (L+U)\n",
    "print(\"T_J:\\n\",T_J)"
   ]
  },
  {
   "cell_type": "code",
   "execution_count": 5,
   "metadata": {},
   "outputs": [
    {
     "name": "stdout",
     "output_type": "stream",
     "text": [
      " rho_J =  0.9999999999999998 ==> no converge!\n"
     ]
    }
   ],
   "source": [
    "# % spectral radius condition\n",
    "rho_J = max(abs(np.linalg.eigvals(T_J)))\n",
    "print(\" rho_J = \", rho_J, \"==> no converge!\")"
   ]
  },
  {
   "cell_type": "markdown",
   "metadata": {},
   "source": [
    "## Metodo de Gauss Seidel"
   ]
  },
  {
   "cell_type": "code",
   "execution_count": 6,
   "metadata": {},
   "outputs": [
    {
     "name": "stdout",
     "output_type": "stream",
     "text": [
      "T_G:\n",
      " [[ 0.    -0.5   -0.5  ]\n",
      " [ 0.     0.25  -0.25 ]\n",
      " [ 0.     0.125  0.375]]\n"
     ]
    }
   ],
   "source": [
    "# Matriz e iteracion de Gauss-Seidel\n",
    "T_G = -np.linalg.inv(D+L)@ (U)\n",
    "print(\"T_G:\\n\",T_G)"
   ]
  },
  {
   "cell_type": "code",
   "execution_count": 7,
   "metadata": {},
   "outputs": [
    {
     "name": "stdout",
     "output_type": "stream",
     "text": [
      " rho_J =  0.3535533905932738 ==> converge!\n"
     ]
    }
   ],
   "source": [
    "# % spectral radius condition\n",
    "rho_G = max(abs(np.linalg.eigvals(T_G)))\n",
    "print(\" rho_J = \", rho_G, \"==> converge!\")"
   ]
  },
  {
   "cell_type": "markdown",
   "metadata": {},
   "source": [
    "# Ejemplo 2:\n",
    "\n",
    "\\begin{equation}\n",
    "A = \n",
    "\\left(\n",
    "\\begin{array}{ccc}\n",
    "1 & 2 & -2 \\\\\n",
    "1 & 1 & 1 \\\\\n",
    "2 & 2 & 1\n",
    "\\end{array}\n",
    "\\right)\n",
    "\\end{equation}"
   ]
  },
  {
   "cell_type": "code",
   "execution_count": 8,
   "metadata": {},
   "outputs": [],
   "source": [
    "A = np.array([[1,2,-2],[1,1,1],[2,2,1]],dtype = np.float64)\n",
    "D = np.diag(np.diag(A))\n",
    "L = np.tril(A, k=-1)\n",
    "U = np.triu(A, k=1)\n",
    "#print(\" D:\\n\", D,\"\\n L:\\n\", L,\"\\n U:\\n\", U)"
   ]
  },
  {
   "cell_type": "markdown",
   "metadata": {},
   "source": [
    "## Metodo de Jacobi"
   ]
  },
  {
   "cell_type": "code",
   "execution_count": 9,
   "metadata": {},
   "outputs": [
    {
     "name": "stdout",
     "output_type": "stream",
     "text": [
      "T_J:\n",
      " [[ 0. -2.  2.]\n",
      " [-1.  0. -1.]\n",
      " [-2. -2.  0.]]\n",
      " rho_J =  1.080934114523089e-05 ==> converge!\n"
     ]
    }
   ],
   "source": [
    "# Matriz e iteracion de Jacobi\n",
    "T_J = -np.linalg.inv(D)@ (L+U)\n",
    "\n",
    "print(\"T_J:\\n\",T_J)\n",
    "# % spectral radius condition\n",
    "rho_J = max(abs(np.linalg.eigvals(T_J)))\n",
    "print(\" rho_J = \", rho_J, \"==> converge!\")"
   ]
  },
  {
   "cell_type": "markdown",
   "metadata": {},
   "source": [
    "## Metodod de Gauss-Seidel"
   ]
  },
  {
   "cell_type": "code",
   "execution_count": 10,
   "metadata": {},
   "outputs": [
    {
     "name": "stdout",
     "output_type": "stream",
     "text": [
      "T_G:\n",
      " [[ 0. -2.  2.]\n",
      " [ 0.  2. -3.]\n",
      " [ 0.  0.  2.]]\n",
      " rho_G =  2.0 ==> no converge!\n"
     ]
    }
   ],
   "source": [
    "# Matriz e iteracion de Gauss-Seidel\n",
    "T_G = -np.linalg.inv(D+L)@ (U)\n",
    "print(\"T_G:\\n\",T_G)\n",
    "# % spectral radius condition\n",
    "rho_G = max(abs(np.linalg.eigvals(T_G)))\n",
    "print(\" rho_G = \", rho_G, \"==> no converge!\")"
   ]
  },
  {
   "cell_type": "markdown",
   "metadata": {},
   "source": [
    "# Ejemplo 3\n",
    "\n",
    "\n",
    "\\begin{equation}\n",
    "A = \n",
    "\\left(\n",
    "\\begin{array}{ccc}\n",
    "4 & 3 & 0 \\\\\n",
    "3 & 4 & -1 \\\\\n",
    "0 & -1 & 4\n",
    "\\end{array}\n",
    "\\right)\n",
    "\\end{equation}"
   ]
  },
  {
   "cell_type": "code",
   "execution_count": 35,
   "metadata": {},
   "outputs": [],
   "source": [
    "A = np.array([[4,3,0],[3,4,-1],[0,-1,4]],dtype = np.float64)\n",
    "D = np.diag(np.diag(A))\n",
    "L = np.tril(A, k=-1)\n",
    "U = np.triu(A, k=1)\n",
    "#print(\" D:\\n\", D,\"\\n L:\\n\", L,\"\\n U:\\n\", U)"
   ]
  },
  {
   "cell_type": "markdown",
   "metadata": {},
   "source": [
    "### Metodo de Jacobi"
   ]
  },
  {
   "cell_type": "code",
   "execution_count": 87,
   "metadata": {},
   "outputs": [
    {
     "name": "stdout",
     "output_type": "stream",
     "text": [
      "T_J:\n",
      " [[ 0.   -0.75  0.  ]\n",
      " [-0.75  0.    0.25]\n",
      " [ 0.    0.25  0.  ]]\n",
      " rho_J =  0.790569415042095 0.7905694150420949 ==> converge!\n"
     ]
    }
   ],
   "source": [
    "# Matriz e iteracion de Jacobi\n",
    "T_J = -np.linalg.inv(D)@ (L+U)\n",
    "\n",
    "print(\"T_J:\\n\",T_J)\n",
    "# % spectral radius condition\n",
    "rho_J = max(abs(np.linalg.eigvals(T_J)))\n",
    "print(\" rho_J = \", rho_J,np.sqrt(5.0/8.0), \"==> converge!\")\n",
    "\n"
   ]
  },
  {
   "cell_type": "markdown",
   "metadata": {},
   "source": [
    "### Metodo de Gauss Seidel"
   ]
  },
  {
   "cell_type": "code",
   "execution_count": 37,
   "metadata": {},
   "outputs": [
    {
     "name": "stdout",
     "output_type": "stream",
     "text": [
      "T_G:\n",
      " [[ 0.       -0.75      0.      ]\n",
      " [ 0.        0.5625    0.25    ]\n",
      " [ 0.        0.140625  0.0625  ]]\n",
      " rho_G =  0.625 ==> converge!\n",
      "observe que rho_J = 0.790569415042095 y rho_J^2 =  0.6250000000000002\n"
     ]
    }
   ],
   "source": [
    "# Matriz e iteracion de Gauss-Seidel\n",
    "T_G = -np.linalg.inv(D+L)@ (U)\n",
    "print(\"T_G:\\n\",T_G)\n",
    "# % spectral radius condition\n",
    "rho_G = max(abs(np.linalg.eigvals(T_G)))\n",
    "print(\" rho_G = \", rho_G, \"==> converge!\")\n",
    "\n",
    "print(\"observe que rho_J =\", rho_J, \"y rho_J^2 = \", rho_J**2)"
   ]
  },
  {
   "cell_type": "markdown",
   "metadata": {},
   "source": [
    "### Metodo de SOR"
   ]
  },
  {
   "cell_type": "code",
   "execution_count": 88,
   "metadata": {},
   "outputs": [
    {
     "name": "stdout",
     "output_type": "stream",
     "text": [
      "T_SOR para omega = 1.2:\n",
      " [[-0.2   -0.9    0.   ]\n",
      " [ 0.18   0.61   0.3  ]\n",
      " [ 0.054  0.183 -0.11 ]]\n",
      " rho_SOR =  0.39999999999999986  para omega = 1.2\n",
      "1.2404082057734578\n",
      "T_SOR para omega optimo :\n",
      " [[-0.24040821 -0.93030615  0.        ]\n",
      " [ 0.22365323  0.62506134  0.31010205]\n",
      " [ 0.06935533  0.1938328  -0.14424492]]\n",
      " rho_SOR =  0.24040820577345784  para omega optimo\n"
     ]
    }
   ],
   "source": [
    "# Matriz e iteracion de Gauss-Seidel\n",
    "T_SOR = lambda omega: np.linalg.inv(D+omega*L)@ ((1-omega)*D-omega*U)\n",
    "print(\"T_SOR para omega = 1.2:\\n\",T_SOR(1.2))\n",
    "# % spectral radius condition\n",
    "rho_SOR = max(abs(np.linalg.eigvals(T_SOR(1.2))))\n",
    "print(\" rho_SOR = \", rho_SOR, \" para omega = 1.2\")\n",
    "\n",
    "omega_opt = 2/(1+np.sqrt(1-rho_J**2))\n",
    "print(omega_opt)\n",
    "print(\"T_SOR para omega optimo :\\n\",T_SOR(omega_opt))\n",
    "# % spectral radius condition\n",
    "rho_SOR = max(abs(np.linalg.eigvals(T_SOR(omega_opt))))\n",
    "print(\" rho_SOR = \", rho_SOR, \" para omega optimo\")"
   ]
  },
  {
   "cell_type": "code",
   "execution_count": 89,
   "metadata": {},
   "outputs": [
    {
     "data": {
      "image/png": "[encoded data removed]",
      "text/plain": [
       "<Figure size 600x500 with 1 Axes>"
      ]
     },
     "metadata": {},
     "output_type": "display_data"
    }
   ],
   "source": [
    "omegas = np.linspace(0,2,1000)\n",
    "def rho_SOR(omega):\n",
    "    T_SOR = np.linalg.inv(D+omega*L)@ ((1-omega)*D-omega*U)\n",
    "    rho_SOR = max(abs(np.linalg.eigvals(T_SOR)))\n",
    "    return rho_SOR\n",
    "\n",
    "rhos = [rho_SOR(o) for o in omegas]\n",
    "\n",
    "fig, ax = plt.subplots(figsize = (6,5))\n",
    "ax.plot(omegas, rhos)\n",
    "ax.set(xlabel=\"$\\omega$\",\n",
    "       ylabel=\"$\\\\rho (T_{SOR})$\")\n",
    "\n",
    "plt.show()"
   ]
  },
  {
   "cell_type": "code",
   "execution_count": 93,
   "metadata": {},
   "outputs": [
    {
     "name": "stdout",
     "output_type": "stream",
     "text": [
      "   89      | 0.000000\n",
      "\n",
      "Convergencia alcanzada.\n",
      "   41      | 0.000000\n",
      "\n",
      "Convergencia alcanzada.\n",
      "   18      | 0.000000\n",
      "\n",
      "Convergencia alcanzada.\n",
      "[[ 4.  3.  0.]\n",
      " [ 3.  4. -1.]\n",
      " [ 0. -1.  4.]] [11. 11. -5.]\n"
     ]
    }
   ],
   "source": [
    "x0 = np.array([1.0,1.0,1.0])\n",
    "b = A.dot(np.array([2.0,1.0,-1.0]))\n",
    "x = metodo_de_Jacobi(A,b,x0)\n",
    "x = metodo_de_GaussSeidel(A,b,x0)\n",
    "x = metodo_de_SOR(A,b,x0, w=1.2404)\n",
    "print(A,b)"
   ]
  },
  {
   "cell_type": "code",
   "execution_count": 16,
   "metadata": {},
   "outputs": [],
   "source": [
    "from scipy.linalg import hilbert"
   ]
  },
  {
   "cell_type": "code",
   "execution_count": 17,
   "metadata": {},
   "outputs": [],
   "source": [
    "A = hilbert(7)\n",
    "D = np.diag(np.diag(A))\n",
    "L = np.tril(A, k=-1)\n",
    "U = np.triu(A, k=1)"
   ]
  },
  {
   "cell_type": "code",
   "execution_count": 18,
   "metadata": {},
   "outputs": [
    {
     "name": "stdout",
     "output_type": "stream",
     "text": [
      "T_G:\n",
      " [[ 0.         -0.5        -0.33333333 -0.25       -0.2        -0.16666667\n",
      "  -0.14285714]\n",
      " [ 0.          0.75       -0.25       -0.225      -0.2        -0.17857143\n",
      "  -0.16071429]\n",
      " [ 0.         -0.10416667  0.86805556 -0.13541667 -0.13095238 -0.12400794\n",
      "  -0.11656746]\n",
      " [ 0.         -0.05347222 -0.07939815  0.91048611 -0.09222222 -0.09143519\n",
      "  -0.08900463]\n",
      " [ 0.         -0.03091518 -0.05174851 -0.06268973  0.93211735 -0.0698395\n",
      "  -0.06996488]\n",
      " [ 0.         -0.01931396 -0.03564259 -0.04575497 -0.05160113  0.94525628\n",
      "  -0.05618583]\n",
      " [ 0.         -0.01274214 -0.02557267 -0.03446362 -0.04022111 -0.04379935\n",
      "   0.95410182]]\n",
      " rho_G =  0.999999935230031 ==> converge!\n"
     ]
    }
   ],
   "source": [
    "T_G = -np.linalg.inv(D+L)@ (U)\n",
    "print(\"T_G:\\n\",T_G)\n",
    "# % spectral radius condition\n",
    "rho_G = max(abs(np.linalg.eigvals(T_G)))\n",
    "print(\" rho_G = \", rho_G, \"==> converge!\")"
   ]
  },
  {
   "cell_type": "code",
   "execution_count": 69,
   "metadata": {},
   "outputs": [],
   "source": [
    "def GaussSeidel_mat(A,b,x0, max_iter=100, tol=1e-8):\n",
    "    D = np.diag(np.diag(A))\n",
    "    L = np.tril(A, k=-1)\n",
    "    U = np.triu(A, k=1)\n",
    "    T_G = -np.linalg.inv(D+L)@ (U)\n",
    "    c = np.linalg.inv(D+L)@ (b)\n",
    "    x = x0.copy()\n",
    "    k = 0\n",
    "    r = np.linalg.norm(A.dot(x)-b)\n",
    "    while r>tol and k<max_iter:\n",
    "        x = T_G.dot(x) + c\n",
    "        r = np.linalg.norm(A.dot(x)-b)\n",
    "        #print(k,r)\n",
    "        k+=1\n",
    "        print(x)\n",
    "        print(f\"   {k}      | {r:.6f}\")\n",
    "    return x\n",
    "def SOR_mat(A,b,x0, w=1, max_iter=100, tol=1e-8):\n",
    "    D = np.diag(np.diag(A))\n",
    "    L = np.tril(A, k=-1)\n",
    "    U = np.triu(A, k=1)\n",
    "    T_SOR = np.linalg.inv(w*L+D)@ ((1-w)*D-w*U)\n",
    "    c = np.linalg.solve(D+w*L,w*b)\n",
    "    x = x0.copy()\n",
    "    k = 0\n",
    "    r = np.linalg.norm(A.dot(x)-b)\n",
    "    while r>tol and k<max_iter:\n",
    "        x = T_SOR.dot(x) + c\n",
    "        r = np.linalg.norm(A.dot(x)-b)\n",
    "        #print(k,r)\n",
    "        k+=1\n",
    "    print(f\"   {k}      | {r:.6f}\")\n",
    "    return x"
   ]
  },
  {
   "cell_type": "code",
   "execution_count": 74,
   "metadata": {},
   "outputs": [
    {
     "name": "stdout",
     "output_type": "stream",
     "text": [
      "[2.14285714 1.46031746]\n",
      "   1      | 6.158730\n",
      "[1.26303855 0.67825649]\n",
      "   2      | 3.128244\n",
      "[0.81614656 0.28101917]\n",
      "   3      | 1.588949\n",
      "[0.58915381 0.07924783]\n",
      "   4      | 0.807085\n",
      "[ 0.4738559 -0.0232392]\n",
      "   5      | 0.409948\n",
      "[ 0.41529189 -0.0752961 ]\n",
      "   6      | 0.208228\n",
      "[ 0.38554509 -0.1017377 ]\n",
      "   7      | 0.105766\n",
      "[ 0.3704356  -0.11516836]\n",
      "   8      | 0.053723\n",
      "[ 0.36276094 -0.12199028]\n",
      "   9      | 0.027288\n",
      "[ 0.3588627  -0.12545538]\n",
      "   10      | 0.013860\n",
      "[ 0.35688264 -0.12721543]\n",
      "   11      | 0.007040\n",
      "[ 0.3558769  -0.12810942]\n",
      "   12      | 0.003576\n",
      "[ 0.35536604 -0.12856352]\n",
      "   13      | 0.001816\n",
      "[ 0.35510656 -0.12879417]\n",
      "   14      | 0.000923\n",
      "[ 0.35497476 -0.12891132]\n",
      "   15      | 0.000469\n",
      "[ 0.35490782 -0.12897083]\n",
      "   16      | 0.000238\n",
      "[ 0.35487381 -0.12900106]\n",
      "   17      | 0.000121\n",
      "[ 0.35485654 -0.12901641]\n",
      "   18      | 0.000061\n",
      "[ 0.35484777 -0.12902421]\n",
      "   19      | 0.000031\n",
      "[ 0.35484331 -0.12902817]\n",
      "   20      | 0.000016\n",
      "[ 0.35484105 -0.12903018]\n",
      "   21      | 0.000008\n",
      "[ 0.3548399 -0.1290312]\n",
      "   22      | 0.000004\n",
      "[ 0.35483931 -0.12903172]\n",
      "   23      | 0.000002\n",
      "[ 0.35483902 -0.12903199]\n",
      "   24      | 0.000001\n",
      "[ 0.35483887 -0.12903212]\n",
      "   25      | 0.000001\n",
      "[ 0.35483879 -0.12903219]\n",
      "   26      | 0.000000\n",
      "[ 0.35483875 -0.12903222]\n",
      "   27      | 0.000000\n",
      "[ 0.35483873 -0.12903224]\n",
      "   28      | 0.000000\n",
      "[ 0.35483872 -0.12903225]\n",
      "   29      | 0.000000\n",
      "[ 0.35483871 -0.12903225]\n",
      "   30      | 0.000000\n",
      "[ 0.35483871 -0.12903226]\n",
      "   31      | 0.000000\n",
      "   15      | 0.000000\n"
     ]
    }
   ],
   "source": [
    "A = np.array([[7,-4],[-8,9]])\n",
    "b = np.array([3,-4])\n",
    "x0 = np.array([-1.0,3.0])\n",
    "x = GaussSeidel_mat(A,b,x0)\n",
    "x = SOR_mat(A,b,x0,w=1.2)"
   ]
  },
  {
   "cell_type": "code",
   "execution_count": 86,
   "metadata": {},
   "outputs": [
    {
     "name": "stdout",
     "output_type": "stream",
     "text": [
      "   10      | 0.000455\n",
      "   0      | 10.246951\n",
      "   1      | 3.614522\n",
      "   2      | 1.198666\n",
      "   3      | 0.177911\n",
      "   4      | 0.133071\n",
      "   5      | 0.039782\n",
      "   6      | 0.018606\n",
      "   7      | 0.006901\n",
      "   8      | 0.002869\n",
      "   9      | 0.001126\n",
      "   10      | 0.000455\n",
      "\n",
      "Número máximo de iteraciones alcanzado.\n"
     ]
    }
   ],
   "source": [
    "A = np.array([[4,3,0],[3,4,-1],[0,-1,4]],dtype = np.float64)\n",
    "x0 = np.array([1.0,1.0,1.0])\n",
    "b = A.dot(np.array([2.0,1.0,-1.0]))\n",
    "# x = metodo_de_Jacobi(A,b,x0, max_iter=10)\n",
    "# x = metodo_de_GaussSeidel(A,b,x0, max_iter=10)\n",
    "# x = GaussSeidel_mat(A,b,x0, max_iter=10)\n",
    "x = SOR_mat(A,b,x0,w=1.2,max_iter=10)\n",
    "x = metodo_de_SOR(A,b,x0,w=1.2,max_iter=11)"
   ]
  },
  {
   "cell_type": "code",
   "execution_count": null,
   "metadata": {},
   "outputs": [],
   "source": []
  }
 ],
 "metadata": {
  "hide_input": false,
  "kernelspec": {
   "display_name": "Python 3 (ipykernel)",
   "language": "python",
   "name": "python3"
  },
  "language_info": {
   "codemirror_mode": {
    "name": "ipython",
    "version": 3
   },
   "file_extension": ".py",
   "mimetype": "text/x-python",
   "name": "python",
   "nbconvert_exporter": "python",
   "pygments_lexer": "ipython3",
   "version": "3.10.11"
  }
 },
 "nbformat": 4,
 "nbformat_minor": 4
}

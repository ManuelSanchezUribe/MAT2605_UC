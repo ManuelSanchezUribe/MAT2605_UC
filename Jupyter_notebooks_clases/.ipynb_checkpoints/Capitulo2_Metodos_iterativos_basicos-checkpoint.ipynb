{
 "cells": [
  {
   "cell_type": "code",
   "execution_count": 3,
   "metadata": {},
   "outputs": [],
   "source": [
    "import numpy as np\n",
    "import matplotlib.pyplot as plt"
   ]
  },
  {
   "cell_type": "markdown",
   "metadata": {},
   "source": [
    "# Ejemplo 1:\n",
    "\n",
    "\\begin{equation}\n",
    "A = \n",
    "\\left(\n",
    "\\begin{array}{ccc}\n",
    "1 & 1/2 & 1/2 \\\\\n",
    "1/2 & 1 & 1/2 \\\\\n",
    "1/2 & 1/2 & 1\n",
    "\\end{array}\n",
    "\\right)\n",
    "\\end{equation}\n"
   ]
  },
  {
   "cell_type": "code",
   "execution_count": 3,
   "metadata": {},
   "outputs": [
    {
     "name": "stdout",
     "output_type": "stream",
     "text": [
      " D:\n",
      " [[1. 0. 0.]\n",
      " [0. 1. 0.]\n",
      " [0. 0. 1.]] \n",
      " L:\n",
      " [[0.  0.  0. ]\n",
      " [0.5 0.  0. ]\n",
      " [0.5 0.5 0. ]] \n",
      " U:\n",
      " [[0.  0.5 0.5]\n",
      " [0.  0.  0.5]\n",
      " [0.  0.  0. ]]\n"
     ]
    }
   ],
   "source": [
    "A = np.array([[1,1/2,1/2],[1/2,1,1/2],[1/2,1/2,1]],dtype = np.float64)\n",
    "D = np.diag(np.diag(A))\n",
    "L = np.tril(A, k=-1)\n",
    "U = np.triu(A, k=1)\n",
    "print(\" D:\\n\", D,\"\\n L:\\n\", L,\"\\n U:\\n\", U)"
   ]
  },
  {
   "cell_type": "markdown",
   "metadata": {},
   "source": [
    "## Metodo de Jacobi"
   ]
  },
  {
   "cell_type": "code",
   "execution_count": 4,
   "metadata": {},
   "outputs": [
    {
     "name": "stdout",
     "output_type": "stream",
     "text": [
      "T_J:\n",
      " [[ 0.  -0.5 -0.5]\n",
      " [-0.5  0.  -0.5]\n",
      " [-0.5 -0.5  0. ]]\n"
     ]
    }
   ],
   "source": [
    "# Matriz e iteracion de Jacobi\n",
    "T_J = -np.linalg.inv(D)@ (L+U)\n",
    "print(\"T_J:\\n\",T_J)"
   ]
  },
  {
   "cell_type": "code",
   "execution_count": 5,
   "metadata": {},
   "outputs": [
    {
     "name": "stdout",
     "output_type": "stream",
     "text": [
      " rho_J =  0.9999999999999997 ==> no converge!\n"
     ]
    }
   ],
   "source": [
    "# % spectral radius condition\n",
    "rho_J = max(abs(np.linalg.eigvals(T_J)))\n",
    "print(\" rho_J = \", rho_J, \"==> no converge!\")"
   ]
  },
  {
   "cell_type": "markdown",
   "metadata": {},
   "source": [
    "## Metodo de Gauss Seidel"
   ]
  },
  {
   "cell_type": "code",
   "execution_count": 6,
   "metadata": {},
   "outputs": [
    {
     "name": "stdout",
     "output_type": "stream",
     "text": [
      "T_G:\n",
      " [[ 0.    -0.5   -0.5  ]\n",
      " [ 0.     0.25  -0.25 ]\n",
      " [ 0.     0.125  0.375]]\n"
     ]
    }
   ],
   "source": [
    "# Matriz e iteracion de Gauss-Seidel\n",
    "T_G = -np.linalg.inv(D+L)@ (U)\n",
    "print(\"T_G:\\n\",T_G)"
   ]
  },
  {
   "cell_type": "code",
   "execution_count": 7,
   "metadata": {},
   "outputs": [
    {
     "name": "stdout",
     "output_type": "stream",
     "text": [
      " rho_J =  0.3535533905932738 ==> converge!\n"
     ]
    }
   ],
   "source": [
    "# % spectral radius condition\n",
    "rho_G = max(abs(np.linalg.eigvals(T_G)))\n",
    "print(\" rho_J = \", rho_G, \"==> converge!\")"
   ]
  },
  {
   "cell_type": "markdown",
   "metadata": {},
   "source": [
    "# Ejemplo 2:\n",
    "\n",
    "\\begin{equation}\n",
    "A = \n",
    "\\left(\n",
    "\\begin{array}{ccc}\n",
    "1 & 2 & -2 \\\\\n",
    "1 & 1 & 1 \\\\\n",
    "2 & 2 & 1\n",
    "\\end{array}\n",
    "\\right)\n",
    "\\end{equation}"
   ]
  },
  {
   "cell_type": "code",
   "execution_count": 8,
   "metadata": {},
   "outputs": [],
   "source": [
    "A = np.array([[1,2,-2],[1,1,1],[2,2,1]],dtype = np.float64)\n",
    "D = np.diag(np.diag(A))\n",
    "L = np.tril(A, k=-1)\n",
    "U = np.triu(A, k=1)\n",
    "#print(\" D:\\n\", D,\"\\n L:\\n\", L,\"\\n U:\\n\", U)"
   ]
  },
  {
   "cell_type": "markdown",
   "metadata": {},
   "source": [
    "## Metodo de Jacobi"
   ]
  },
  {
   "cell_type": "code",
   "execution_count": 9,
   "metadata": {},
   "outputs": [
    {
     "name": "stdout",
     "output_type": "stream",
     "text": [
      "T_J:\n",
      " [[ 0. -2.  2.]\n",
      " [-1.  0. -1.]\n",
      " [-2. -2.  0.]]\n",
      " rho_J =  1.2332218361015282e-05 ==> converge!\n"
     ]
    }
   ],
   "source": [
    "# Matriz e iteracion de Jacobi\n",
    "T_J = -np.linalg.inv(D)@ (L+U)\n",
    "\n",
    "print(\"T_J:\\n\",T_J)\n",
    "# % spectral radius condition\n",
    "rho_J = max(abs(np.linalg.eigvals(T_J)))\n",
    "print(\" rho_J = \", rho_J, \"==> converge!\")"
   ]
  },
  {
   "cell_type": "markdown",
   "metadata": {},
   "source": [
    "## Metodod de Gauss-Seidel"
   ]
  },
  {
   "cell_type": "code",
   "execution_count": 48,
   "metadata": {},
   "outputs": [
    {
     "name": "stdout",
     "output_type": "stream",
     "text": [
      "T_G:\n",
      " [[ 0.       -0.75      0.      ]\n",
      " [ 0.        0.5625    0.25    ]\n",
      " [ 0.        0.140625  0.0625  ]]\n",
      " rho_G =  0.625 ==> no converge!\n"
     ]
    }
   ],
   "source": [
    "# Matriz e iteracion de Gauss-Seidel\n",
    "T_G = -np.linalg.inv(D+L)@ (U)\n",
    "print(\"T_G:\\n\",T_G)\n",
    "# % spectral radius condition\n",
    "rho_G = max(abs(np.linalg.eigvals(T_G)))\n",
    "print(\" rho_G = \", rho_G, \"==> no converge!\")"
   ]
  },
  {
   "cell_type": "markdown",
   "metadata": {},
   "source": [
    "# Ejemplo 3\n",
    "\n",
    "\n",
    "\\begin{equation}\n",
    "A = \n",
    "\\left(\n",
    "\\begin{array}{ccc}\n",
    "4 & 3 & 0 \\\\\n",
    "3 & 4 & -1 \\\\\n",
    "0 & -1 & 4\n",
    "\\end{array}\n",
    "\\right)\n",
    "\\end{equation}"
   ]
  },
  {
   "cell_type": "code",
   "execution_count": 13,
   "metadata": {},
   "outputs": [],
   "source": [
    "A = np.array([[4,3,0],[3,4,-1],[0,-1,4]],dtype = np.float64)\n",
    "D = np.diag(np.diag(A))\n",
    "L = np.tril(A, k=-1)\n",
    "U = np.triu(A, k=1)\n",
    "#print(\" D:\\n\", D,\"\\n L:\\n\", L,\"\\n U:\\n\", U)"
   ]
  },
  {
   "cell_type": "markdown",
   "metadata": {},
   "source": [
    "### Metodo de Jacobi"
   ]
  },
  {
   "cell_type": "code",
   "execution_count": 14,
   "metadata": {},
   "outputs": [
    {
     "name": "stdout",
     "output_type": "stream",
     "text": [
      "T_J:\n",
      " [[ 0.   -0.75  0.  ]\n",
      " [-0.75  0.    0.25]\n",
      " [ 0.    0.25  0.  ]]\n",
      " rho_J =  0.790569415042095 ==> converge!\n"
     ]
    }
   ],
   "source": [
    "# Matriz e iteracion de Jacobi\n",
    "T_J = -np.linalg.inv(D)@ (L+U)\n",
    "\n",
    "print(\"T_J:\\n\",T_J)\n",
    "# % spectral radius condition\n",
    "rho_J = max(abs(np.linalg.eigvals(T_J)))\n",
    "print(\" rho_J = \", rho_J, \"==> converge!\")\n",
    "\n"
   ]
  },
  {
   "cell_type": "markdown",
   "metadata": {},
   "source": [
    "### Metodo de Gauss Seidel"
   ]
  },
  {
   "cell_type": "code",
   "execution_count": 15,
   "metadata": {},
   "outputs": [
    {
     "name": "stdout",
     "output_type": "stream",
     "text": [
      "T_G:\n",
      " [[ 0.       -0.75      0.      ]\n",
      " [ 0.        0.5625    0.25    ]\n",
      " [ 0.        0.140625  0.0625  ]]\n",
      " rho_G =  0.625 ==> converge!\n",
      "observe que rho_J = 0.790569415042095 y rho_J^2 =  0.6250000000000002\n"
     ]
    }
   ],
   "source": [
    "# Matriz e iteracion de Gauss-Seidel\n",
    "T_G = -np.linalg.inv(D+L)@ (U)\n",
    "print(\"T_G:\\n\",T_G)\n",
    "# % spectral radius condition\n",
    "rho_G = max(abs(np.linalg.eigvals(T_G)))\n",
    "print(\" rho_G = \", rho_G, \"==> converge!\")\n",
    "\n",
    "print(\"observe que rho_J =\", rho_J, \"y rho_J^2 = \", rho_J**2)"
   ]
  },
  {
   "cell_type": "markdown",
   "metadata": {},
   "source": [
    "### Metodo de SOR"
   ]
  },
  {
   "cell_type": "code",
   "execution_count": 16,
   "metadata": {},
   "outputs": [
    {
     "name": "stdout",
     "output_type": "stream",
     "text": [
      "T_SOR para omega = 1.2:\n",
      " [[-0.2   -0.9    0.   ]\n",
      " [ 0.18   0.61   0.3  ]\n",
      " [ 0.054  0.183 -0.11 ]]\n",
      " rho_SOR =  0.39999999999999947  para omega = 1.2\n",
      "T_SOR para omega optimo :\n",
      " [[-0.24040821 -0.93030615  0.        ]\n",
      " [ 0.22365323  0.62506134  0.31010205]\n",
      " [ 0.06935533  0.1938328  -0.14424492]]\n",
      " rho_SOR =  0.24040820577345778  para omega optimo\n"
     ]
    }
   ],
   "source": [
    "# Matriz e iteracion de Gauss-Seidel\n",
    "T_SOR = lambda omega: np.linalg.inv(D+omega*L)@ ((1-omega)*D-omega*U)\n",
    "print(\"T_SOR para omega = 1.2:\\n\",T_SOR(1.2))\n",
    "# % spectral radius condition\n",
    "rho_SOR = max(abs(np.linalg.eigvals(T_SOR(1.2))))\n",
    "print(\" rho_SOR = \", rho_SOR, \" para omega = 1.2\")\n",
    "\n",
    "omega_opt = 2/(1+np.sqrt(1-rho_J**2))\n",
    "print(\"T_SOR para omega optimo :\\n\",T_SOR(omega_opt))\n",
    "# % spectral radius condition\n",
    "rho_SOR = max(abs(np.linalg.eigvals(T_SOR(omega_opt))))\n",
    "print(\" rho_SOR = \", rho_SOR, \" para omega optimo\")"
   ]
  },
  {
   "cell_type": "code",
   "execution_count": 17,
   "metadata": {},
   "outputs": [
    {
     "data": {
      "image/png": "[encoded data removed]",
      "text/plain": [
       "<Figure size 576x432 with 1 Axes>"
      ]
     },
     "metadata": {
      "needs_background": "light"
     },
     "output_type": "display_data"
    }
   ],
   "source": [
    "omegas = np.linspace(0,2,1000)\n",
    "def rho_SOR(omega):\n",
    "    T_SOR = np.linalg.inv(D+omega*L)@ ((1-omega)*D-omega*U)\n",
    "    rho_SOR = max(abs(np.linalg.eigvals(T_SOR)))\n",
    "    return rho_SOR\n",
    "\n",
    "rhos = [rho_SOR(o) for o in omegas]\n",
    "\n",
    "fig, ax = plt.subplots(figsize = (8,6))\n",
    "ax.plot(omegas, rhos)\n",
    "ax.set(xlabel=\"$\\omega$\",\n",
    "       ylabel=\"$\\\\rho (T_{SOR})$\")\n",
    "\n",
    "plt.show()"
   ]
  },
  {
   "cell_type": "code",
   "execution_count": 1,
   "metadata": {},
   "outputs": [],
   "source": [
    "from scipy.linalg import hilbert"
   ]
  },
  {
   "cell_type": "code",
   "execution_count": 16,
   "metadata": {},
   "outputs": [],
   "source": [
    "A = hilbert(7)\n",
    "D = np.diag(np.diag(A))\n",
    "L = np.tril(A, k=-1)\n",
    "U = np.triu(A, k=1)"
   ]
  },
  {
   "cell_type": "code",
   "execution_count": 17,
   "metadata": {},
   "outputs": [
    {
     "name": "stdout",
     "output_type": "stream",
     "text": [
      "T_G:\n",
      " [[ 0.         -0.5        -0.33333333 -0.25       -0.2        -0.16666667\n",
      "  -0.14285714]\n",
      " [ 0.          0.75       -0.25       -0.225      -0.2        -0.17857143\n",
      "  -0.16071429]\n",
      " [ 0.         -0.10416667  0.86805556 -0.13541667 -0.13095238 -0.12400794\n",
      "  -0.11656746]\n",
      " [ 0.         -0.05347222 -0.07939815  0.91048611 -0.09222222 -0.09143519\n",
      "  -0.08900463]\n",
      " [ 0.         -0.03091518 -0.05174851 -0.06268973  0.93211735 -0.0698395\n",
      "  -0.06996488]\n",
      " [ 0.         -0.01931396 -0.03564259 -0.04575497 -0.05160113  0.94525628\n",
      "  -0.05618583]\n",
      " [ 0.         -0.01274214 -0.02557267 -0.03446362 -0.04022111 -0.04379935\n",
      "   0.95410182]]\n",
      " rho_G =  0.999999935230031 ==> converge!\n"
     ]
    }
   ],
   "source": [
    "T_G = -np.linalg.inv(D+L)@ (U)\n",
    "print(\"T_G:\\n\",T_G)\n",
    "# % spectral radius condition\n",
    "rho_G = max(abs(np.linalg.eigvals(T_G)))\n",
    "print(\" rho_G = \", rho_G, \"==> converge!\")"
   ]
  },
  {
   "cell_type": "code",
   "execution_count": 51,
   "metadata": {},
   "outputs": [],
   "source": [
    "MAXITER = 10**8\n",
    "def GaussSeidel_mat(A,b,x0):\n",
    "    D = np.diag(np.diag(A))\n",
    "    L = np.tril(A, k=-1)\n",
    "    U = np.triu(A, k=1)\n",
    "    T_G = -np.linalg.inv(D+L)@ (U)\n",
    "    c = np.linalg.inv(D+L)@ (b)\n",
    "    x = x0.copy()\n",
    "    k = 0\n",
    "    r = np.linalg.norm(A.dot(x)-b)\n",
    "    while r>10**(-12) and k<MAXITER:\n",
    "        x = T_G.dot(x) + c\n",
    "        r = np.linalg.norm(A.dot(x)-b)/np.linalg\n",
    "        #print(k,r)\n",
    "        k+=1\n",
    "    print(k, r)\n",
    "    return x\n",
    "    "
   ]
  },
  {
   "cell_type": "code",
   "execution_count": 52,
   "metadata": {},
   "outputs": [
    {
     "name": "stdout",
     "output_type": "stream",
     "text": [
      "100000000 1.8583550989107433e-05\n"
     ]
    }
   ],
   "source": [
    "x0 = np.ones(10)\n",
    "b = np.ones(10)\n",
    "A = hilbert(10)\n",
    "x = GaussSeidel_mat(A,b,x0)\n"
   ]
  },
  {
   "cell_type": "code",
   "execution_count": null,
   "metadata": {},
   "outputs": [],
   "source": []
  },
  {
   "cell_type": "code",
   "execution_count": null,
   "metadata": {},
   "outputs": [],
   "source": []
  }
 ],
 "metadata": {
  "hide_input": false,
  "kernelspec": {
   "display_name": "Python 3",
   "language": "python",
   "name": "python3"
  },
  "language_info": {
   "codemirror_mode": {
    "name": "ipython",
    "version": 3
   },
   "file_extension": ".py",
   "mimetype": "text/x-python",
   "name": "python",
   "nbconvert_exporter": "python",
   "pygments_lexer": "ipython3",
   "version": "3.8.5"
  }
 },
 "nbformat": 4,
 "nbformat_minor": 4
}

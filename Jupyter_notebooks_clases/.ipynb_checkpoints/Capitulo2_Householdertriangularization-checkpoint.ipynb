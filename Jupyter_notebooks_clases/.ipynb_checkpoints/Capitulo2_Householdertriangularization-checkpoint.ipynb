{
 "cells": [
  {
   "cell_type": "markdown",
   "id": "0cf5e99d",
   "metadata": {},
   "source": [
    "<hr style=\"border:2px solid #808080\"> </hr>\n",
    "<center><h1 style=\"color:#03122E;\"> Álgebra Lineal Numérica IMT2111</h1></center>\n",
    "<center><h1 style=\"color:#173F8A;\"> Capítulo 2</h3></center>\n",
    "<center><h1 style=\"color:#0176DE;\"> Prof. Manuel A. Sánchez</h3></center>\n",
    "<hr style=\"border:2px solid #808080\"> </hr>"
   ]
  },
  {
   "cell_type": "markdown",
   "id": "f07ad51b",
   "metadata": {},
   "source": [
    "<h1>Tabla de Contenidos<span class=\"tocSkip\"></span></h1>\n",
    "<div class=\"toc\"><ul class=\"toc-item\"><li><span><a href=\"#Diferencias-Finitas\">Diferencias Finitas</a></span><ul class=\"toc-item\"><li><span><a href=\"#Grafica\" data-toc-modified-id=\"grafica\">Solucion aproximada:</a></span></li></ul></li></ul></div>"
   ]
  },
  {
   "cell_type": "code",
   "execution_count": 4,
   "id": "45cd3285",
   "metadata": {},
   "outputs": [
    {
     "data": {
      "text/html": [
       "<style>.output {display: flex;align-items: center;text-align: center;}</style>"
      ],
      "text/plain": [
       "<IPython.core.display.HTML object>"
      ]
     },
     "metadata": {},
     "output_type": "display_data"
    }
   ],
   "source": [
    "import numpy as np\n",
    "import scipy as scp\n",
    "import matplotlib.pyplot as plt\n",
    "import pandas as pd\n",
    "from matplotlib import cm\n",
    "from matplotlib.ticker import LinearLocator\n",
    "from IPython.display import display, HTML\n",
    "display(HTML(\"\"\"<style>.output {display: flex;align-items: center;text-align: center;}</style>\"\"\"))"
   ]
  },
  {
   "cell_type": "code",
   "execution_count": 7,
   "id": "3b4b41ef",
   "metadata": {},
   "outputs": [],
   "source": [
    "def HouseholderTriangularization(Ain):\n",
    "    '''\n",
    "    Input:\n",
    "    Output:\n",
    "    '''\n",
    "    A = Ain.copy()\n",
    "    m,n = A.shape\n",
    "    betas = np.empty(n)\n",
    "    for k in range(n-2):\n",
    "        v, betas[k] = house(A[k+1:, k])\n",
    "        print(\" *** k = \", k, A[k+1:, k], v, betas[k])\n",
    "        p = betas[k]*A[k+1:n, k+1:n].dot(v)\n",
    "        print(\"     p = \", p)\n",
    "        w = p - 0.5*(betas[k]*p.dot(v))*v\n",
    "        print(\"     w = \", w)\n",
    "        A[k+1,k] = np.linalg.norm(A[k+1:, k].flatten())\n",
    "        print(\"     norm = \", A[k+1,k])\n",
    "        A[k,k+1] = A[k+1,k]\n",
    "        print(\"     vT w \\n\", -np.outer(v,w))\n",
    "        print(\"     wT v \\n\", -np.outer(w,v))\n",
    "        print(\"     A[k+1:n, k+1:n] \\n\", A[k+1:,k+1: ])\n",
    "        A[k+1:,k+1: ] += -np.outer(v,w) - np.outer(w,v)\n",
    "    \n",
    "    Q = fullQ_house(A,betas)\n",
    "    print(\"Q:\", Q)\n",
    "    return A, Q\n",
    "\n",
    "def house(x):\n",
    "    '''\n",
    "    Compute Householder vector\n",
    "    Input: x \\in \\mathbb R^{m}\n",
    "    Output: Householder vector v, with v[0]=1, and beta such that\n",
    "            P = I-beta * v * v.T es orthogonal and Px = \\|x\\|*e_1\n",
    "    '''\n",
    "    m = x.size\n",
    "    if m > 1:\n",
    "        sigma = x[1:].dot(x[1:])\n",
    "        v  = x.copy(); v[0] = 1.0\n",
    "        if sigma == 0:\n",
    "            beta = 0\n",
    "        else:\n",
    "            mu = np.sqrt(x[0]*x[0]+sigma)\n",
    "            if x[0]<0:\n",
    "                v[0] = x[0] - mu\n",
    "            else:\n",
    "                v[0] = -sigma/(x[0]+mu)\n",
    "            beta = 2.0 * v[0]*v[0]/(sigma+v[0]**2)\n",
    "            v = v / v[0]\n",
    "        return v, beta\n",
    "    else:\n",
    "        return np.array([0.0]),0.0\n",
    "def fullQ_house(A, betas):\n",
    "    '''\n",
    "    Take the \"packed\" Householder vectors stored in A's lower triangle,\n",
    "    along with the respective \\beta s and expand to a full Q matrix \n",
    "        (note, R still lives in A's upper triangle)\n",
    "    '''\n",
    "    m,n = A.shape\n",
    "    Q = np.eye(n)\n",
    "    for j in reversed(range(n)):\n",
    "        v = A[j:,j].copy()\n",
    "        v[0] = 1.0\n",
    "        Q[j:,j:] = (np.eye(n-j) - betas[j] * np.outer(v,v)).dot(Q[j:,j:])\n",
    "    return Q"
   ]
  },
  {
   "cell_type": "code",
   "execution_count": 8,
   "id": "6d83b88d",
   "metadata": {},
   "outputs": [
    {
     "name": "stdout",
     "output_type": "stream",
     "text": [
      "[[3. 1. 1.]\n",
      " [1. 4. 2.]\n",
      " [0. 2. 1.]]\n",
      " *** k =  0 [1. 0.] [1. 0.] 0.0\n",
      "     p =  [0. 0.]\n",
      "     w =  [0. 0.]\n",
      "     norm =  1.0\n",
      "     vT w \n",
      " [[-0. -0.]\n",
      " [-0. -0.]]\n",
      "     wT v \n",
      " [[-0. -0.]\n",
      " [-0. -0.]]\n",
      "     A[k+1:n, k+1:n] \n",
      " [[4. 2.]\n",
      " [2. 1.]]\n",
      "Q: [[ 1.   0.   0. ]\n",
      " [ 0.   0.5  0. ]\n",
      " [ 0.  -1.   0. ]]\n"
     ]
    },
    {
     "data": {
      "text/plain": [
       "(array([[3., 1., 1.],\n",
       "        [1., 4., 2.],\n",
       "        [0., 2., 1.]]),\n",
       " array([[ 1. ,  0. ,  0. ],\n",
       "        [ 0. ,  0.5,  0. ],\n",
       "        [ 0. , -1. ,  0. ]]))"
      ]
     },
     "execution_count": 8,
     "metadata": {},
     "output_type": "execute_result"
    }
   ],
   "source": [
    "# A = np.random.rand(3,3)\n",
    "\n",
    "# B = 0.5*(A+A.T)\n",
    "B = np.array([[3,1,1],[1,4,2],[0,2,1]], dtype=np.float64)\n",
    "print(B)\n",
    "HouseholderTriangularization(B)\n"
   ]
  },
  {
   "cell_type": "code",
   "execution_count": null,
   "id": "abbff592",
   "metadata": {},
   "outputs": [],
   "source": []
  }
 ],
 "metadata": {
  "kernelspec": {
   "display_name": "Python 3 (ipykernel)",
   "language": "python",
   "name": "python3"
  },
  "language_info": {
   "codemirror_mode": {
    "name": "ipython",
    "version": 3
   },
   "file_extension": ".py",
   "mimetype": "text/x-python",
   "name": "python",
   "nbconvert_exporter": "python",
   "pygments_lexer": "ipython3",
   "version": "3.7.9"
  },
  "varInspector": {
   "cols": {
    "lenName": 16,
    "lenType": 16,
    "lenVar": 40
   },
   "kernels_config": {
    "python": {
     "delete_cmd_postfix": "",
     "delete_cmd_prefix": "del ",
     "library": "var_list.py",
     "varRefreshCmd": "print(var_dic_list())"
    },
    "r": {
     "delete_cmd_postfix": ") ",
     "delete_cmd_prefix": "rm(",
     "library": "var_list.r",
     "varRefreshCmd": "cat(var_dic_list()) "
    }
   },
   "types_to_exclude": [
    "module",
    "function",
    "builtin_function_or_method",
    "instance",
    "_Feature"
   ],
   "window_display": false
  }
 },
 "nbformat": 4,
 "nbformat_minor": 5
}

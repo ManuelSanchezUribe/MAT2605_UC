{
 "cells": [
  {
   "cell_type": "markdown",
   "metadata": {},
   "source": [
    "# Newton Cotes"
   ]
  },
  {
   "cell_type": "code",
   "execution_count": 2,
   "metadata": {},
   "outputs": [],
   "source": [
    "import numpy as np\n",
    "x = np.linspace(0,2,7)\n",
    "f = np.exp(-x**2)"
   ]
  },
  {
   "cell_type": "code",
   "execution_count": 23,
   "metadata": {},
   "outputs": [
    {
     "name": "stdout",
     "output_type": "stream",
     "text": [
      "[[ 1  1  0  0]\n",
      " [-1  1  1  1]\n",
      " [ 1  1 -2  2]\n",
      " [-1  1  3  3]]\n"
     ]
    }
   ],
   "source": [
    "A = np.array([[1,1,0,0],[-1,1,1,1],[1,1,-2,2],[-1,1,3,3]])\n",
    "print(A)"
   ]
  },
  {
   "cell_type": "code",
   "execution_count": 24,
   "metadata": {},
   "outputs": [
    {
     "name": "stdout",
     "output_type": "stream",
     "text": [
      "[[ 0.5  -0.75  0.    0.25]\n",
      " [ 0.5   0.75  0.   -0.25]\n",
      " [ 0.25 -0.25 -0.25  0.25]\n",
      " [-0.25 -0.25  0.25  0.25]]\n"
     ]
    }
   ],
   "source": [
    "Ainv = np.linalg.inv(A)\n",
    "print(Ainv)"
   ]
  },
  {
   "cell_type": "code",
   "execution_count": 25,
   "metadata": {},
   "outputs": [
    {
     "name": "stdout",
     "output_type": "stream",
     "text": [
      "[ 1.    1.    0.25 -0.25]\n"
     ]
    }
   ],
   "source": [
    "Asol = np.linalg.solve(A,[2,0,1,0])\n",
    "print(Asol)"
   ]
  },
  {
   "cell_type": "code",
   "execution_count": 31,
   "metadata": {},
   "outputs": [],
   "source": [
    "def reglaquad(f, df):\n",
    "    print(f(-1), f(1), df(-1), df(1))\n",
    "    return Asol[0]*f(-1) + Asol[1]*f(1)+Asol[2]*df(-1)+Asol[3]*df(1)"
   ]
  },
  {
   "cell_type": "code",
   "execution_count": 37,
   "metadata": {},
   "outputs": [
    {
     "name": "stdout",
     "output_type": "stream",
     "text": [
      "6.123233995736766e-17 6.123233995736766e-17 1.5707963267948966 -1.5707963267948966\n"
     ]
    },
    {
     "data": {
      "text/plain": [
       "0.7853981633974484"
      ]
     },
     "execution_count": 37,
     "metadata": {},
     "output_type": "execute_result"
    }
   ],
   "source": [
    "f = lambda x: np.cos(np.pi/2*x)\n",
    "df = lambda x: -np.pi/2*np.sin(np.pi/2*x)\n",
    "reglaquad(f,df )"
   ]
  },
  {
   "cell_type": "code",
   "execution_count": 38,
   "metadata": {},
   "outputs": [
    {
     "data": {
      "text/plain": [
       "1.2732395447351628"
      ]
     },
     "execution_count": 38,
     "metadata": {},
     "output_type": "execute_result"
    }
   ],
   "source": [
    "4/np.pi"
   ]
  },
  {
   "cell_type": "code",
   "execution_count": 39,
   "metadata": {},
   "outputs": [],
   "source": [
    "g2 = lambda x: 1/3*(1/(x+1)**(2/3))\n"
   ]
  },
  {
   "cell_type": "code",
   "execution_count": 61,
   "metadata": {},
   "outputs": [
    {
     "name": "stderr",
     "output_type": "stream",
     "text": [
      "<ipython-input-39-854b402299ce>:1: RuntimeWarning: divide by zero encountered in true_divide\n",
      "  g2 = lambda x: 1/3*(1/(x+1)**(2/3))\n"
     ]
    },
    {
     "data": {
      "text/plain": [
       "[<matplotlib.lines.Line2D at 0x7fb7369a09a0>]"
      ]
     },
     "execution_count": 61,
     "metadata": {},
     "output_type": "execute_result"
    },
    {
     "data": {
      "image/png": "[encoded data removed]",
      "text/plain": [
       "<Figure size 432x288 with 1 Axes>"
      ]
     },
     "metadata": {
      "needs_background": "light"
     },
     "output_type": "display_data"
    }
   ],
   "source": [
    "import matplotlib.pyplot as plt\n",
    "\n",
    "xplot = np.linspace(-1,2,100)\n",
    "\n",
    "plt.plot(xplot,g2(xplot))"
   ]
  },
  {
   "cell_type": "code",
   "execution_count": 62,
   "metadata": {},
   "outputs": [
    {
     "data": {
      "text/plain": [
       "(-0.16666666666666657-0.28867513459481287j)"
      ]
     },
     "execution_count": 62,
     "metadata": {},
     "output_type": "execute_result"
    }
   ],
   "source": [
    "g2(-2)"
   ]
  },
  {
   "cell_type": "code",
   "execution_count": 63,
   "metadata": {},
   "outputs": [
    {
     "data": {
      "text/plain": [
       "[<matplotlib.lines.Line2D at 0x7fb736a8b1f0>]"
      ]
     },
     "execution_count": 63,
     "metadata": {},
     "output_type": "execute_result"
    },
    {
     "data": {
      "image/png": "[encoded data removed]",
      "text/plain": [
       "<Figure size 432x288 with 1 Axes>"
      ]
     },
     "metadata": {
      "needs_background": "light"
     },
     "output_type": "display_data"
    }
   ],
   "source": [
    "f = lambda x: x**3-x-1\n",
    "\n",
    "plt.plot(xplot,f(xplot))"
   ]
  },
  {
   "cell_type": "code",
   "execution_count": 65,
   "metadata": {},
   "outputs": [
    {
     "data": {
      "text/plain": [
       "[<matplotlib.lines.Line2D at 0x7fb736c3cc70>]"
      ]
     },
     "execution_count": 65,
     "metadata": {},
     "output_type": "execute_result"
    },
    {
     "data": {
      "image/png": "[encoded data removed]",
      "text/plain": [
       "<Figure size 432x288 with 1 Axes>"
      ]
     },
     "metadata": {
      "needs_background": "light"
     },
     "output_type": "display_data"
    }
   ],
   "source": [
    "f2 = lambda x: x**3-3*x**2+2*x-1\n",
    "\n",
    "xplot = np.linspace(0,3,100)\n",
    "plt.plot(xplot,f2(xplot))"
   ]
  },
  {
   "cell_type": "code",
   "execution_count": 71,
   "metadata": {},
   "outputs": [
    {
     "data": {
      "text/plain": [
       "[<matplotlib.lines.Line2D at 0x7fb737a81dc0>]"
      ]
     },
     "execution_count": 71,
     "metadata": {},
     "output_type": "execute_result"
    },
    {
     "data": {
      "image/png": "[encoded data removed]",
      "text/plain": [
       "<Figure size 432x288 with 1 Axes>"
      ]
     },
     "metadata": {
      "needs_background": "light"
     },
     "output_type": "display_data"
    }
   ],
   "source": [
    "g1 = lambda x: -x**3+3*x**2+1\n",
    "g2 = lambda x: 1+ (x)**(1/3)\n",
    "\n",
    "dg1 = lambda x: -3*x**2 + 6*x\n",
    "dg2 = lambda x: (1/3)*(1/x**(2/3))\n",
    "y = np.linspace(2,3,100)\n",
    "#plt.plot(y, dg1(y))\n",
    "plt.plot(y, dg2(y))"
   ]
  },
  {
   "cell_type": "code",
   "execution_count": 74,
   "metadata": {},
   "outputs": [
    {
     "data": {
      "text/plain": [
       "(array([ 1.        , -0.66666667, -1.        , -0.66666667]),\n",
       " array([[ 7.07106781e-01, -5.54700196e-01,  3.03045763e-01,\n",
       "          5.54700196e-01],\n",
       "        [ 7.07106781e-01,  8.32050294e-01, -9.09137290e-01,\n",
       "         -8.32050294e-01],\n",
       "        [ 0.00000000e+00,  0.00000000e+00, -2.02030509e-01,\n",
       "          3.07920465e-16],\n",
       "        [ 0.00000000e+00,  0.00000000e+00,  2.02030509e-01,\n",
       "         -4.61880697e-16]]))"
      ]
     },
     "execution_count": 74,
     "metadata": {},
     "output_type": "execute_result"
    }
   ],
   "source": [
    "A = np.array([[1/3,2/3,2,3],[1,0,-1,2],[0,0,-5/3,-2/3],[0,0,1,0]])\n",
    "np.linalg.eig(A)"
   ]
  },
  {
   "cell_type": "code",
   "execution_count": 79,
   "metadata": {},
   "outputs": [
    {
     "name": "stdout",
     "output_type": "stream",
     "text": [
      "[[ 0.33333333  0.66666667  2.          3.        ]\n",
      " [ 1.          0.         -1.          2.        ]\n",
      " [ 0.          0.         -1.66666667 -0.66666667]\n",
      " [ 0.          0.          1.          0.        ]]\n"
     ]
    },
    {
     "data": {
      "text/plain": [
       "array([[ 4.57247371e-04,  5.85276635e-02,  1.28000000e+02,\n",
       "         2.18700000e+03],\n",
       "       [ 1.00000000e+00,  0.00000000e+00, -1.00000000e+00,\n",
       "         1.28000000e+02],\n",
       "       [ 0.00000000e+00,  0.00000000e+00, -3.57224508e+01,\n",
       "        -5.85276635e-02],\n",
       "       [ 0.00000000e+00,  0.00000000e+00,  1.00000000e+00,\n",
       "         0.00000000e+00]])"
      ]
     },
     "execution_count": 79,
     "metadata": {},
     "output_type": "execute_result"
    }
   ],
   "source": [
    "print(A)\n",
    "A*A*A*A*A*A*A"
   ]
  },
  {
   "cell_type": "code",
   "execution_count": 88,
   "metadata": {},
   "outputs": [
    {
     "data": {
      "text/plain": [
       "(array([1.26794919, 3.        , 4.73205081]),\n",
       " array([[-0.78867513, -0.57735027,  0.21132487],\n",
       "        [ 0.57735027, -0.57735027,  0.57735027],\n",
       "        [-0.21132487,  0.57735027,  0.78867513]]))"
      ]
     },
     "execution_count": 88,
     "metadata": {},
     "output_type": "execute_result"
    }
   ],
   "source": [
    "B = np.array([[2,1,0],[1,3,1],[0,1,4]])\n",
    "np.linalg.eig(B)"
   ]
  },
  {
   "cell_type": "code",
   "execution_count": 89,
   "metadata": {},
   "outputs": [
    {
     "name": "stdout",
     "output_type": "stream",
     "text": [
      "4.627118644067798\n",
      "4.694117647058825\n",
      "4.71702331523475\n",
      "4.726009720848207\n",
      "4.729619855518535\n",
      "4.731073085860341\n"
     ]
    }
   ],
   "source": [
    "v = (1,1,1)/np.sqrt(3)\n",
    "w = B@v\n",
    "v = w/np.linalg.norm(w)\n",
    "lam = v@B@v\n",
    "print(lam)\n",
    "w = B@v\n",
    "v = w/np.linalg.norm(w)\n",
    "lam = v@B@v\n",
    "print(lam)\n",
    "w = B@v\n",
    "v = w/np.linalg.norm(w)\n",
    "lam = v@B@v\n",
    "print(lam)\n",
    "w = B@v\n",
    "v = w/np.linalg.norm(w)\n",
    "lam = v@B@v\n",
    "print(lam)\n",
    "w = B@v\n",
    "v = w/np.linalg.norm(w)\n",
    "lam = v@B@v\n",
    "print(lam)\n",
    "w = B@v\n",
    "v = w/np.linalg.norm(w)\n",
    "lam = v@B@v\n",
    "print(lam)"
   ]
  },
  {
   "cell_type": "code",
   "execution_count": 100,
   "metadata": {},
   "outputs": [
    {
     "name": "stdout",
     "output_type": "stream",
     "text": [
      "[[8 0 1]\n",
      " [0 8 1]\n",
      " [1 1 7]]\n"
     ]
    }
   ],
   "source": [
    "C = np.array([[8,0,1],[0,8,1],[1,1,7]])\n",
    "print(C)\n",
    "d, X = np.linalg.eig(C)"
   ]
  },
  {
   "cell_type": "code",
   "execution_count": 103,
   "metadata": {},
   "outputs": [
    {
     "name": "stdout",
     "output_type": "stream",
     "text": [
      "[6. 8. 9.]\n"
     ]
    },
    {
     "data": {
      "text/plain": [
       "array([[ 4.08248290e-01, -7.07106781e-01, -5.77350269e-01],\n",
       "       [ 4.08248290e-01,  7.07106781e-01, -5.77350269e-01],\n",
       "       [-8.16496581e-01,  1.13147888e-15, -5.77350269e-01]])"
      ]
     },
     "execution_count": 103,
     "metadata": {},
     "output_type": "execute_result"
    }
   ],
   "source": [
    "print(d)\n",
    "X"
   ]
  },
  {
   "cell_type": "code",
   "execution_count": 113,
   "metadata": {},
   "outputs": [],
   "source": [
    "def power_iter(A, x):\n",
    "    v = x.copy()\n",
    "    for j in range(20):\n",
    "        w = A@v\n",
    "        v = w/np.linalg.norm(w)\n",
    "        lam = v@A@v\n",
    "        print(lam)\n",
    "    return lam"
   ]
  },
  {
   "cell_type": "code",
   "execution_count": 116,
   "metadata": {},
   "outputs": [
    {
     "name": "stdout",
     "output_type": "stream",
     "text": [
      "8.454545454545457\n",
      "8.730337078651688\n",
      "8.873850197109068\n",
      "8.942592315742267\n",
      "8.97421131277178\n",
      "8.988483361418883\n",
      "8.994870554339546\n",
      "8.997718078782226\n",
      "8.998985384037711\n",
      "8.999548974828366\n",
      "8.999799527624074\n",
      "8.99991089785838\n",
      "8.999960398394727\n",
      "8.999982399157467\n",
      "8.99999217737782\n",
      "8.999996523273994\n",
      "8.999998454787448\n",
      "8.99999931323867\n",
      "8.999999694772699\n",
      "8.999999864343415\n"
     ]
    },
    {
     "data": {
      "text/plain": [
       "8.999999864343415"
      ]
     },
     "execution_count": 116,
     "metadata": {},
     "output_type": "execute_result"
    }
   ],
   "source": [
    "power_iter(C, [1/np.sqrt(2),1/np.sqrt(2),0])"
   ]
  },
  {
   "cell_type": "code",
   "execution_count": 127,
   "metadata": {},
   "outputs": [
    {
     "name": "stdout",
     "output_type": "stream",
     "text": [
      "[ 0.0000000e+00  0.0000000e+00 -8.8817842e-16]\n",
      "[[ 5. -3. -2.]\n",
      " [-3.  5. -2.]\n",
      " [-2. -2.  4.]] [[3. 3. 3.]\n",
      " [3. 3. 3.]\n",
      " [3. 3. 3.]]\n"
     ]
    },
    {
     "data": {
      "text/plain": [
       "(array([-1.77635684e-15,  8.00000000e+00,  6.00000000e+00]),\n",
       " array([[ 5.77350269e-01,  7.07106781e-01, -4.08248290e-01],\n",
       "        [ 5.77350269e-01, -7.07106781e-01, -4.08248290e-01],\n",
       "        [ 5.77350269e-01, -6.82918131e-17,  8.16496581e-01]]))"
      ]
     },
     "execution_count": 127,
     "metadata": {},
     "output_type": "execute_result"
    }
   ],
   "source": [
    "#deflste\n",
    "v = [1,1,1]/np.sqrt(3)\n",
    "print(C.dot(v)-9*v)\n",
    "B = C-9*np.outer(v,v)\n",
    "print(B, 9*np.outer(v,v))\n",
    "np.linalg.eig(B)"
   ]
  },
  {
   "cell_type": "code",
   "execution_count": 140,
   "metadata": {},
   "outputs": [
    {
     "name": "stdout",
     "output_type": "stream",
     "text": [
      "0.009999999999999792\n",
      "2508.009601277231\n",
      "[-1.          0.99501247]\n",
      "[-0.99002494  0.99003738] [-0.98007475  0.98507469] [-0.97014938  0.98012438] [-0.96024876  0.97518641] [-0.95037282  0.97026076]\n"
     ]
    }
   ],
   "source": [
    "# Gauss Seidel\n",
    "n = 10\n",
    "A = np.array([[1,2],[2,4+1/n**2]])\n",
    "print(np.linalg.det(A))\n",
    "print(np.linalg.cond(A))\n",
    "b = np.array([1, 2-1/n**2])\n",
    "\n",
    "D = np.array([[1,0],[0,4+1/n**2]])\n",
    "L = np.array([[0,0],[2,0]])\n",
    "U = np.array([[0,2],[0,0]])\n",
    "\n",
    "x0 = [-1,1]\n",
    "x1 = -np.linalg.inv(D+L)@U@x0 + np.linalg.inv(D+L)@b\n",
    "print(x1)\n",
    "x2 = -np.linalg.inv(D+L)@U@x1 + np.linalg.inv(D+L)@b\n",
    "x3 = -np.linalg.inv(D+L)@U@x2 + np.linalg.inv(D+L)@b\n",
    "x4 = -np.linalg.inv(D+L)@U@x3 + np.linalg.inv(D+L)@b\n",
    "x5 = -np.linalg.inv(D+L)@U@x4 + np.linalg.inv(D+L)@b\n",
    "x6 = -np.linalg.inv(D+L)@U@x5 + np.linalg.inv(D+L)@b\n",
    "print(x2,x3,x4,x5,x6)"
   ]
  },
  {
   "cell_type": "code",
   "execution_count": null,
   "metadata": {},
   "outputs": [],
   "source": []
  }
 ],
 "metadata": {
  "kernelspec": {
   "display_name": "Python 3",
   "language": "python",
   "name": "python3"
  },
  "language_info": {
   "codemirror_mode": {
    "name": "ipython",
    "version": 3
   },
   "file_extension": ".py",
   "mimetype": "text/x-python",
   "name": "python",
   "nbconvert_exporter": "python",
   "pygments_lexer": "ipython3",
   "version": "3.8.5"
  },
  "toc": {
   "base_numbering": 1,
   "nav_menu": {},
   "number_sections": true,
   "sideBar": true,
   "skip_h1_title": false,
   "title_cell": "Table of Contents",
   "title_sidebar": "Contents",
   "toc_cell": false,
   "toc_position": {},
   "toc_section_display": true,
   "toc_window_display": false
  }
 },
 "nbformat": 4,
 "nbformat_minor": 4
}

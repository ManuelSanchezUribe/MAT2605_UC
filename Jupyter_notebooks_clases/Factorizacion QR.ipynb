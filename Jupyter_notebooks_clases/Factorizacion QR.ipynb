{
 "cells": [
  {
   "cell_type": "markdown",
   "metadata": {},
   "source": [
    "<center><h1 style=\"color:#0098E9;\"> 3. Factorizacion QR </h1></center>\n",
    "  \n",
    "<center><h3 style=\"color:#0098E9;\"> Manuel A. Sanchez</h3></center>\n",
    "<center><h3 style=\"color:#0098E9;\"> Pontificia Universidad Catolica de Chile</h3></center>\n",
    "<hr style=\"border:2px solid gray\"> </hr>"
   ]
  },
  {
   "cell_type": "code",
   "execution_count": 1,
   "metadata": {},
   "outputs": [],
   "source": [
    "import numpy as np\n",
    "from numpy.linalg import qr"
   ]
  },
  {
   "cell_type": "markdown",
   "metadata": {},
   "source": [
    "## Ejemplo 1.\n",
    "\n",
    "\\begin{equation}\n",
    "A = \n",
    "\\begin{pmatrix}\n",
    "-1&-1&1\\\\\n",
    "1&3&3&\\\\\n",
    "1&-1&5 \\\\\n",
    "-1&3&7\n",
    "\\end{pmatrix}\n",
    "\\end{equation}"
   ]
  },
  {
   "cell_type": "code",
   "execution_count": 2,
   "metadata": {},
   "outputs": [
    {
     "name": "stdout",
     "output_type": "stream",
     "text": [
      "Q:\n",
      " [[-0.5 -0.5  0.5]\n",
      " [ 0.5 -0.5  0.5]\n",
      " [-0.5 -0.5 -0.5]\n",
      " [ 0.5 -0.5 -0.5]]\n",
      "R:\n",
      " [[ 2.  4.  2.]\n",
      " [ 0. -2. -8.]\n",
      " [ 0.  0. -4.]]\n"
     ]
    }
   ],
   "source": [
    "A = np.array([[-1,-1,1],[1,3,3],[-1,-1,5],[1,3,7]]) \n",
    "[Q,R]= qr(A)\n",
    "print(\"Q:\\n\", Q)\n",
    "print(\"R:\\n\", R)"
   ]
  },
  {
   "cell_type": "code",
   "execution_count": 3,
   "metadata": {},
   "outputs": [
    {
     "name": "stdout",
     "output_type": "stream",
     "text": [
      "Q*R:\n",
      " [[-1. -1.  1.]\n",
      " [ 1.  3.  3.]\n",
      " [-1. -1.  5.]\n",
      " [ 1.  3.  7.]]\n"
     ]
    }
   ],
   "source": [
    "print(\"Q*R:\\n\",Q@R)"
   ]
  },
  {
   "cell_type": "markdown",
   "metadata": {},
   "source": [
    "<h2 style=\"color:#FF5CA8;\"> Algoritmo QR </h2>"
   ]
  },
  {
   "cell_type": "code",
   "execution_count": 4,
   "metadata": {},
   "outputs": [],
   "source": [
    "\n",
    "def iteracion_qr(A,MAX_ITER):\n",
    "    Ak = A.copy()\n",
    "    S = np.eye(A.shape[0])\n",
    "    for k in range(0,MAX_ITER):\n",
    "        [Q,R] = qr(Ak)\n",
    "        Ak = R@Q\n",
    "        S = S@Q\n",
    "        print(\"Ak:\\n\",Ak)\n",
    "    #end for\n",
    "    return Ak, S"
   ]
  },
  {
   "cell_type": "markdown",
   "metadata": {},
   "source": [
    "## Ejemplo\n",
    "\n",
    "\\begin{equation}\n",
    "A = \n",
    "\\begin{pmatrix}\n",
    "2&1\\\\\n",
    "2&3\n",
    "\\end{pmatrix}\n",
    "\\end{equation}"
   ]
  },
  {
   "cell_type": "code",
   "execution_count": 5,
   "metadata": {},
   "outputs": [],
   "source": [
    "A = np.array([[2,1],[2,3]])"
   ]
  },
  {
   "cell_type": "code",
   "execution_count": 6,
   "metadata": {},
   "outputs": [],
   "source": [
    "np.set_printoptions(precision=4)\n",
    "#[T, S] = iteracion_qr(A,30)"
   ]
  },
  {
   "cell_type": "code",
   "execution_count": 8,
   "metadata": {},
   "outputs": [],
   "source": [
    "#S@T@np.linalg.inv(S)"
   ]
  },
  {
   "cell_type": "markdown",
   "metadata": {},
   "source": [
    "## Ejemplo\n",
    "\n",
    "\\begin{equation}\n",
    "A = \n",
    "\\begin{pmatrix}\n",
    "2&1&0 \\\\\n",
    "1&3&-1 \\\\\n",
    "0&-1&6 \n",
    "\\end{pmatrix}\n",
    "\\end{equation}"
   ]
  },
  {
   "cell_type": "code",
   "execution_count": 9,
   "metadata": {},
   "outputs": [],
   "source": [
    "A = np.array([[2,1,0],[1,3,-1],[0,-1,6]])"
   ]
  },
  {
   "cell_type": "code",
   "execution_count": 10,
   "metadata": {},
   "outputs": [],
   "source": [
    "#[T2, S2] = iteracion_qr(A, 100)"
   ]
  },
  {
   "cell_type": "code",
   "execution_count": 11,
   "metadata": {},
   "outputs": [],
   "source": [
    "#S2@T2@S2.T"
   ]
  },
  {
   "cell_type": "markdown",
   "metadata": {},
   "source": [
    "## Hessenberg"
   ]
  },
  {
   "cell_type": "code",
   "execution_count": 12,
   "metadata": {},
   "outputs": [
    {
     "name": "stdout",
     "output_type": "stream",
     "text": [
      "[[ 2.  1.  0.]\n",
      " [ 1.  3. -1.]\n",
      " [ 0. -1.  6.]]\n",
      "[[ 1.  0.  0.]\n",
      " [ 0.  1.  0.]\n",
      " [ 0. -0.  1.]]\n"
     ]
    }
   ],
   "source": [
    "from scipy.linalg import hessenberg\n",
    "H, Q = hessenberg(A, calc_q=True)\n",
    "print(H)\n",
    "print(Q)"
   ]
  },
  {
   "cell_type": "code",
   "execution_count": 57,
   "metadata": {},
   "outputs": [
    {
     "data": {
      "text/plain": [
       "(array([14.3544,  9.8317,  1.814 ]),\n",
       " array([[ 0.244 ,  0.9632,  0.1123],\n",
       "        [ 0.0978,  0.0907, -0.9911],\n",
       "        [ 0.9648, -0.2528,  0.0721]]))"
      ]
     },
     "execution_count": 57,
     "metadata": {},
     "output_type": "execute_result"
    }
   ],
   "source": [
    "A = np.array([[10,1,1],[1,2,1],[1,1,14]])\n",
    "np.linalg.eig(A)\n"
   ]
  },
  {
   "cell_type": "code",
   "execution_count": 58,
   "metadata": {},
   "outputs": [
    {
     "name": "stdout",
     "output_type": "stream",
     "text": [
      "[[ 1.0000e+01 -1.4142e+00  2.0293e-17]\n",
      " [-1.4142e+00  9.0000e+00 -6.0000e+00]\n",
      " [ 0.0000e+00 -6.0000e+00  7.0000e+00]]\n",
      "[[ 1.      0.      0.    ]\n",
      " [ 0.     -0.7071 -0.7071]\n",
      " [ 0.     -0.7071  0.7071]]\n"
     ]
    }
   ],
   "source": [
    "H, Q = hessenberg(A, calc_q=True)\n",
    "print(H)\n",
    "print(Q)"
   ]
  },
  {
   "cell_type": "code",
   "execution_count": 59,
   "metadata": {},
   "outputs": [],
   "source": [
    "MAX_ITER = 10\n",
    "def inverse_iteration(A, x0, mu):\n",
    "    K = A-mu*np.eye(A.shape[0])\n",
    "    Kinv = np.linalg.inv(K)\n",
    "    x     = []\n",
    "    gamma = []\n",
    "    x0 = x0/np.linalg.norm(x0)\n",
    "    x.append(x0)\n",
    "    gamma.append(mu)\n",
    "    k = 1\n",
    "    while k < MAX_ITER:\n",
    "        w = Kinv.dot(x[k-1])\n",
    "        xk = w/np.linalg.norm(w)\n",
    "        gammak = xk.dot(A.dot(xk))\n",
    "        \n",
    "        x.append(xk)\n",
    "        gamma.append(gammak)\n",
    "        k+=1\n",
    "    return gamma, x"
   ]
  },
  {
   "cell_type": "code",
   "execution_count": 60,
   "metadata": {},
   "outputs": [
    {
     "data": {
      "text/plain": [
       "([9,\n",
       "  10.0,\n",
       "  9.837209302325581,\n",
       "  9.831822759315205,\n",
       "  9.831677133558998,\n",
       "  9.83167341315568,\n",
       "  9.831673320625416,\n",
       "  9.831673318355891,\n",
       "  9.831673318300641,\n",
       "  9.831673318299302],\n",
       " [array([0.5774, 0.5774, 0.5774]),\n",
       "  array([1., 0., 0.]),\n",
       "  array([ 0.9705,  0.1078, -0.2157]),\n",
       "  array([ 0.9649,  0.0898, -0.2468]),\n",
       "  array([ 0.9635,  0.091 , -0.2519]),\n",
       "  array([ 0.9633,  0.0907, -0.2527]),\n",
       "  array([ 0.9632,  0.0907, -0.2528]),\n",
       "  array([ 0.9632,  0.0907, -0.2528]),\n",
       "  array([ 0.9632,  0.0907, -0.2528]),\n",
       "  array([ 0.9632,  0.0907, -0.2528])])"
      ]
     },
     "execution_count": 60,
     "metadata": {},
     "output_type": "execute_result"
    }
   ],
   "source": [
    "inverse_iteration(A, np.array([1,1,1]), 9)\n"
   ]
  },
  {
   "cell_type": "code",
   "execution_count": 61,
   "metadata": {},
   "outputs": [
    {
     "data": {
      "text/plain": [
       "([10,\n",
       "  9.82065353455744,\n",
       "  9.83166876828169,\n",
       "  9.831673316548738,\n",
       "  9.831673318298785,\n",
       "  9.831673318299268,\n",
       "  9.831673318299266,\n",
       "  9.831673318299266,\n",
       "  9.831673318299266,\n",
       "  9.831673318299263],\n",
       " [array([0.5774, 0.5774, 0.5774]),\n",
       "  array([-0.9656, -0.1425,  0.2177]),\n",
       "  array([ 0.9634,  0.115 , -0.2422]),\n",
       "  array([-0.9632, -0.1147,  0.2429]),\n",
       "  array([ 0.9632,  0.1147, -0.2429]),\n",
       "  array([-0.9632, -0.1147,  0.2429]),\n",
       "  array([ 0.9632,  0.1147, -0.2429]),\n",
       "  array([-0.9632, -0.1147,  0.2429]),\n",
       "  array([ 0.9632,  0.1147, -0.2429]),\n",
       "  array([-0.9632, -0.1147,  0.2429])])"
      ]
     },
     "execution_count": 61,
     "metadata": {},
     "output_type": "execute_result"
    }
   ],
   "source": [
    "inverse_iteration(H, np.array([1,1,1]), 10)"
   ]
  },
  {
   "cell_type": "code",
   "execution_count": 46,
   "metadata": {},
   "outputs": [],
   "source": [
    "import numpy as np\n",
    "from numpy.linalg import qr\n",
    "A = np.array([[0,1],[1,0]])"
   ]
  },
  {
   "cell_type": "code",
   "execution_count": 47,
   "metadata": {},
   "outputs": [
    {
     "data": {
      "text/plain": [
       "array([[ 1.0000e+00,  0.0000e+00],\n",
       "       [ 3.3547e-17, -1.0000e+00]])"
      ]
     },
     "execution_count": 47,
     "metadata": {},
     "output_type": "execute_result"
    }
   ],
   "source": [
    "mu = -1\n",
    "Q, R = qr(A-mu*np.eye(2))\n",
    "R@Q+mu*np.eye(2)"
   ]
  },
  {
   "cell_type": "code",
   "execution_count": 62,
   "metadata": {},
   "outputs": [],
   "source": [
    "y = np.array([1/np.sqrt(6)-11/np.sqrt(12), -1/np.sqrt(6), 2/np.sqrt(6)-1/(3*np.sqrt(3))])\n",
    "x = y/np.linalg.norm(y)\n"
   ]
  },
  {
   "cell_type": "code",
   "execution_count": 64,
   "metadata": {},
   "outputs": [
    {
     "name": "stdout",
     "output_type": "stream",
     "text": [
      "[-0.9656 -0.1425  0.2177]\n",
      "9.820653534557438\n"
     ]
    }
   ],
   "source": [
    "print(y/np.linalg.norm(y))\n",
    "print(x.dot(H.dot(x)))"
   ]
  },
  {
   "cell_type": "code",
   "execution_count": null,
   "metadata": {},
   "outputs": [],
   "source": []
  }
 ],
 "metadata": {
  "hide_input": false,
  "kernelspec": {
   "display_name": "Python 3 (ipykernel)",
   "language": "python",
   "name": "python3"
  },
  "language_info": {
   "codemirror_mode": {
    "name": "ipython",
    "version": 3
   },
   "file_extension": ".py",
   "mimetype": "text/x-python",
   "name": "python",
   "nbconvert_exporter": "python",
   "pygments_lexer": "ipython3",
   "version": "3.10.11"
  }
 },
 "nbformat": 4,
 "nbformat_minor": 4
}

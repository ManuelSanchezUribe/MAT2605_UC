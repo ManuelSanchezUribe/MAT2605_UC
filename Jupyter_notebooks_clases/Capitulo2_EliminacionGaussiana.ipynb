{
 "cells": [
  {
   "cell_type": "markdown",
   "id": "12b86d42-1769-488d-914d-d06dfd1ee0d4",
   "metadata": {},
   "source": [
    "<hr style=\"border:2px solid #808080\"> </hr>\n",
    "<center><h1 style=\"color:#03122E;\"> Calculo Cientifico MAT2605</h1></center>\n",
    "<center><h1 style=\"color:#173F8A;\"> Capítulo 2: Eliminacion Gaussiana</h3></center>\n",
    "<center><h1 style=\"color:#0176DE;\"> Prof. Manuel A. Sánchez</h3></center>\n",
    "<hr style=\"border:2px solid #808080\"> </hr>"
   ]
  },
  {
   "cell_type": "markdown",
   "id": "42a8f267-329f-4d78-81b7-67758a067bd8",
   "metadata": {},
   "source": [
    "## Tabla de contenidos\n",
    "\n",
    "1. [Algoritmos de sustitucion regresiva y progresiva](#Algoritmos-sustitucion)\n",
    "2. [Algoritmos de eliminacion Gaussiana](#Eliminacion-Gaussiana)\n",
    "3. [Ejemplo: eliminacion Gaussiana](#Ejemplo:-eliminacion-Gaussiana)\n",
    "4. [Ejemplo: Factorizacion LU](#Ejemplo:-Factorizacion-LU)\n",
    "5. [Ejemplo: inestabilidad sin pivoteo](#Ejemplo:-inestabilidad-sin-pivoteo)\n",
    "6. [Ejemplo: worst case instability](#Ejemplo:-worst-case-instability)"
   ]
  },
  {
   "cell_type": "code",
   "execution_count": 1,
   "id": "e0cba0a7-8902-4067-b1c5-8b277ef05d51",
   "metadata": {},
   "outputs": [
    {
     "data": {
      "text/html": [
       "<style>.output {display: flex;align-items: center;text-align: center;}</style>"
      ],
      "text/plain": [
       "<IPython.core.display.HTML object>"
      ]
     },
     "metadata": {},
     "output_type": "display_data"
    }
   ],
   "source": [
    "import numpy as np\n",
    "import scipy as scp\n",
    "import matplotlib.pyplot as plt\n",
    "import pandas as pd\n",
    "from IPython.display import display, HTML\n",
    "display(HTML(\"\"\"<style>.output {display: flex;align-items: center;text-align: center;}</style>\"\"\"))"
   ]
  },
  {
   "cell_type": "markdown",
   "id": "952cc328-42d7-4d7c-8498-ae9be415e44a",
   "metadata": {},
   "source": [
    "## Algoritmos sustitucion\n",
    "\n",
    "- **Algoritmo de sustitucion progresiva**\n",
    "\n",
    "- **Algoritmo de sustitucion regresiva**"
   ]
  },
  {
   "cell_type": "code",
   "execution_count": 26,
   "id": "90c400be-1e49-412b-84de-47f56e98723c",
   "metadata": {},
   "outputs": [],
   "source": [
    "# Forward and Backward substitution\n",
    "def forward_substitution(L,b):\n",
    "    '''\n",
    "    Forward substitution algorithm for system L y = b\n",
    "    input : L lower triangular matrix n x n\n",
    "            b vector n x 1\n",
    "    output: y solution of L y = b\n",
    "    '''\n",
    "    n = L.shape[0]; y = np.zeros(n)\n",
    "    y[0] = b[0]/L[0,0]\n",
    "    for i in range(1,n):\n",
    "        y[i] = (b[i] - np.dot(L[i,0:i],y[0:i]))/L[i,i]\n",
    "    return y\n",
    "def backward_substitution(U,y):\n",
    "    '''\n",
    "    Backward substitution algorithm for system U x = y\n",
    "    input : U upper triangular matrix n x n\n",
    "            y vector n x 1\n",
    "    output : x solution of U x = y\n",
    "    '''\n",
    "    n = U.shape[0]; x = np.zeros(n)\n",
    "    x[n-1] = y[n-1]/U[n-1,n-1]\n",
    "    for i in range(n-2,-1,-1):\n",
    "        x[i] = (y[i] - np.dot(U[i,(i+1):n],(x[(i+1):n])))/U[i,i]\n",
    "    return x\n",
    "# generate permutation matrix\n",
    "def perm(rowpiv):\n",
    "    n = rowpiv.size+1\n",
    "    P = np.eye(n)\n",
    "    for k in range(n-1):\n",
    "        P[[k,rowpiv[k]],:] = P[[rowpiv[k], k],:]\n",
    "    return P\n",
    "def permb(b, rowpiv):\n",
    "    n = b.size\n",
    "    for k in range(n-1):\n",
    "        b[[k, rowpiv[k]]] = b[[rowpiv[k],k]] \n",
    "    return b"
   ]
  },
  {
   "cell_type": "markdown",
   "id": "2c65269b-187c-4082-84ea-8b3310a2fc49",
   "metadata": {},
   "source": [
    "## Eliminacion Gaussiana\n",
    "\n",
    "- **Eliminacion Gaussiana sin pivoteo**  `` GE ``\n",
    "- **Factorizacion A = LU sin pivoteo**  ``LU``\n",
    "\n",
    "- **Eliminacion Gaussiana con pivoteo parcial** ``GEPP``\n",
    "- **Factorizacion LU, PA=LU, sin pivoteo**  ``LUPP``\n",
    "\n",
    "- **Eliminacion Gaussiana con pivoteo completo** ``GECP``\n",
    "- **Factorizacion LU. PAQ = LU, con pivoteo completo**  ``LUCP``"
   ]
  },
  {
   "cell_type": "code",
   "execution_count": 27,
   "id": "ef5c8671-aa59-4139-962e-0aac70cd3d7c",
   "metadata": {},
   "outputs": [],
   "source": [
    "# 1.\n",
    "def GE(Ainput, binput):\n",
    "    '''\n",
    "    Eliminacion Gaussiana sin pivoteo\n",
    "    Input : A nonsingular and square matrix n x n \n",
    "            b vector n x 1\n",
    "    Output: x solution of the system A x = b\n",
    "    '''\n",
    "    A = Ainput.copy() # se va a modificar\n",
    "    b = binput.copy() # se va a modificar\n",
    "    # 1. Factorize A = LU\n",
    "    L, U = LU(A)\n",
    "    # 2. Solve LUx = b forward substitution\n",
    "    y = forward_substitution(L, b)\n",
    "    # 3. Solve Ux = L^{-1} b backward substitution\n",
    "    x = backward_substitution(U,y)\n",
    "    return x\n",
    "def LU(Ainput):\n",
    "    '''\n",
    "    Factorizacion A = LU, sin pivoteo\n",
    "    Input : A nonsingular and square matrix n x n \n",
    "    Output: L triangular inferior, U triangular superior, square matrix n x n\n",
    "    '''\n",
    "    A = Ainput.copy() # se va a modificar\n",
    "    n = A.shape[0]\n",
    "    for i in range(n-1):\n",
    "        if A[i, i] == 0:\n",
    "            raise ValueError(\"coeficient is zero.\")\n",
    "        A[(i+1):n,i] = (A[(i+1):n,i]/A[i,i])\n",
    "        A[(i+1):n, (i+1):n][:] = A[(i+1):n, (i+1):n]-np.outer(A[(i+1):n,i],A[i, (i+1):n])\n",
    "    L = np.tril(A,-1)+np.eye(n)\n",
    "    U = np.triu(A)\n",
    "    return L, U\n",
    "\n",
    "# 2.\n",
    "def GEPP(Ainput, binput):\n",
    "    A = Ainput.copy() # se va a modificar\n",
    "    b = binput.copy() # se va a modificar\n",
    "    '''\n",
    "    Eliminacion Gaussiana con pivoteo de filas o pivoteo parcial\n",
    "    Input : A matriz cuadrada no singular de n x n \n",
    "            b vector de n x 1\n",
    "    Output: x solucion del sistema lineal  A x = b\n",
    "    '''\n",
    "    # 1. Factorize A = PLU\n",
    "    L, U, pT = LUPP(A)\n",
    "    # 2. Solve P L U x = b\n",
    "    P = perm(pT)\n",
    "    rhs  = perm(pT).dot(b)\n",
    "    # 3. Solve LUx = Pt b forward substitution\n",
    "    y = forward_substitution(L, rhs)\n",
    "    # 4. Solve Ux = L^{-1} Pt b backward substitution\n",
    "    x = backward_substitution(U,y)\n",
    "    return x\n",
    "\n",
    "def LUPP(Ainput):\n",
    "    '''\n",
    "    Factorizacion PA = LU, con pivoteo parcial\n",
    "    Input : A matriz cuadrada no singular de n x n\n",
    "    Output: L triangular inferior, matriz cuadrada de n x n\n",
    "            U trangular superior, matriz cuadrada de n x n\n",
    "            p, vector asociado a la matriz de permutacion\n",
    "    '''\n",
    "    A = Ainput.copy() # se va a modificar\n",
    "    n = A.shape[0]\n",
    "    piv = np.arange(0,n-1)\n",
    "    for i in range(n-1):\n",
    "        imax = abs(A[i:,i]).argmax() + i\n",
    "        piv[i] = imax\n",
    "        if A[imax, i] == 0:\n",
    "            raise ValueError(\"Matrix is singular.\")\n",
    "        elif imax != i:\n",
    "            A[[i,imax],:] = A[[imax, i],:][:]\n",
    "        A[(i+1):n,i][:] = (A[(i+1):n,i]/A[i,i])[:]\n",
    "        A[(i+1):n, (i+1):n][:] = A[(i+1):n, (i+1):n]-np.outer(A[(i+1):n,i],A[i, (i+1):n])\n",
    "    \n",
    "    L = np.tril(A,-1)+np.eye(n)\n",
    "    U = np.triu(A)\n",
    "    return L, U, piv\n",
    "\n",
    "# \n",
    "def GECP(Ainput, binput):\n",
    "    '''\n",
    "    Eliminacion Gaussiana con pivoteo de filas y columnas o pivoteo completo\n",
    "    Input : A matriz cuadrada no singular de n x n \n",
    "            b vector de n x 1\n",
    "    Output: x solucion del sistema lineal  A x = b\n",
    "    '''\n",
    "    A = Ainput.copy() # se va a modificar\n",
    "    b = binput.copy() # se va a modificar\n",
    "    # 1. Factorize PAQ^T = LU\n",
    "    L, U, rowpiv, colpiv = LUCP(A)\n",
    "    # 2. Solve  L U x = P b Q^T\n",
    "    rhs  = perm(rowpiv).dot(b)\n",
    "    # 3. Solve LUx = Pt b forward substitution\n",
    "    y = forward_substitution(L, rhs)\n",
    "    # 4. Solve Ux = L^{-1} Pt b backward substitution\n",
    "    x = backward_substitution(U,y)\n",
    "    return (perm(colpiv).T).dot(x)\n",
    "\n",
    "def LUCP(Ainput):\n",
    "    '''\n",
    "    Factorizacion P A Q = L U, con pivoteo completo\n",
    "    Input : A matriz cuadrada no singular de n x n\n",
    "    Output: L triangular inferior, matriz cuadrada de n x n\n",
    "            U trangular superior, matriz cuadrada de n x n\n",
    "            p, vector asociado a la matriz de permutacion por filas\n",
    "            q, vector asociado a la matriz de permutacion por columnas\n",
    "    '''\n",
    "    A = Ainput.copy() # se va a modificar\n",
    "    n = A.shape[0]\n",
    "    rowpiv = np.arange(0,n-1)\n",
    "    colpiv = np.arange(0,n-1)\n",
    "    for i in range(n-1):\n",
    "        mu, lam = np.unravel_index(np.argmax(np.abs(A[i:,i:]), axis=None), A[i:,i:].shape)\n",
    "        mu +=i; lam+=i\n",
    "        if A[mu, lam] == 0:\n",
    "            raise ValueError(\"Matrix is singular.\")\n",
    "        else:\n",
    "            rowpiv[i] = mu\n",
    "            A[[i, mu],:] = A[[mu, i],:][:]\n",
    "            colpiv[i] = lam\n",
    "            A[:,[i, lam]] = A[:,[lam, i]][:]\n",
    "        A[(i+1):n,i] *= 1.0/A[i,i]\n",
    "        A[(i+1):n, (i+1):n] -=np.outer(A[(i+1):n,i],A[i, (i+1):n])\n",
    "    L = np.tril(A,-1)+np.eye(n)\n",
    "    U = np.triu(A)\n",
    "    return L, U, rowpiv, colpiv"
   ]
  },
  {
   "cell_type": "code",
   "execution_count": 48,
   "id": "5692046f-9d57-437a-8692-e5aba832c1df",
   "metadata": {},
   "outputs": [],
   "source": [
    "def Eliminacion_Gaussiana(A,b, pivoteo=None):\n",
    "    if pivoteo is None:\n",
    "        x = GE(A,b)\n",
    "    elif pivoteo == 'parcial':\n",
    "        x = GEPP(A,b)\n",
    "    elif pivoteo == 'completo':\n",
    "        x = GECP(A,b)\n",
    "    return x\n",
    "\n",
    "def Factorizacion_LU(A, pivoteo=None):\n",
    "    if pivoteo is None:\n",
    "        L,U = LU(A)\n",
    "        return L,U\n",
    "    elif pivoteo == 'parcial':\n",
    "        L,U,piv = LUPP(A)\n",
    "        return L, U, piv\n",
    "    elif pivoteo == 'completo':\n",
    "        L, U, rowpiv, colpiv = LUCP(A)\n",
    "        return  L, U, rowpiv, colpiv\n",
    "\n",
    "def Eliminacion_Gaussiana_con_pivoteo_directa(Ainput, binput):\n",
    "    # A = np.hstack((Ainput.copy(),binput.copy().reshape(n))\n",
    "    A = np.c_[Ainput.copy(),binput.copy()]\n",
    "    print(A)\n",
    "    n = A.shape[0]\n",
    "    for i in range(n-1):\n",
    "        imax = abs(A[i:,i]).argmax() + i\n",
    "        if A[imax, i] == 0:\n",
    "            raise ValueError(\"Matrix is singular.\")\n",
    "        elif imax != i:\n",
    "            A[[i,imax],:] = A[[imax, i],:][:]\n",
    "        A[(i+1):n,i][:] = (A[(i+1):n,i]/A[i,i])[:]\n",
    "        A[(i+1):n, (i+1):(n+1)][:] = A[(i+1):n, (i+1):(n+1)]-np.outer(A[(i+1):n,i],A[i, (i+1):(n+1)])\n",
    "    if A[n-1,n-1]==0: \n",
    "        raise ValueError(\"Matrix is singular.\")\n",
    "    else:\n",
    "        x = np.zeros(n)\n",
    "        x[n-1] = A[n-1,n]/A[n-1,n-1]\n",
    "        for i in range(n-2,-1,-1):\n",
    "            x[i] = (A[i,n] - np.dot(A[i,(i+1):n],(x[(i+1):n])))/A[i,i]\n",
    "    return x\n",
    "    "
   ]
  },
  {
   "cell_type": "markdown",
   "id": "efce036f-6d7c-4e7b-b24d-1c582e8f3333",
   "metadata": {},
   "source": [
    "## Ejemplo: descomposicion LU notas\n",
    "\n",
    "Encuentre la factorizacion o descomposicion LU de la siguiente matriz\n",
    "\\begin{equation}\n",
    "A = \\begin{bmatrix}\n",
    "2 & 1 & 1 & 0\\\\\n",
    "4 & 3 & 3 & 1 \\\\\n",
    "8 & 7 & 9 & 5 \\\\\n",
    "6 & 7 & 9 & 8\n",
    "\\end{bmatrix},\n",
    "\\end{equation}\n",
    "\n",
    "usando Eliminacion Gaussiana, \n",
    "- sin pivoteo\n",
    "- con pivoteo parcial\n",
    "- con pivoteo completo."
   ]
  },
  {
   "cell_type": "code",
   "execution_count": 49,
   "id": "d7091f61-8515-49d2-897b-f3095c093095",
   "metadata": {},
   "outputs": [],
   "source": [
    "A = np.array([[2,1,1,0],[4,3,3,1],[8,7,9,5],[6,7,9,8]],dtype=np.float64)"
   ]
  },
  {
   "cell_type": "code",
   "execution_count": 50,
   "id": "57c1e490-f940-43d7-aba0-6dd2b5bfe30d",
   "metadata": {},
   "outputs": [
    {
     "name": "stdout",
     "output_type": "stream",
     "text": [
      "L :\n",
      " [[1. 0. 0. 0.]\n",
      " [2. 1. 0. 0.]\n",
      " [4. 3. 1. 0.]\n",
      " [3. 4. 1. 1.]]\n",
      "U :\n",
      " [[2. 1. 1. 0.]\n",
      " [0. 1. 1. 1.]\n",
      " [0. 0. 2. 2.]\n",
      " [0. 0. 0. 2.]]\n"
     ]
    }
   ],
   "source": [
    "L, U = Factorizacion_LU(A, pivoteo=None)\n",
    "print(\"L :\\n\", L)\n",
    "print(\"U :\\n\", U)"
   ]
  },
  {
   "cell_type": "code",
   "execution_count": 51,
   "id": "28317b4a-aff8-4494-b666-71b8a54eadb3",
   "metadata": {},
   "outputs": [
    {
     "name": "stdout",
     "output_type": "stream",
     "text": [
      "L :\n",
      " [[ 1.          0.          0.          0.        ]\n",
      " [ 0.75        1.          0.          0.        ]\n",
      " [ 0.5        -0.28571429  1.          0.        ]\n",
      " [ 0.25       -0.42857143  0.33333333  1.        ]]\n",
      "U :\n",
      " [[ 8.          7.          9.          5.        ]\n",
      " [ 0.          1.75        2.25        4.25      ]\n",
      " [ 0.          0.         -0.85714286 -0.28571429]\n",
      " [ 0.          0.          0.          0.66666667]]\n"
     ]
    }
   ],
   "source": [
    "L, U, p = Factorizacion_LU(A, pivoteo='parcial')\n",
    "print(\"L :\\n\", L)\n",
    "print(\"U :\\n\", U)"
   ]
  },
  {
   "cell_type": "code",
   "execution_count": 52,
   "id": "cf65a23a-4ed4-4bc5-9a80-1993958dce99",
   "metadata": {},
   "outputs": [
    {
     "name": "stdout",
     "output_type": "stream",
     "text": [
      "L :\n",
      " [[ 1.          0.          0.          0.        ]\n",
      " [ 1.          1.          0.          0.        ]\n",
      " [ 0.33333333 -0.22222222  1.          0.        ]\n",
      " [ 0.11111111 -0.18518519  0.83333333  1.        ]]\n",
      "U :\n",
      " [[ 9.          5.          8.          7.        ]\n",
      " [ 0.          3.         -2.          0.        ]\n",
      " [ 0.          0.          0.88888889  0.66666667]\n",
      " [ 0.          0.          0.         -0.33333333]]\n"
     ]
    }
   ],
   "source": [
    "L, U,p,q = Factorizacion_LU(A, pivoteo='completo')\n",
    "print(\"L :\\n\", L)\n",
    "print(\"U :\\n\", U)"
   ]
  },
  {
   "cell_type": "markdown",
   "id": "1b9ad3b8-dd55-4cc8-8f01-7a954d154505",
   "metadata": {},
   "source": [
    "## Ejemplo: eliminacion Gaussiana\n",
    "\n",
    "Considere el sistema lineal\n",
    "\\begin{equation}\n",
    "Ax = b,\\qquad \n",
    "A = \\begin{bmatrix}\n",
    "1 & 3 & 4 & 1\\\\\n",
    "2 & 1 & 5 & 1 \\\\\n",
    "3 & 1 & 6 & 1 \\\\\n",
    "6 & 2 & 3 & 2\n",
    "\\end{bmatrix},\\quad\n",
    "b = \\begin{bmatrix}\n",
    "-2 \\\\ -2\\\\ -2 \\\\ 5\n",
    "\\end{bmatrix}\n",
    "\\end{equation}\n",
    "\n",
    "Resuelva usando Eliminacion Gaussiana, \n",
    "- sin pivoteo\n",
    "- con pivoteo parcial\n",
    "- con pivoteo completo."
   ]
  },
  {
   "cell_type": "code",
   "execution_count": 53,
   "id": "f554c1da-1f5b-4981-9696-1eda86b28ed1",
   "metadata": {},
   "outputs": [],
   "source": [
    "A = np.array([[1,3,4,1],[2,1,5,1],[3,1,6,1],[6,2,3,2]],dtype=np.float64)\n",
    "x = np.array([1, 0, -1,1])\n",
    "b = np.array([-2,-2,-2,5],dtype=np.float64)"
   ]
  },
  {
   "cell_type": "code",
   "execution_count": 54,
   "id": "39a3df32-c94e-4082-95dd-bbf1ec28b169",
   "metadata": {},
   "outputs": [
    {
     "name": "stdout",
     "output_type": "stream",
     "text": [
      "[[ 1.  3.  4.  1. -2.]\n",
      " [ 2.  1.  5.  1. -2.]\n",
      " [ 3.  1.  6.  1. -2.]\n",
      " [ 6.  2.  3.  2.  5.]]\n",
      "x_GE    :  [ 1.00000000e+00  2.66453526e-16 -1.00000000e+00  1.00000000e+00]\n",
      "x_GEPP  :  [ 1.  0. -1.  1.]\n",
      "x_GEPP2 :  None\n",
      "x_GECP  :  [ 1.00000000e+00  3.74700271e-16 -1.00000000e+00  1.00000000e+00]\n",
      "x       :  [ 1.  0. -1.  1.]\n"
     ]
    }
   ],
   "source": [
    "x_GE   = Eliminacion_Gaussiana(A,b)\n",
    "x_GEPP = Eliminacion_Gaussiana(A,b, pivoteo='parcial')\n",
    "x_GEPPshort = Eliminacion_Gaussiana_con_pivoteo_directa(A,b)\n",
    "x_GECP = Eliminacion_Gaussiana(A,b, pivoteo='completo')\n",
    "print(\"x_GE    : \", x_GE)\n",
    "print(\"x_GEPP  : \", x_GEPP)\n",
    "print(\"x_GEPP2 : \", x_GEPPshort)\n",
    "print(\"x_GECP  : \", x_GECP)\n",
    "print(\"x       : \", np.linalg.solve(A,b))\n"
   ]
  },
  {
   "cell_type": "markdown",
   "id": "46da7fa1-bbaf-45f6-82d0-bf33eac17bbc",
   "metadata": {},
   "source": [
    "## Ejemplo: Factorizacion LU\n",
    "\n",
    "Encuentre la factorizacion LU de la siguiente matriz usando los algoritmos de Eliminacion Gaussiana, i) sin pivoteo, ii) con pivoteo parcial, iii) con pivoteo completo. Compare las matrices:\n",
    "\\begin{equation}\n",
    "LU = A,\\qquad \n",
    "A = \\begin{bmatrix}\n",
    "1 & 3 & 4 & 1\\\\\n",
    "2 & 1 & 5 & 1 \\\\\n",
    "3 & 1 & 6 & 1 \\\\\n",
    "6 & 2 & 3 & 2\n",
    "\\end{bmatrix},\n",
    "\\end{equation}"
   ]
  },
  {
   "cell_type": "code",
   "execution_count": 8,
   "id": "7ba6ac0d-e428-4928-b219-cb8650c45dd7",
   "metadata": {},
   "outputs": [],
   "source": [
    "A = np.array([[1,3,4,1],[2,1,5,1],[3,1,6,1],[6,2,3,2]],dtype=np.float64)"
   ]
  },
  {
   "cell_type": "code",
   "execution_count": 9,
   "id": "d98303b7-3c88-49b4-905d-9e671fbe49f8",
   "metadata": {},
   "outputs": [
    {
     "name": "stdout",
     "output_type": "stream",
     "text": [
      "L :\n",
      " [[1.  0.  0.  0. ]\n",
      " [2.  1.  0.  0. ]\n",
      " [3.  1.6 1.  0. ]\n",
      " [6.  3.2 9.5 1. ]]\n",
      "U :\n",
      " [[ 1.   3.   4.   1. ]\n",
      " [ 0.  -5.  -3.  -1. ]\n",
      " [ 0.   0.  -1.2 -0.4]\n",
      " [ 0.   0.   0.   3. ]]\n"
     ]
    }
   ],
   "source": [
    "L, U = Factorizacion_LU(A, pivoteo=None)\n",
    "print(\"L :\\n\", L)\n",
    "print(\"U :\\n\", U)"
   ]
  },
  {
   "cell_type": "code",
   "execution_count": 10,
   "id": "d00ed0ab-ce17-4ac8-912b-fbe9b157a2e7",
   "metadata": {},
   "outputs": [
    {
     "name": "stdout",
     "output_type": "stream",
     "text": [
      "L :\n",
      " [[1.         0.         0.         0.        ]\n",
      " [0.16666667 1.         0.         0.        ]\n",
      " [0.5        0.         1.         0.        ]\n",
      " [0.33333333 0.125      0.79166667 1.        ]]\n",
      "U :\n",
      " [[6.         2.         3.         2.        ]\n",
      " [0.         2.66666667 3.5        0.66666667]\n",
      " [0.         0.         4.5        0.        ]\n",
      " [0.         0.         0.         0.25      ]]\n"
     ]
    }
   ],
   "source": [
    "L, U, p = Factorizacion_LU(A, pivoteo='parcial')\n",
    "print(\"L :\\n\", L)\n",
    "print(\"U :\\n\", U)"
   ]
  },
  {
   "cell_type": "code",
   "execution_count": 11,
   "id": "c3d1275f-868a-4f27-a906-97eac564398a",
   "metadata": {},
   "outputs": [
    {
     "name": "stdout",
     "output_type": "stream",
     "text": [
      "L :\n",
      " [[ 1.          0.          0.          0.        ]\n",
      " [ 0.5         1.          0.          0.        ]\n",
      " [ 0.66666667 -0.22222222  1.          0.        ]\n",
      " [ 0.83333333 -0.11111111  0.125       1.        ]]\n",
      "U :\n",
      " [[6.         3.         1.         1.        ]\n",
      " [0.         4.5        1.5        1.5       ]\n",
      " [0.         0.         2.66666667 0.66666667]\n",
      " [0.         0.         0.         0.25      ]]\n"
     ]
    }
   ],
   "source": [
    "L, U,p,q = Factorizacion_LU(A, pivoteo='completo')\n",
    "print(\"L :\\n\", L)\n",
    "print(\"U :\\n\", U)"
   ]
  },
  {
   "cell_type": "markdown",
   "id": "8107a7e0-6ecf-444e-93b5-06756c2fdd27",
   "metadata": {},
   "source": [
    "## Ejemplo: inestabilidad sin pivoteo\n",
    "\\begin{equation}\n",
    "A = \\begin{bmatrix}\n",
    "0 & 1 \\\\\n",
    "1 & 1\n",
    "\\end{bmatrix}, \\quad \\text{Eliminacion Gaussiana falla en el primer paso con } \\kappa(A) = (3+\\sqrt{5})/2\n",
    "\\end{equation}\n",
    "\n",
    "\\begin{equation}\n",
    "\\tilde{A} = \\begin{bmatrix}\n",
    "10^{-20} & 1 \\\\\n",
    "1 & 1\n",
    "\\end{bmatrix}\n",
    "=\n",
    "\\begin{bmatrix}\n",
    "1 & 0 \\\\\n",
    "10^{20} & 1\n",
    "\\end{bmatrix}\n",
    "\\begin{bmatrix}\n",
    "10^{-20} & 1 \\\\\n",
    "0 & 1-10^{20}\n",
    "\\end{bmatrix}, \\quad \\text{Eliminacion Gaussiana ahora no falla}\n",
    "\\end{equation}"
   ]
  },
  {
   "cell_type": "code",
   "execution_count": 13,
   "id": "77bd429e-bd6e-45b4-8d37-37c8fdd74eec",
   "metadata": {},
   "outputs": [],
   "source": [
    "Afalla = np.array([[0,1],[1,1]], dtype=np.float64)\n",
    "Atilde = np.array([[10**(-20), 1],[1,1]], dtype=np.float64)"
   ]
  },
  {
   "cell_type": "code",
   "execution_count": 14,
   "id": "ed83a785-1fd8-41e8-bf3f-0bcd15027ccd",
   "metadata": {},
   "outputs": [
    {
     "ename": "ValueError",
     "evalue": "coeficient is zero.",
     "output_type": "error",
     "traceback": [
      "\u001b[1;31m---------------------------------------------------------------------------\u001b[0m",
      "\u001b[1;31mValueError\u001b[0m                                Traceback (most recent call last)",
      "Cell \u001b[1;32mIn[14], line 1\u001b[0m\n\u001b[1;32m----> 1\u001b[0m L,U \u001b[38;5;241m=\u001b[39m \u001b[43mFactorizacion_LU\u001b[49m\u001b[43m(\u001b[49m\u001b[43mAfalla\u001b[49m\u001b[43m)\u001b[49m\n",
      "Cell \u001b[1;32mIn[4], line 12\u001b[0m, in \u001b[0;36mFactorizacion_LU\u001b[1;34m(A, pivoteo)\u001b[0m\n\u001b[0;32m     10\u001b[0m \u001b[38;5;28;01mdef\u001b[39;00m \u001b[38;5;21mFactorizacion_LU\u001b[39m(A, pivoteo\u001b[38;5;241m=\u001b[39m\u001b[38;5;28;01mNone\u001b[39;00m):\n\u001b[0;32m     11\u001b[0m     \u001b[38;5;28;01mif\u001b[39;00m pivoteo \u001b[38;5;129;01mis\u001b[39;00m \u001b[38;5;28;01mNone\u001b[39;00m:\n\u001b[1;32m---> 12\u001b[0m         L,U \u001b[38;5;241m=\u001b[39m \u001b[43mLU\u001b[49m\u001b[43m(\u001b[49m\u001b[43mA\u001b[49m\u001b[43m)\u001b[49m\n\u001b[0;32m     13\u001b[0m         \u001b[38;5;28;01mreturn\u001b[39;00m L,U\n\u001b[0;32m     14\u001b[0m     \u001b[38;5;28;01melif\u001b[39;00m pivoteo \u001b[38;5;241m==\u001b[39m \u001b[38;5;124m'\u001b[39m\u001b[38;5;124mparcial\u001b[39m\u001b[38;5;124m'\u001b[39m:\n",
      "Cell \u001b[1;32mIn[3], line 28\u001b[0m, in \u001b[0;36mLU\u001b[1;34m(Ainput)\u001b[0m\n\u001b[0;32m     26\u001b[0m \u001b[38;5;28;01mfor\u001b[39;00m i \u001b[38;5;129;01min\u001b[39;00m \u001b[38;5;28mrange\u001b[39m(n\u001b[38;5;241m-\u001b[39m\u001b[38;5;241m1\u001b[39m):\n\u001b[0;32m     27\u001b[0m     \u001b[38;5;28;01mif\u001b[39;00m A[i, i] \u001b[38;5;241m==\u001b[39m \u001b[38;5;241m0\u001b[39m:\n\u001b[1;32m---> 28\u001b[0m         \u001b[38;5;28;01mraise\u001b[39;00m \u001b[38;5;167;01mValueError\u001b[39;00m(\u001b[38;5;124m\"\u001b[39m\u001b[38;5;124mcoeficient is zero.\u001b[39m\u001b[38;5;124m\"\u001b[39m)\n\u001b[0;32m     29\u001b[0m     A[(i\u001b[38;5;241m+\u001b[39m\u001b[38;5;241m1\u001b[39m):n,i] \u001b[38;5;241m=\u001b[39m (A[(i\u001b[38;5;241m+\u001b[39m\u001b[38;5;241m1\u001b[39m):n,i]\u001b[38;5;241m/\u001b[39mA[i,i])\n\u001b[0;32m     30\u001b[0m     A[(i\u001b[38;5;241m+\u001b[39m\u001b[38;5;241m1\u001b[39m):n, (i\u001b[38;5;241m+\u001b[39m\u001b[38;5;241m1\u001b[39m):n][:] \u001b[38;5;241m=\u001b[39m A[(i\u001b[38;5;241m+\u001b[39m\u001b[38;5;241m1\u001b[39m):n, (i\u001b[38;5;241m+\u001b[39m\u001b[38;5;241m1\u001b[39m):n]\u001b[38;5;241m-\u001b[39mnp\u001b[38;5;241m.\u001b[39mouter(A[(i\u001b[38;5;241m+\u001b[39m\u001b[38;5;241m1\u001b[39m):n,i],A[i, (i\u001b[38;5;241m+\u001b[39m\u001b[38;5;241m1\u001b[39m):n])\n",
      "\u001b[1;31mValueError\u001b[0m: coeficient is zero."
     ]
    }
   ],
   "source": [
    "L,U = Factorizacion_LU(Afalla)\n"
   ]
  },
  {
   "cell_type": "code",
   "execution_count": 15,
   "id": "fc6f2968-dc30-46d2-8dca-a4d91a4893e5",
   "metadata": {},
   "outputs": [
    {
     "name": "stdout",
     "output_type": "stream",
     "text": [
      "[[1.e+00 0.e+00]\n",
      " [1.e+20 1.e+00]]\n",
      "[[ 1.e-20  1.e+00]\n",
      " [ 0.e+00 -1.e+20]]\n",
      "[[ 0.  0.]\n",
      " [ 0. -1.]]\n"
     ]
    }
   ],
   "source": [
    "L,U = Factorizacion_LU(Atilde)\n",
    "print(L)\n",
    "print(U)\n",
    "print(L@U- Atilde)"
   ]
  },
  {
   "cell_type": "code",
   "execution_count": 16,
   "id": "7fbe3aa9-b252-4ae5-b6ac-7b2dcd601ea5",
   "metadata": {},
   "outputs": [
    {
     "name": "stdout",
     "output_type": "stream",
     "text": [
      "solucion calculada: [0. 1.]\n",
      "la solucion exacta es x = [-1,1]!\n"
     ]
    }
   ],
   "source": [
    "b = np.array([1,0])\n",
    "xtilde = Eliminacion_Gaussiana(Atilde,b)\n",
    "print(\"solucion calculada:\", xtilde)\n",
    "print(\"la solucion exacta es x = [-1,1]!\")"
   ]
  },
  {
   "cell_type": "markdown",
   "id": "865612d1-8f48-4683-af1c-3ea5105777d3",
   "metadata": {},
   "source": [
    "**Nota** La factorizacion LU es estable, no backward stable. Pero al usar eliminacion Gaussiana sin pivoteo para resolver $Ax=b$ no lo hace estable.\n",
    "\n",
    "En general, si un paso del algoritmo es estable pero backward stable para resolver un subproblema, entonces la estabilidad del algortimo puede estar en peligro.\n",
    "\n",
    "**Nota** Complejidad:  eliminacion Gaussiana sin pivoteo es de $\\approx \\frac{2}{3} m^{3}$ flops."
   ]
  },
  {
   "cell_type": "markdown",
   "id": "c8b7e18e-d07f-47b4-a823-c593c553aa22",
   "metadata": {},
   "source": [
    "## Ejemplo: worst case instability\n",
    "\n",
    "### Inestabilidad\n",
    "\n",
    "Para ciertas matrices $A$ a pesar de os efectos beneficiosos de pivotear, el factor de crecimiento $\\rho$ se vuelve gigante. Por ejemplo, suponga que la matriz $A$ tiene la siguiente forma:\n",
    "\n",
    "$$\n",
    "A = \\begin{bmatrix}\n",
    "1 & 0 & 0 & 0 & 1 \\\\\n",
    "-1 &1 &0 & 0& 1 \\\\\n",
    "-1& -1 &1 & 0 &1\\\\\n",
    "-1&-1 &-1 & 1 & 1 \\\\\n",
    "-1& -1 &-1 &-1 &1\n",
    "\\end{bmatrix}\n",
    "$$\n",
    "\n",
    "En este caso, la factorization da \n",
    "\n",
    "$$\n",
    "U = \\begin{bmatrix}\n",
    " 1. & 0. & 0. & 0.&  1.\\\\\n",
    " 0. & 1. & 0. & 0.&  2.\\\\\n",
    " 0. & 0. & 1. & 0.&  4.\\\\\n",
    " 0. & 0. & 0. & 1.&  8.\\\\\n",
    " 0. & 0. & 0. & 0.& 16.\n",
    " \\end{bmatrix}\n",
    "$$\n",
    "\n",
    "para esta matriz de $n\\times n$, con $n=5$, el factor de crecimiento es $\\rho = 2^{n-1} = 16$.\n",
    "\n",
    "Un factor de crecimiento de orden $2^{n}$ corresponde a una perdida del orden de $n$ bits de precision, lo cual es catastrofico para computaciones practicas. Como un computador standard representa numeros de punto flotante con solo 64 bits, con matries de dimensiones en cientos y miles en dimension perder m bits de precision es intolerable."
   ]
  },
  {
   "cell_type": "code",
   "execution_count": 17,
   "id": "5879f1a2-fbdc-40a4-adfa-60576e07a4fc",
   "metadata": {},
   "outputs": [
    {
     "data": {
      "text/plain": [
       "array([[ 1.,  0.,  0.,  1.],\n",
       "       [-1.,  1.,  0.,  1.],\n",
       "       [-1., -1.,  1.,  1.],\n",
       "       [-1., -1., -1.,  1.]])"
      ]
     },
     "execution_count": 17,
     "metadata": {},
     "output_type": "execute_result"
    }
   ],
   "source": [
    "n = 4\n",
    "A_wc = -np.tril(np.ones((n,n)),-1)+np.eye(n)\n",
    "A_wc[:,-1] = np.ones(n)\n",
    "A_wc"
   ]
  },
  {
   "cell_type": "code",
   "execution_count": 18,
   "id": "49c89cdd-fb2c-4e9d-a4a7-9982961aed2a",
   "metadata": {},
   "outputs": [
    {
     "data": {
      "text/plain": [
       "array([[1., 0., 0., 1.],\n",
       "       [0., 1., 0., 2.],\n",
       "       [0., 0., 1., 4.],\n",
       "       [0., 0., 0., 8.]])"
      ]
     },
     "execution_count": 18,
     "metadata": {},
     "output_type": "execute_result"
    }
   ],
   "source": [
    "L, U, pT = Factorizacion_LU(A_wc, pivoteo='parcial')\n",
    "U"
   ]
  },
  {
   "cell_type": "code",
   "execution_count": 19,
   "id": "fcebb8db-8fb0-4569-bf2d-66aec67749ae",
   "metadata": {},
   "outputs": [
    {
     "data": {
      "text/plain": [
       "array([[ 1.,  1.,  0.,  0.],\n",
       "       [ 0.,  2.,  1.,  0.],\n",
       "       [ 0.,  0., -2.,  1.],\n",
       "       [ 0.,  0.,  0., -2.]])"
      ]
     },
     "execution_count": 19,
     "metadata": {},
     "output_type": "execute_result"
    }
   ],
   "source": [
    "L, U, pT, q = Factorizacion_LU(A_wc, pivoteo='completo')\n",
    "U"
   ]
  },
  {
   "cell_type": "code",
   "execution_count": 20,
   "id": "726fe8d8-2acc-4aac-9777-3569c40be7f5",
   "metadata": {},
   "outputs": [
    {
     "data": {
      "text/html": [
       "<div>\n",
       "<style scoped>\n",
       "    .dataframe tbody tr th:only-of-type {\n",
       "        vertical-align: middle;\n",
       "    }\n",
       "\n",
       "    .dataframe tbody tr th {\n",
       "        vertical-align: top;\n",
       "    }\n",
       "\n",
       "    .dataframe thead th {\n",
       "        text-align: right;\n",
       "    }\n",
       "</style>\n",
       "<table border=\"1\" class=\"dataframe\">\n",
       "  <thead>\n",
       "    <tr style=\"text-align: right;\">\n",
       "      <th></th>\n",
       "      <th>n</th>\n",
       "      <th>||x-x_gepp||</th>\n",
       "      <th>||x-x_gecp||</th>\n",
       "      <th>||b-A x_gepp||</th>\n",
       "      <th>||b - A x_gecp||</th>\n",
       "    </tr>\n",
       "  </thead>\n",
       "  <tbody>\n",
       "    <tr>\n",
       "      <th>0</th>\n",
       "      <td>5</td>\n",
       "      <td>3.140185e-16</td>\n",
       "      <td>1.922963e-16</td>\n",
       "      <td>7.771561e-16</td>\n",
       "      <td>2.220446e-16</td>\n",
       "    </tr>\n",
       "    <tr>\n",
       "      <th>1</th>\n",
       "      <td>10</td>\n",
       "      <td>3.728763e-15</td>\n",
       "      <td>1.241267e-16</td>\n",
       "      <td>8.828891e-15</td>\n",
       "      <td>2.220446e-16</td>\n",
       "    </tr>\n",
       "    <tr>\n",
       "      <th>2</th>\n",
       "      <td>15</td>\n",
       "      <td>6.673854e-13</td>\n",
       "      <td>6.707438e-16</td>\n",
       "      <td>1.324150e-12</td>\n",
       "      <td>1.020560e-15</td>\n",
       "    </tr>\n",
       "    <tr>\n",
       "      <th>3</th>\n",
       "      <td>20</td>\n",
       "      <td>1.008909e-11</td>\n",
       "      <td>1.305398e-15</td>\n",
       "      <td>2.465489e-11</td>\n",
       "      <td>1.313634e-15</td>\n",
       "    </tr>\n",
       "    <tr>\n",
       "      <th>4</th>\n",
       "      <td>25</td>\n",
       "      <td>2.507192e-11</td>\n",
       "      <td>1.454191e-15</td>\n",
       "      <td>5.913443e-11</td>\n",
       "      <td>8.950904e-16</td>\n",
       "    </tr>\n",
       "    <tr>\n",
       "      <th>5</th>\n",
       "      <td>30</td>\n",
       "      <td>1.057003e-08</td>\n",
       "      <td>1.936735e-15</td>\n",
       "      <td>2.699644e-08</td>\n",
       "      <td>5.068262e-15</td>\n",
       "    </tr>\n",
       "    <tr>\n",
       "      <th>6</th>\n",
       "      <td>35</td>\n",
       "      <td>6.487973e-07</td>\n",
       "      <td>3.562891e-15</td>\n",
       "      <td>9.374291e-07</td>\n",
       "      <td>2.886580e-15</td>\n",
       "    </tr>\n",
       "  </tbody>\n",
       "</table>\n",
       "</div>"
      ],
      "text/plain": [
       "    n  ||x-x_gepp||  ||x-x_gecp||  ||b-A x_gepp||  ||b - A x_gecp||\n",
       "0   5  3.140185e-16  1.922963e-16    7.771561e-16      2.220446e-16\n",
       "1  10  3.728763e-15  1.241267e-16    8.828891e-15      2.220446e-16\n",
       "2  15  6.673854e-13  6.707438e-16    1.324150e-12      1.020560e-15\n",
       "3  20  1.008909e-11  1.305398e-15    2.465489e-11      1.313634e-15\n",
       "4  25  2.507192e-11  1.454191e-15    5.913443e-11      8.950904e-16\n",
       "5  30  1.057003e-08  1.936735e-15    2.699644e-08      5.068262e-15\n",
       "6  35  6.487973e-07  3.562891e-15    9.374291e-07      2.886580e-15"
      ]
     },
     "execution_count": 20,
     "metadata": {},
     "output_type": "execute_result"
    }
   ],
   "source": [
    "e1 = []; e2 = []; e3 = []; e4 = []; N = [5*i for i in range(1,8)]\n",
    "for nn in N:\n",
    "    A_wc = -np.tril(np.ones((nn,nn)),-1)+np.eye(nn); A_wc[:,-1] = np.ones(nn)    \n",
    "    x = np.random.rand(nn); b = A_wc.dot(x)\n",
    "\n",
    "    x_gepp = Eliminacion_Gaussiana(A_wc, b, pivoteo='parcial')\n",
    "    x_gecp = Eliminacion_Gaussiana(A_wc, b, pivoteo='completo')\n",
    "\n",
    "    e1.append(np.linalg.norm(x-x_gepp))\n",
    "    e2.append(np.linalg.norm(x-x_gecp))\n",
    "    e3.append(np.linalg.norm(b-A_wc.dot(x_gepp)))\n",
    "    e4.append(np.linalg.norm(b-A_wc.dot(x_gecp)))\n",
    "\n",
    "dferror = {'n':N, '||x-x_gepp||':e1, '||x-x_gecp||':e2, '||b-A x_gepp||':e3, '||b - A x_gecp||':e4}\n",
    "df = pd.DataFrame(data=dferror)\n",
    "df"
   ]
  },
  {
   "cell_type": "code",
   "execution_count": null,
   "id": "6687e59c-2154-445b-8c12-3a70b175f3c9",
   "metadata": {},
   "outputs": [],
   "source": []
  }
 ],
 "metadata": {
  "kernelspec": {
   "display_name": "Python 3 (ipykernel)",
   "language": "python",
   "name": "python3"
  },
  "language_info": {
   "codemirror_mode": {
    "name": "ipython",
    "version": 3
   },
   "file_extension": ".py",
   "mimetype": "text/x-python",
   "name": "python",
   "nbconvert_exporter": "python",
   "pygments_lexer": "ipython3",
   "version": "3.10.11"
  }
 },
 "nbformat": 4,
 "nbformat_minor": 5
}

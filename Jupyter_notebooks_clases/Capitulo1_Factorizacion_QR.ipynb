{
 "cells": [
  {
   "cell_type": "markdown",
   "id": "cf2a8aea",
   "metadata": {},
   "source": [
    "<hr style=\"border:2px solid #808080\"> </hr>\n",
    "<center><h1 style=\"color:#03122E;\"> Álgebra Lineal Numérica IMT2111</h1></center>\n",
    "<center><h1 style=\"color:#173F8A;\"> Capítulo 1: Factorizacion QR</h3></center>\n",
    "<center><h1 style=\"color:#0176DE;\"> Prof. Manuel A. Sánchez</h3></center>\n",
    "<hr style=\"border:2px solid #808080\"> </hr>"
   ]
  },
  {
   "cell_type": "markdown",
   "id": "ebbb344d",
   "metadata": {},
   "source": [
    "## Tabla de contenidos\n",
    "\n",
    "1. [Algoritmo de Gram Schmidt](#Algoritmo-de-Gram-Schmidt)\n",
    "2. [Ejemplo: Factorizacion QR](#Ejemplo:-Factorizacion-QR)\n",
    "3. [Ejemplo: QR solver](#Ejemplo:-QR-solver)\n",
    "4. [Ejemplo: Gram Schmidt comparacion](#Ejemplo:-Gram-Schmidt-comparacion)\n",
    "5. [Rotaciones y Reflexiones](#Reflexiones-y-Rotaciones)\n",
    "6. [Algoritmo Householder Triangularizacion](#Algoritmo-Householder)\n",
    "7. [Ejemplo: QR con Householder](#Ejemplo:-QR-con-Householder)\n",
    "8. [Ejemplo: Householder comparacion 1](#Ejemplo:-Householder-comparacion-1)\n",
    "9. [Ejemplo: Householder comparacion 2](#Ejemplo:-Householder-comparacion-2)\n",
    "10. [Algoritmo rotaciones de Givens](#Algoritmo-rotaciones-de-Givens)\n",
    "11. [Ejemplo: Givens paso a paso](#Ejemplo:-Givens-paso-a-paso)\n",
    "12. [Ejemplo: Givens comparacion 1](#Ejemplo:-Givens-comparacion-1)\n",
    "13. [Ejemplo: Givens comparacion 2](#Ejemplo:-Givens-comparacion-2)"
   ]
  },
  {
   "cell_type": "code",
   "execution_count": 1,
   "id": "7978e904",
   "metadata": {},
   "outputs": [
    {
     "data": {
      "text/html": [
       "<style>.output {display: flex;align-items: center;text-align: center;}</style>"
      ],
      "text/plain": [
       "<IPython.core.display.HTML object>"
      ]
     },
     "metadata": {},
     "output_type": "display_data"
    }
   ],
   "source": [
    "import numpy as np\n",
    "import scipy as scp\n",
    "import matplotlib.pyplot as plt\n",
    "import pandas as pd\n",
    "from IPython.display import display, HTML\n",
    "display(HTML(\"\"\"<style>.output {display: flex;align-items: center;text-align: center;}</style>\"\"\"))"
   ]
  },
  {
   "cell_type": "markdown",
   "id": "899f16f1",
   "metadata": {},
   "source": [
    "## Algoritmos de Gram Schmidt\n",
    "\n",
    "- **Gram Schmidt clasico (inestable)**\n",
    "- **Gram Schmidt modificado**"
   ]
  },
  {
   "cell_type": "code",
   "execution_count": 2,
   "id": "4cc278d8",
   "metadata": {},
   "outputs": [],
   "source": [
    "# 1.\n",
    "def GramSchmidt_clasico(A):\n",
    "    m = A.shape[0]; n = A.shape[1];\n",
    "    R = np.zeros((n,n));\n",
    "    Q = np.zeros((m,n));\n",
    "    tol=1e-14\n",
    "    for j in range(0, n):\n",
    "        vj = A[:,j];\n",
    "        for i in range(0,j):\n",
    "            R[i,j] = np.dot(Q[:,i],A[:,j]);\n",
    "            vj = vj - R[i,j]*Q[:,i];\n",
    "        R[j,j] = np.linalg.norm(vj);\n",
    "        if R[j,j] < tol:\n",
    "            R[j,j] = 0 \n",
    "            answer = input(\"Se encontro un vector l.d. Desea continuar? Y/N\")\n",
    "            if answer==\"N\":\n",
    "                break\n",
    "        else:\n",
    "            Q[:,j] = (1.0/R[j,j])*vj\n",
    "    return Q, R\n",
    "# 2.\n",
    "def GramSchmidt_modificado(A):\n",
    "    m = A.shape[0]; n = A.shape[1];\n",
    "    R = np.zeros((n,n));\n",
    "    Q = np.zeros((m,n));\n",
    "    v = np.zeros((m,n));\n",
    "    for i in range(0, n):\n",
    "        v[:,i] = A[:,i];\n",
    "    for i in range(0, n):\n",
    "        R[i,i] = np.linalg.norm(v[:,i]);\n",
    "        Q[:,i] = (1.0/R[i,i])*v[:,i];\n",
    "        for j in range(i,n):\n",
    "            R[i,j] = np.dot(Q[:,i],v[:,j]);\n",
    "            v[:,j]= v[:,j] - R[i,j]*Q[:,i];\n",
    "    return Q, R"
   ]
  },
  {
   "cell_type": "markdown",
   "id": "f1ae577a",
   "metadata": {},
   "source": [
    "## Ejemplo: Factorizacion QR\n",
    "Sea la matriz\n",
    "\\begin{equation}\n",
    "A = \\begin{bmatrix}\n",
    "1 & 1 & 2 \\\\ 1 & 0 & -2 \\\\ -1 & 2 & 3 \\end{bmatrix}\n",
    "\\end{equation}\n",
    "Encuentre la factorizacion $A=QR$"
   ]
  },
  {
   "cell_type": "code",
   "execution_count": 3,
   "id": "496ddf69",
   "metadata": {},
   "outputs": [
    {
     "name": "stdout",
     "output_type": "stream",
     "text": [
      "*** Factorizacion A = QR: *** \n",
      "\n",
      "    Q = \n",
      " [[ 0.57735027  0.6172134   0.53452248]\n",
      " [ 0.57735027  0.15430335 -0.80178373]\n",
      " [-0.57735027  0.77151675 -0.26726124]] \n",
      "\n",
      "    R = \n",
      " [[ 1.73205081 -0.57735027 -1.73205081]\n",
      " [ 0.          2.1602469   3.24037035]\n",
      " [ 0.          0.          1.87082869]]\n",
      "\n",
      "  * Calculamos A - QR = \n",
      " [[ 0.00000000e+00  0.00000000e+00  2.22044605e-16]\n",
      " [ 0.00000000e+00  5.96863333e-18 -2.22044605e-16]\n",
      " [ 0.00000000e+00  0.00000000e+00 -4.44089210e-16]]\n",
      "\n",
      "  * Chequeamos si Q es ortogonal: ||Q^T Q - I|| =  4.563891378090311e-16 \n",
      "\n"
     ]
    }
   ],
   "source": [
    "A = np.array([[1 ,1, 2],[1, 0, -2],[-1,2,3]],dtype=np.float64)\n",
    "Q, R = GramSchmidt_clasico(A)\n",
    "\n",
    "print(\"*** Factorizacion A = QR: *** \\n\\n    Q = \\n\", Q, \"\\n\\n    R = \\n\", R)\n",
    "print(\"\\n  * Calculamos A - QR = \\n\", A - Q@R)\n",
    "print(\"\\n  * Chequeamos si Q es ortogonal: ||Q^T Q - I|| = \", np.linalg.norm(Q.T@Q - np.eye(3)), \"\\n\")"
   ]
  },
  {
   "cell_type": "markdown",
   "id": "97b326f0",
   "metadata": {},
   "source": [
    "## Ejemplo: QR solver\n",
    "\n",
    "Resolver el sistema lineal $Ax= b$ usando la factorizacion $A=QR$.\n",
    "\n",
    "\\begin{equation}\n",
    "A = \\begin{bmatrix}\n",
    "1&3&4&1 \\\\\n",
    "2&1&5&1 \\\\\n",
    "3&1&6&1 \\\\\n",
    "6&2&3&2\n",
    "\\end{bmatrix},\\quad\n",
    "b = \\begin{bmatrix}\n",
    "3 \\\\ 2 \\\\ 1\\\\ 3\n",
    "\\end{bmatrix}\n",
    "\\end{equation}\n"
   ]
  },
  {
   "cell_type": "code",
   "execution_count": 4,
   "id": "4f120d3a",
   "metadata": {},
   "outputs": [],
   "source": [
    "def backward_substitution(U,b):\n",
    "    '''\n",
    "    Backward substitution algorithm for system U x = b\n",
    "    input : U upper tringular matrix n x n\n",
    "            b vector n x 1\n",
    "    output : x solution of U x = b\n",
    "    '''\n",
    "    n = U.shape[0]; x = np.zeros(n)\n",
    "    x[n-1] = b[n-1]/U[n-1,n-1]\n",
    "    for i in range(n-2,-1,-1):\n",
    "        x[i] = (b[i] - U[i,(i+1):n]@(x[(i+1):n]))/U[i,i]\n",
    "    return x\n",
    "    \n",
    "def QRsolver(A,b):\n",
    "    Q,R = GramSchmidt_clasico(A)\n",
    "    x = backward_substitution(R, (Q.T).dot(b) )\n",
    "    return x"
   ]
  },
  {
   "cell_type": "code",
   "execution_count": 5,
   "id": "f37ab907",
   "metadata": {},
   "outputs": [
    {
     "name": "stdout",
     "output_type": "stream",
     "text": [
      "sol exacta:  [-0.88888889  0.         -0.11111111  4.33333333]\n",
      "sol QR    :  [-8.88888889e-01 -1.34279955e-15 -1.11111111e-01  4.33333333e+00]\n"
     ]
    }
   ],
   "source": [
    "A = np.array([[1,3,4,1],[2,1,5,1],[3,1,6,1],[6,2,3,2]],dtype=np.float64)\n",
    "b = np.array([3,2,1,3], dtype=np.float64)\n",
    "\n",
    "# Resolver el sistema de ecuaciones lineales para encontrar el flujo\n",
    "sol = np.linalg.solve(A, b)\n",
    "x = QRsolver(A,b)\n",
    "print(\"sol exacta: \",sol)\n",
    "print(\"sol QR    : \",x)"
   ]
  },
  {
   "cell_type": "markdown",
   "id": "e86d2b23",
   "metadata": {},
   "source": [
    "## Ejemplo: Gram Schmidt comparacion\n",
    "\n",
    "Comparacion de algoritmos de Gram-Schmidt clasico vs. Gram Schmidt modificado\n",
    "\n",
    "Resolvemos la factorizacion QR de la siguiente matriz\n",
    "\\begin{equation*}\n",
    "A = \n",
    "\\begin{bmatrix}\n",
    "1 & 1 & \\ldots &1 \\\\\n",
    "\\vdots &\\vdots & \\ddots &\\vdots \\\\\n",
    "1 & 1 & \\ldots &1\n",
    "\\end{bmatrix}\n",
    "+\\epsilon\n",
    "I, \\quad A\\in \\mathbb R^{10\\times 10}\n",
    "\\end{equation*}"
   ]
  },
  {
   "cell_type": "code",
   "execution_count": 6,
   "id": "5bac3b22",
   "metadata": {},
   "outputs": [
    {
     "name": "stdout",
     "output_type": "stream",
     "text": [
      "***  QR numpy.linalg \n",
      "\n",
      "    || A - QR ||2    : 1.85775845048325e-15\n",
      "    || Q.T@Q - I ||2 : 1.3847704561580154e-15\n",
      "    || q1*q2 ||2     : -2.7755575615628914e-16\n",
      "\n",
      " \n",
      "***  Gram-Schmidt clasico \n",
      "\n",
      "    || A - QR ||2    : 9.019494489765868e-16\n",
      "    || Q.T@Q - I ||2 : 0.3674695563835977\n",
      "    || q1*q2 ||2     : 2.3038121410579038e-10\n",
      "\n",
      " \n",
      "***  Gram-Schmidt modificado \n",
      "\n",
      "    || A - QR ||2    : 1.0295784775289034e-15\n",
      "    || Q.T@Q - I ||2 : 7.830815093173928e-09\n",
      "    || q1*q2 ||2     : 2.3038121410579038e-10\n",
      "\n",
      " \n"
     ]
    }
   ],
   "source": [
    "ep = 10**(-7); n = 10\n",
    "A = np.ones((n,n)) + ep*np.eye((n))\n",
    "\n",
    "def printQRinfo(A, QRfun, algo='QR numpy'):\n",
    "    n = A.shape[0]\n",
    "    Q, R = QRfun(A)\n",
    "    print(\"*** \",algo,\"\\n\")\n",
    "    print(\"    || A - QR ||2    :\", np.linalg.norm(A -np.dot(Q,R)))\n",
    "    print(\"    || Q.T@Q - I ||2 :\", np.linalg.norm(Q.T@ Q-np.eye(n)))\n",
    "    print(\"    || q1*q2 ||2     :\", np.dot(Q[:,0], Q[:,1]))\n",
    "    print(\"\\n \")\n",
    "    pass\n",
    "\n",
    "printQRinfo(A, np.linalg.qr, algo=\"QR numpy.linalg\")\n",
    "printQRinfo(A, GramSchmidt_clasico, algo=\"Gram-Schmidt clasico\")\n",
    "printQRinfo(A, GramSchmidt_modificado, algo=\"Gram-Schmidt modificado\")"
   ]
  },
  {
   "cell_type": "markdown",
   "id": "54b68dbd-5400-412f-87ad-bbaa2905d4e1",
   "metadata": {},
   "source": [
    "## Reflexiones y Rotaciones"
   ]
  },
  {
   "cell_type": "code",
   "execution_count": 7,
   "id": "272f71e8-b8af-448f-a5c2-ea4d24791110",
   "metadata": {},
   "outputs": [],
   "source": [
    "def Rotate(x,theta):\n",
    "    Qrot = np.array([[np.cos(theta), np.sin(theta)],[-np.sin(theta), np.cos(theta)]], dtype=np.float64)\n",
    "    return Qrot.T.dot(x)\n",
    "def Reflect(x,theta):\n",
    "    Qref = np.array([[np.cos(theta), np.sin(theta)],[np.sin(theta), -np.cos(theta)]], dtype=np.float64)\n",
    "    return Qref.T.dot(x)"
   ]
  },
  {
   "cell_type": "code",
   "execution_count": 8,
   "id": "e857f239-cc74-4da5-b829-034ac60f7080",
   "metadata": {},
   "outputs": [
    {
     "data": {
      "image/png": "[encoded data removed]",
      "text/plain": [
       "<Figure size 1400x600 with 2 Axes>"
      ]
     },
     "metadata": {},
     "output_type": "display_data"
    }
   ],
   "source": [
    "theta = np.pi/2.0\n",
    "x = np.array([2,1], dtype=np.float64)\n",
    "yrot = Rotate(x,theta)\n",
    "yref = Reflect(x,theta) \n",
    "\n",
    "fig,ax = plt.subplots(1,2,figsize=(14,6))\n",
    "ax[0].arrow(0, 0, x[0], x[1], head_width = 0.05, ec='C00', fc='C00' , label='inicial')\n",
    "ax[0].arrow(0, 0, yrot[0], yrot[1], head_width = 0.05, ec='C01', fc='C01', label='rotacion')\n",
    "\n",
    "ax[1].arrow(0, 0, x[0], x[1], head_width = 0.05, ec='C00', fc='C00' , label='inicial')\n",
    "ax[1].arrow(0, 0, 3*np.cos(theta/2), 3*np.sin(theta/2), head_width = 0.05, ec='C07', fc='C07', label='S')\n",
    "ax[1].arrow(0, 0, yref[0], yref[1], head_width = 0.05, ec='C02', fc='C02', label='reflexion')\n",
    "ax[0].legend()\n",
    "ax[1].legend()\n",
    "plt.show()"
   ]
  },
  {
   "cell_type": "markdown",
   "id": "0129b3d2",
   "metadata": {},
   "source": [
    "## Algoritmo Householder"
   ]
  },
  {
   "cell_type": "code",
   "execution_count": 9,
   "id": "dc1e5018",
   "metadata": {},
   "outputs": [],
   "source": [
    "def house(x):\n",
    "    '''\n",
    "    Compute Householder vector\n",
    "    Input: x \\in \\mathbb R^{m}\n",
    "    Output: Householder vector v, with v[0]=1, and beta such that\n",
    "            P = I-beta * v * v.T es orthogonal and Px = \\|x\\|*e_1\n",
    "    '''\n",
    "    m = x.size\n",
    "    if m > 1:\n",
    "        sigma = x[1:].dot(x[1:])\n",
    "        v  = x.copy(); v[0] = 1.0\n",
    "        if sigma == 0:\n",
    "            beta = 0\n",
    "        else:\n",
    "            mu = np.sqrt(x[0]*x[0]+sigma)\n",
    "            if x[0]<0:\n",
    "                v[0] = x[0] - mu\n",
    "            else:\n",
    "                v[0] = -sigma/(x[0]+mu)\n",
    "            beta = 2.0 * v[0]*v[0]/(sigma+v[0]**2)\n",
    "            v = v / v[0]\n",
    "        return v, beta\n",
    "    else:\n",
    "        return np.array([0.0]),0.0\n",
    "\n",
    "def applyP(v, beta, x):\n",
    "    # compute Px = (I - beta v v^T )x\n",
    "    return x - beta * v.dot(x) * v\n",
    "\n",
    "def Householder_qr(Ain):\n",
    "    ''' \n",
    "    Compute QR decomposition using Householder\n",
    "    update A in place with QR ... R is upper triangular (at and above diagonal)\n",
    "    below the diagonal, A holds the \"essential\" parts of the Householder vectors.\n",
    "    the essential part gets shorter because they are only applied to the remaining\n",
    "    bottom right square of A\n",
    "    Input : A, m\\times n matrix\n",
    "    Output: overwrite A\n",
    "    '''\n",
    "    A = Ain.copy()\n",
    "    m,n = A.shape\n",
    "    betas = np.empty(n)\n",
    "    for j in range(n):\n",
    "        # usando funcion house\n",
    "        v, betas[j] = house(A[j:, j])\n",
    "        A[j:,j:] -= betas[j] * np.outer(v, v.dot(A[j:,j:]))\n",
    "        if j < m:\n",
    "            A[j+1:,j] = v[1:m-j+1]\n",
    "    \n",
    "    R = np.triu(A)\n",
    "    Q = fullQ_house(A, betas)\n",
    "    return Q, R\n",
    "\n",
    "def fullQ_house(A, betas):\n",
    "    '''\n",
    "    Take the \"packed\" Householder vectors stored in A's lower triangle,\n",
    "    along with the respective \\beta s and expand to a full Q matrix \n",
    "        (note, R still lives in A's upper triangle)\n",
    "    '''\n",
    "    m,n = A.shape\n",
    "    Q = np.eye(n)\n",
    "    for j in reversed(range(n)):\n",
    "        v = A[j:,j].copy()\n",
    "        v[0] = 1.0\n",
    "        Q[j:,j:] = (np.eye(n-j) - betas[j] * np.outer(v,v)).dot(Q[j:,j:])\n",
    "    return Q"
   ]
  },
  {
   "cell_type": "markdown",
   "id": "94d305aa",
   "metadata": {},
   "source": [
    "## Ejemplo: QR con Householder\n",
    "\n",
    "Sea la matriz\n",
    "\\begin{equation}\n",
    "A = \\begin{bmatrix}\n",
    "1 & 1 & 2 \\\\ 1 & 0 & -2 \\\\ -1 & 2 & 3 \\end{bmatrix}\n",
    "\\end{equation}\n",
    "Encuentre la factorizacion $A=QR$"
   ]
  },
  {
   "cell_type": "code",
   "execution_count": 10,
   "id": "9b25bbed",
   "metadata": {},
   "outputs": [
    {
     "name": "stdout",
     "output_type": "stream",
     "text": [
      "*** Factorizacion A = QR: *** \n",
      "\n",
      "    Q = \n",
      " [[ 0.57735027  0.6172134   0.53452248]\n",
      " [ 0.57735027  0.15430335 -0.80178373]\n",
      " [-0.57735027  0.77151675 -0.26726124]] \n",
      "\n",
      "    R = \n",
      " [[ 1.73205081 -0.57735027 -1.73205081]\n",
      " [ 0.          2.1602469   3.24037035]\n",
      " [ 0.          0.          1.87082869]]\n",
      "\n",
      "  * Calculamos A - QR = \n",
      " [[ 0.00000000e+00  9.99200722e-16  1.77635684e-15]\n",
      " [ 3.33066907e-16 -7.98203887e-16 -1.55431223e-15]\n",
      " [-3.33066907e-16  8.88178420e-16  2.66453526e-15]]\n",
      "\n",
      "  * Chequeamos si Q es ortogonal: ||Q^T Q - I|| =  8.417974633764661e-16 \n",
      "\n"
     ]
    }
   ],
   "source": [
    "A = np.array([[1 ,1, 2],[1, 0, -2],[-1,2,3]],dtype=np.float64)\n",
    "Q, R = Householder_qr(A)\n",
    "\n",
    "print(\"*** Factorizacion A = QR: *** \\n\\n    Q = \\n\", Q, \"\\n\\n    R = \\n\", R)\n",
    "print(\"\\n  * Calculamos A - QR = \\n\", A - Q@R)\n",
    "print(\"\\n  * Chequeamos si Q es ortogonal: ||Q^T Q - I|| = \", np.linalg.norm(Q.T@Q - np.eye(3)), \"\\n\")"
   ]
  },
  {
   "cell_type": "markdown",
   "id": "2bd77af9",
   "metadata": {},
   "source": [
    "## Ejemplo: Householder comparacion 1\n",
    "\n",
    "Comparacion de algoritmos de Gram-Schmidt clasico vs. Gram Schmidt modificado vs. Householder\n",
    "\n",
    "Resolvemos la factorizacion QR de la siguiente matriz\n",
    "\\begin{equation*}\n",
    "A = \n",
    "\\begin{bmatrix}\n",
    " 1 & \\ldots &1 \\\\\n",
    "\\vdots & \\ddots &\\vdots \\\\\n",
    " 1 & \\ldots &1\n",
    "\\end{bmatrix}\n",
    "+\\epsilon\n",
    "I, \\quad A\\in \\mathbb R^{10\\times 10}\n",
    "\\end{equation*}"
   ]
  },
  {
   "cell_type": "code",
   "execution_count": 11,
   "id": "19a87171",
   "metadata": {},
   "outputs": [
    {
     "name": "stdout",
     "output_type": "stream",
     "text": [
      "***  QR numpy.linalg \n",
      "\n",
      "    || A - QR ||2    : 1.85775845048325e-15\n",
      "    || Q.T@Q - I ||2 : 1.3847704561580154e-15\n",
      "    || q1*q2 ||2     : -2.7755575615628914e-16\n",
      "\n",
      " \n",
      "***  Gram-Schmidt clasico \n",
      "\n",
      "    || A - QR ||2    : 9.019494489765868e-16\n",
      "    || Q.T@Q - I ||2 : 0.3674695563835977\n",
      "    || q1*q2 ||2     : 2.3038121410579038e-10\n",
      "\n",
      " \n",
      "***  Gram-Schmidt modificado \n",
      "\n",
      "    || A - QR ||2    : 1.0295784775289034e-15\n",
      "    || Q.T@Q - I ||2 : 7.830815093173928e-09\n",
      "    || q1*q2 ||2     : 2.3038121410579038e-10\n",
      "\n",
      " \n",
      "***  Householder \n",
      "\n",
      "    || A - QR ||2    : 3.1046568547376115e-15\n",
      "    || Q.T@Q - I ||2 : 2.0229856393972296e-15\n",
      "    || q1*q2 ||2     : 8.326672684688674e-17\n",
      "\n",
      " \n"
     ]
    }
   ],
   "source": [
    "ep = 10**(-7); n = 10\n",
    "A = np.ones((n,n)) + ep*np.eye((n))\n",
    "\n",
    "printQRinfo(A, np.linalg.qr, algo=\"QR numpy.linalg\")\n",
    "printQRinfo(A, GramSchmidt_clasico, algo=\"Gram-Schmidt clasico\")\n",
    "printQRinfo(A, GramSchmidt_modificado, algo=\"Gram-Schmidt modificado\")\n",
    "printQRinfo(A, Householder_qr, algo=\"Householder\")"
   ]
  },
  {
   "cell_type": "markdown",
   "id": "114007d6",
   "metadata": {},
   "source": [
    "## Ejemplo: Householder comparacion 2\n",
    "\n",
    "Comparacion de algoritmos de Gram-Schmidt clasico vs. Gram Schmidt modificado vs. Householder\n",
    "\n",
    "Resolvemos la factorizacion QR de la matriz de Hilbert\n",
    "\\begin{equation*}\n",
    "A = \n",
    "\\begin{bmatrix}\n",
    "1 & 1/2 & \\ldots &1/n \\\\\n",
    "1/2& 1/3 & \\ddots & \\vdots \\\\\n",
    "\\vdots &\\ddots & \\ddots &1/(2n-2) \\\\\n",
    "1/n & \\ldots & 1/(2n-2) &1/(2n-1)\n",
    "\\end{bmatrix}\n",
    "\\end{equation*}"
   ]
  },
  {
   "cell_type": "code",
   "execution_count": 12,
   "id": "928d654e",
   "metadata": {},
   "outputs": [
    {
     "name": "stdout",
     "output_type": "stream",
     "text": [
      "***  QR numpy.linalg \n",
      "\n",
      "    || A - QR ||2    : 7.379734683741013e-16\n",
      "    || Q.T@Q - I ||2 : 1.4966911727351185e-15\n",
      "    || q1*q2 ||2     : 1.3877787807814457e-16\n",
      "\n",
      " \n",
      "***  Gram-Schmidt clasico \n",
      "\n",
      "    || A - QR ||2    : 1.1485913163110961e-16\n",
      "    || Q.T@Q - I ||2 : 3.465983433241716\n",
      "    || q1*q2 ||2     : 1.1934897514720433e-15\n",
      "\n",
      " \n",
      "***  Gram-Schmidt modificado \n",
      "\n",
      "    || A - QR ||2    : 1.930459645366694e-16\n",
      "    || Q.T@Q - I ||2 : 2.6141222185919056e-05\n",
      "    || q1*q2 ||2     : 1.1934897514720433e-15\n",
      "\n",
      " \n",
      "***  Householder \n",
      "\n",
      "    || A - QR ||2    : 8.127989414199748e-16\n",
      "    || Q.T@Q - I ||2 : 1.6855043879505846e-15\n",
      "    || q1*q2 ||2     : -2.7755575615628914e-16\n",
      "\n",
      " \n"
     ]
    }
   ],
   "source": [
    "from scipy.linalg import hilbert\n",
    "H = hilbert(10)\n",
    "\n",
    "printQRinfo(H, np.linalg.qr, algo=\"QR numpy.linalg\")\n",
    "printQRinfo(H, GramSchmidt_clasico, algo=\"Gram-Schmidt clasico\")\n",
    "printQRinfo(H, GramSchmidt_modificado, algo=\"Gram-Schmidt modificado\")\n",
    "printQRinfo(H, Householder_qr, algo=\"Householder\")"
   ]
  },
  {
   "cell_type": "markdown",
   "id": "c60f6866",
   "metadata": {},
   "source": [
    "## Algoritmo rotaciones de Givens\n",
    "\n",
    "- **Rotacion de Givens simple dado dos valores** ``Givens``\n",
    "- **vector Gx** ``computeGx``\n",
    "- **Calcula la factorizacion QR usando Givens** ``Givens_qr``\n"
   ]
  },
  {
   "cell_type": "code",
   "execution_count": 13,
   "id": "7985ff25",
   "metadata": {},
   "outputs": [],
   "source": [
    "def Givens(a,b):\n",
    "    if b == 0:\n",
    "        c = 1; s = 0\n",
    "        return c, s\n",
    "    else:\n",
    "        if abs(b) > abs(a):\n",
    "            tau = -a/b; s = 1.0/np.sqrt(1.0+tau*tau); c = s*tau\n",
    "            return c, s\n",
    "        else:\n",
    "            tau = -b/a; c = 1.0/np.sqrt(1.0+tau*tau); s = c*tau\n",
    "            return c, s\n",
    "\n",
    "def computeGx(i,k,x):\n",
    "    y = x.copy()\n",
    "    (c, s) = Givens(x[i],x[k])  \n",
    "    y[i] = c*x[i] - s*x[k]\n",
    "    y[k] = s*x[i] + c*x[k]\n",
    "    return y\n",
    "\n",
    "def Givens_qr(Ain, plot=False):\n",
    "    '''\n",
    "    Compute QR decomposition of A m\\times n\n",
    "    Input :\n",
    "    Output:\n",
    "    '''\n",
    "    A = Ain.copy()\n",
    "    \n",
    "    m, n = A.shape\n",
    "    if plot:\n",
    "        fig,ax = plt.subplots(3,5)\n",
    "        listax = [axi for axi in ax.reshape(-1)]\n",
    "        \n",
    "        k= 0 \n",
    "    for j in range(n):\n",
    "        for i in reversed(range(j+1,m)):\n",
    "            (c, s) = Givens(A[i-1,j],A[i,j])  \n",
    "            A[[i-1,i],j:] = np.array([[c,-s],[s,c]])@A[[i-1,i],j:]\n",
    "            if plot:\n",
    "                listax[k].tick_params(left = False, right = False , bottom=False, top = False, labelleft = False , labelbottom = False) \n",
    "                listax[k].spy(A,precision=1e-14)\n",
    "                k+=1\n",
    "    if plot:\n",
    "        plt.show()\n",
    "    return A"
   ]
  },
  {
   "cell_type": "markdown",
   "id": "13a8594a",
   "metadata": {},
   "source": [
    "## Ejemplo: Givens paso a paso\n"
   ]
  },
  {
   "cell_type": "code",
   "execution_count": 14,
   "id": "2873daee",
   "metadata": {},
   "outputs": [
    {
     "data": {
      "image/png": "[encoded data removed]",
      "text/plain": [
       "<Figure size 640x480 with 15 Axes>"
      ]
     },
     "metadata": {},
     "output_type": "display_data"
    }
   ],
   "source": [
    "np.set_printoptions(precision=6)\n",
    "x = np.array([1.0,2.0,3.0,4.0])\n",
    "# print(1.0/np.sqrt(5.0), -2.0/np.sqrt(5.0))\n",
    "computeGx(1,3,x)\n",
    "A = hilbert(6)\n",
    "newA = Givens_qr(A, plot=True)"
   ]
  },
  {
   "cell_type": "markdown",
   "id": "c7161f10",
   "metadata": {},
   "source": [
    "## Ejemplo: Givens comparacion 1\n",
    "\n",
    "Comparacion de algoritmos de Gram-Schmidt clasico vs. Gram Schmidt modificado vs. Householder\n",
    "\n",
    "Resolvemos la factorizacion QR de la siguiente matriz\n",
    "\\begin{equation*}\n",
    "A = \n",
    "\\begin{bmatrix}\n",
    " 1 & \\ldots &1 \\\\\n",
    "\\vdots & \\ddots &\\vdots \\\\\n",
    " 1 & \\ldots &1\n",
    "\\end{bmatrix}\n",
    "+\\epsilon\n",
    "I, \\quad A\\in \\mathbb R^{10\\times 10}\n",
    "\\end{equation*}"
   ]
  },
  {
   "cell_type": "code",
   "execution_count": 15,
   "id": "624ca3da",
   "metadata": {},
   "outputs": [
    {
     "name": "stdout",
     "output_type": "stream",
     "text": [
      "***  QR numpy.linalg \n",
      "\n",
      "    || A - QR ||2    : 2.482534153247273e-16\n",
      "    || Q.T@Q - I ||2 : 1.7190408303919737e-16\n",
      "    || q1*q2 ||2     : -1.1102230246251565e-16\n",
      "\n",
      " \n",
      "***  Gram-Schmidt clasico \n",
      "\n",
      "    || A - QR ||2    : 0.0\n",
      "    || Q.T@Q - I ||2 : 2.2986246322602965e-09\n",
      "    || q1*q2 ||2     : 1.6253730583670745e-09\n",
      "\n",
      " \n",
      "***  Gram-Schmidt modificado \n",
      "\n",
      "    || A - QR ||2    : 2.482534153247273e-16\n",
      "    || Q.T@Q - I ||2 : 2.2986246322602965e-09\n",
      "    || q1*q2 ||2     : 1.6253730583670745e-09\n",
      "\n",
      " \n",
      "***  Householder \n",
      "\n",
      "    || A - QR ||2    : 4.577566798522237e-16\n",
      "    || Q.T@Q - I ||2 : 2.963604307473951e-16\n",
      "    || q1*q2 ||2     : -1.6653345369377348e-16\n",
      "\n",
      " \n",
      "***  Rotaciones de Givens \n",
      "\n",
      "    || A - QR ||2    : 1.9999996999999823\n",
      "    || Q.T@Q - I ||2 : 7.071068603825069\n"
     ]
    },
    {
     "ename": "IndexError",
     "evalue": "too many indices for array: array is 1-dimensional, but 2 were indexed",
     "output_type": "error",
     "traceback": [
      "\u001b[1;31m---------------------------------------------------------------------------\u001b[0m",
      "\u001b[1;31mIndexError\u001b[0m                                Traceback (most recent call last)",
      "Cell \u001b[1;32mIn[15], line 8\u001b[0m\n\u001b[0;32m      6\u001b[0m printQRinfo(A, GramSchmidt_modificado, algo\u001b[38;5;241m=\u001b[39m\u001b[38;5;124m\"\u001b[39m\u001b[38;5;124mGram-Schmidt modificado\u001b[39m\u001b[38;5;124m\"\u001b[39m)\n\u001b[0;32m      7\u001b[0m printQRinfo(A, Householder_qr, algo\u001b[38;5;241m=\u001b[39m\u001b[38;5;124m\"\u001b[39m\u001b[38;5;124mHouseholder\u001b[39m\u001b[38;5;124m\"\u001b[39m)\n\u001b[1;32m----> 8\u001b[0m \u001b[43mprintQRinfo\u001b[49m\u001b[43m(\u001b[49m\u001b[43mA\u001b[49m\u001b[43m,\u001b[49m\u001b[43m \u001b[49m\u001b[43mGivens_qr\u001b[49m\u001b[43m,\u001b[49m\u001b[43m \u001b[49m\u001b[43malgo\u001b[49m\u001b[38;5;241;43m=\u001b[39;49m\u001b[38;5;124;43m\"\u001b[39;49m\u001b[38;5;124;43mRotaciones de Givens\u001b[39;49m\u001b[38;5;124;43m\"\u001b[39;49m\u001b[43m)\u001b[49m\n",
      "Cell \u001b[1;32mIn[6], line 10\u001b[0m, in \u001b[0;36mprintQRinfo\u001b[1;34m(A, QRfun, algo)\u001b[0m\n\u001b[0;32m      8\u001b[0m \u001b[38;5;28mprint\u001b[39m(\u001b[38;5;124m\"\u001b[39m\u001b[38;5;124m    || A - QR ||2    :\u001b[39m\u001b[38;5;124m\"\u001b[39m, np\u001b[38;5;241m.\u001b[39mlinalg\u001b[38;5;241m.\u001b[39mnorm(A \u001b[38;5;241m-\u001b[39mnp\u001b[38;5;241m.\u001b[39mdot(Q,R)))\n\u001b[0;32m      9\u001b[0m \u001b[38;5;28mprint\u001b[39m(\u001b[38;5;124m\"\u001b[39m\u001b[38;5;124m    || Q.T@Q - I ||2 :\u001b[39m\u001b[38;5;124m\"\u001b[39m, np\u001b[38;5;241m.\u001b[39mlinalg\u001b[38;5;241m.\u001b[39mnorm(Q\u001b[38;5;241m.\u001b[39mT\u001b[38;5;241m@\u001b[39m Q\u001b[38;5;241m-\u001b[39mnp\u001b[38;5;241m.\u001b[39meye(n)))\n\u001b[1;32m---> 10\u001b[0m \u001b[38;5;28mprint\u001b[39m(\u001b[38;5;124m\"\u001b[39m\u001b[38;5;124m    || q1*q2 ||2     :\u001b[39m\u001b[38;5;124m\"\u001b[39m, np\u001b[38;5;241m.\u001b[39mdot(\u001b[43mQ\u001b[49m\u001b[43m[\u001b[49m\u001b[43m:\u001b[49m\u001b[43m,\u001b[49m\u001b[38;5;241;43m0\u001b[39;49m\u001b[43m]\u001b[49m, Q[:,\u001b[38;5;241m1\u001b[39m]))\n\u001b[0;32m     11\u001b[0m \u001b[38;5;28mprint\u001b[39m(\u001b[38;5;124m\"\u001b[39m\u001b[38;5;130;01m\\n\u001b[39;00m\u001b[38;5;124m \u001b[39m\u001b[38;5;124m\"\u001b[39m)\n\u001b[0;32m     12\u001b[0m \u001b[38;5;28;01mpass\u001b[39;00m\n",
      "\u001b[1;31mIndexError\u001b[0m: too many indices for array: array is 1-dimensional, but 2 were indexed"
     ]
    }
   ],
   "source": [
    "ep = 10**(-7); n = 2\n",
    "A = np.ones((n,n)) + ep*np.eye((n))\n",
    "\n",
    "printQRinfo(A, np.linalg.qr, algo=\"QR numpy.linalg\")\n",
    "printQRinfo(A, GramSchmidt_clasico, algo=\"Gram-Schmidt clasico\")\n",
    "printQRinfo(A, GramSchmidt_modificado, algo=\"Gram-Schmidt modificado\")\n",
    "printQRinfo(A, Householder_qr, algo=\"Householder\")\n",
    "printQRinfo(A, Givens_qr, algo=\"Rotaciones de Givens\")"
   ]
  },
  {
   "cell_type": "code",
   "execution_count": null,
   "id": "020d1ff8",
   "metadata": {},
   "outputs": [],
   "source": []
  }
 ],
 "metadata": {
  "kernelspec": {
   "display_name": "Python 3 (ipykernel)",
   "language": "python",
   "name": "python3"
  },
  "language_info": {
   "codemirror_mode": {
    "name": "ipython",
    "version": 3
   },
   "file_extension": ".py",
   "mimetype": "text/x-python",
   "name": "python",
   "nbconvert_exporter": "python",
   "pygments_lexer": "ipython3",
   "version": "3.10.11"
  },
  "varInspector": {
   "cols": {
    "lenName": 16,
    "lenType": 16,
    "lenVar": 40
   },
   "kernels_config": {
    "python": {
     "delete_cmd_postfix": "",
     "delete_cmd_prefix": "del ",
     "library": "var_list.py",
     "varRefreshCmd": "print(var_dic_list())"
    },
    "r": {
     "delete_cmd_postfix": ") ",
     "delete_cmd_prefix": "rm(",
     "library": "var_list.r",
     "varRefreshCmd": "cat(var_dic_list()) "
    }
   },
   "types_to_exclude": [
    "module",
    "function",
    "builtin_function_or_method",
    "instance",
    "_Feature"
   ],
   "window_display": false
  }
 },
 "nbformat": 4,
 "nbformat_minor": 5
}
